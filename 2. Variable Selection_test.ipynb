{
 "cells": [
  {
   "cell_type": "markdown",
   "metadata": {},
   "source": [
    "## VARIABLE SELECTION AND PREDICTION TEST WITH VIX_Y = T+1 and others = T"
   ]
  },
  {
   "cell_type": "code",
   "execution_count": 1,
   "metadata": {},
   "outputs": [],
   "source": [
    "import pandas as pd\n",
    "import numpy as np\n",
    "\n",
    "from pandas import read_excel\n",
    "\n",
    "import statsmodels.formula.api as smf\n",
    "from stargazer.stargazer import Stargazer\n",
    "\n",
    "from sklearn.model_selection import TimeSeriesSplit \n",
    "\n",
    "from matplotlib.patches import Patch\n",
    "import matplotlib.pyplot as plt \n",
    "\n",
    "pd.set_option('Display.max_columns', 100)\n",
    "pd.set_option('display.float_format', lambda x: '%.5f' % x)"
   ]
  },
  {
   "cell_type": "code",
   "execution_count": 2,
   "metadata": {},
   "outputs": [],
   "source": [
    "from sklearn import preprocessing\n",
    "\n",
    "from sklearn.model_selection import TimeSeriesSplit\n",
    "from sklearn.model_selection import KFold\n",
    "\n",
    "\n",
    "from sklearn.linear_model import LinearRegression\n",
    "from sklearn.linear_model import Ridge, Lasso\n",
    "from sklearn.preprocessing import StandardScaler\n",
    "from sklearn.model_selection import train_test_split, GridSearchCV\n",
    "from sklearn.pipeline import Pipeline\n",
    "from sklearn.model_selection import TimeSeriesSplit\n",
    "from matplotlib import pyplot as plt"
   ]
  },
  {
   "cell_type": "code",
   "execution_count": 7,
   "metadata": {},
   "outputs": [],
   "source": [
    "import asgl # adaptive lasso"
   ]
  },
  {
   "cell_type": "markdown",
   "metadata": {},
   "source": [
    "### ★ Loading Dataframe"
   ]
  },
  {
   "cell_type": "code",
   "execution_count": 8,
   "metadata": {},
   "outputs": [],
   "source": [
    "df_raw = read_excel(\"./data_check.xlsx\", index_col = 0)\n",
    "\n",
    "# scaler = preprocessing.MinMaxScaler()\n",
    "# prep = scaler.fit_transform(df_raw)\n",
    "# df_final = pd.DataFrame(prep, columns = df_raw.columns)"
   ]
  },
  {
   "cell_type": "code",
   "execution_count": 9,
   "metadata": {},
   "outputs": [
    {
     "data": {
      "text/plain": [
       "(2198, 46)"
      ]
     },
     "execution_count": 9,
     "metadata": {},
     "output_type": "execute_result"
    }
   ],
   "source": [
    "df_raw.shape"
   ]
  },
  {
   "cell_type": "code",
   "execution_count": 10,
   "metadata": {},
   "outputs": [
    {
     "data": {
      "text/html": [
       "<div>\n",
       "<style scoped>\n",
       "    .dataframe tbody tr th:only-of-type {\n",
       "        vertical-align: middle;\n",
       "    }\n",
       "\n",
       "    .dataframe tbody tr th {\n",
       "        vertical-align: top;\n",
       "    }\n",
       "\n",
       "    .dataframe thead th {\n",
       "        text-align: right;\n",
       "    }\n",
       "</style>\n",
       "<table border=\"1\" class=\"dataframe\">\n",
       "  <thead>\n",
       "    <tr style=\"text-align: right;\">\n",
       "      <th></th>\n",
       "      <th>VIX_Y</th>\n",
       "      <th>VIX_D_X</th>\n",
       "      <th>VIX_W_X</th>\n",
       "      <th>VIX_M_X</th>\n",
       "      <th>dis</th>\n",
       "      <th>Score</th>\n",
       "      <th>google_1</th>\n",
       "      <th>google_2</th>\n",
       "      <th>google_3</th>\n",
       "      <th>google_4</th>\n",
       "      <th>google_5</th>\n",
       "      <th>google_6</th>\n",
       "      <th>^GSPC</th>\n",
       "      <th>CL=F</th>\n",
       "      <th>^DJI</th>\n",
       "      <th>MSCI</th>\n",
       "      <th>oil</th>\n",
       "      <th>DXY</th>\n",
       "      <th>credit</th>\n",
       "      <th>term</th>\n",
       "      <th>FF</th>\n",
       "      <th>Mkt-RF</th>\n",
       "      <th>SMB</th>\n",
       "      <th>HML</th>\n",
       "      <th>RF</th>\n",
       "      <th>ST_Rev</th>\n",
       "      <th>tbill</th>\n",
       "      <th>eur</th>\n",
       "      <th>cny</th>\n",
       "      <th>gbp</th>\n",
       "      <th>jpy</th>\n",
       "      <th>GSPC_TR</th>\n",
       "      <th>DJI_TR</th>\n",
       "      <th>MSCI_TR</th>\n",
       "      <th>GSPC_TR_Change</th>\n",
       "      <th>DJI_TR_Change</th>\n",
       "      <th>MSCI_TR_Change</th>\n",
       "      <th>inf_M</th>\n",
       "      <th>SentMichigan</th>\n",
       "      <th>m1</th>\n",
       "      <th>house</th>\n",
       "      <th>indus</th>\n",
       "      <th>orders</th>\n",
       "      <th>crb</th>\n",
       "      <th>capa_level</th>\n",
       "      <th>capa_change</th>\n",
       "    </tr>\n",
       "  </thead>\n",
       "  <tbody>\n",
       "    <tr>\n",
       "      <th>2010-02-04</th>\n",
       "      <td>3.26232</td>\n",
       "      <td>3.26117</td>\n",
       "      <td>3.14441</td>\n",
       "      <td>3.03808</td>\n",
       "      <td>0.47378</td>\n",
       "      <td>0.07314</td>\n",
       "      <td>5</td>\n",
       "      <td>0</td>\n",
       "      <td>9</td>\n",
       "      <td>8</td>\n",
       "      <td>54</td>\n",
       "      <td>10</td>\n",
       "      <td>-0.00452</td>\n",
       "      <td>-0.01178</td>\n",
       "      <td>-0.00287</td>\n",
       "      <td>-0.00900</td>\n",
       "      <td>73.13000</td>\n",
       "      <td>94.14010</td>\n",
       "      <td>6.59000</td>\n",
       "      <td>3.53000</td>\n",
       "      <td>0.13321</td>\n",
       "      <td>-3.14000</td>\n",
       "      <td>-0.33000</td>\n",
       "      <td>-1.17000</td>\n",
       "      <td>0.00000</td>\n",
       "      <td>-0.62000</td>\n",
       "      <td>0.29000</td>\n",
       "      <td>-0.03244</td>\n",
       "      <td>0.00015</td>\n",
       "      <td>-0.02065</td>\n",
       "      <td>-0.00492</td>\n",
       "      <td>5.31485</td>\n",
       "      <td>2.75951</td>\n",
       "      <td>0.71836</td>\n",
       "      <td>0.26038</td>\n",
       "      <td>0.81908</td>\n",
       "      <td>-0.58001</td>\n",
       "      <td>-0.00081</td>\n",
       "      <td>-0.00965</td>\n",
       "      <td>0.01404</td>\n",
       "      <td>-0.00913</td>\n",
       "      <td>0.00391</td>\n",
       "      <td>-0.00179</td>\n",
       "      <td>-0.02557</td>\n",
       "      <td>71.07231</td>\n",
       "      <td>0.00593</td>\n",
       "    </tr>\n",
       "    <tr>\n",
       "      <th>2010-02-05</th>\n",
       "      <td>3.27752</td>\n",
       "      <td>3.26232</td>\n",
       "      <td>3.15616</td>\n",
       "      <td>3.05170</td>\n",
       "      <td>0.57929</td>\n",
       "      <td>0.16840</td>\n",
       "      <td>6</td>\n",
       "      <td>36</td>\n",
       "      <td>9</td>\n",
       "      <td>7</td>\n",
       "      <td>45</td>\n",
       "      <td>8</td>\n",
       "      <td>0.00042</td>\n",
       "      <td>-0.00630</td>\n",
       "      <td>0.00011</td>\n",
       "      <td>0.00203</td>\n",
       "      <td>71.15000</td>\n",
       "      <td>94.62180</td>\n",
       "      <td>6.81000</td>\n",
       "      <td>3.49000</td>\n",
       "      <td>0.13429</td>\n",
       "      <td>0.29000</td>\n",
       "      <td>-0.06000</td>\n",
       "      <td>0.01000</td>\n",
       "      <td>0.00000</td>\n",
       "      <td>0.68000</td>\n",
       "      <td>0.28000</td>\n",
       "      <td>-0.03458</td>\n",
       "      <td>-0.00004</td>\n",
       "      <td>-0.02017</td>\n",
       "      <td>0.00035</td>\n",
       "      <td>5.82318</td>\n",
       "      <td>2.78837</td>\n",
       "      <td>0.64618</td>\n",
       "      <td>0.05468</td>\n",
       "      <td>0.01025</td>\n",
       "      <td>0.32014</td>\n",
       "      <td>-0.00077</td>\n",
       "      <td>-0.00927</td>\n",
       "      <td>0.01376</td>\n",
       "      <td>-0.00670</td>\n",
       "      <td>0.00404</td>\n",
       "      <td>-0.00135</td>\n",
       "      <td>-0.01942</td>\n",
       "      <td>71.09571</td>\n",
       "      <td>0.00606</td>\n",
       "    </tr>\n",
       "    <tr>\n",
       "      <th>2010-02-12</th>\n",
       "      <td>3.10234</td>\n",
       "      <td>3.12369</td>\n",
       "      <td>3.21409</td>\n",
       "      <td>3.12003</td>\n",
       "      <td>0.43976</td>\n",
       "      <td>-0.12827</td>\n",
       "      <td>4</td>\n",
       "      <td>47</td>\n",
       "      <td>6</td>\n",
       "      <td>6</td>\n",
       "      <td>0</td>\n",
       "      <td>8</td>\n",
       "      <td>-0.00039</td>\n",
       "      <td>-0.00356</td>\n",
       "      <td>-0.00048</td>\n",
       "      <td>-0.00031</td>\n",
       "      <td>74.11000</td>\n",
       "      <td>93.99760</td>\n",
       "      <td>7.03000</td>\n",
       "      <td>3.59000</td>\n",
       "      <td>0.14179</td>\n",
       "      <td>-0.07000</td>\n",
       "      <td>0.97000</td>\n",
       "      <td>0.15000</td>\n",
       "      <td>0.00000</td>\n",
       "      <td>0.07000</td>\n",
       "      <td>0.34000</td>\n",
       "      <td>-0.00354</td>\n",
       "      <td>-0.00002</td>\n",
       "      <td>-0.00071</td>\n",
       "      <td>0.00045</td>\n",
       "      <td>3.71437</td>\n",
       "      <td>2.64704</td>\n",
       "      <td>0.71026</td>\n",
       "      <td>-0.04056</td>\n",
       "      <td>0.76670</td>\n",
       "      <td>-0.14991</td>\n",
       "      <td>-0.00045</td>\n",
       "      <td>-0.00656</td>\n",
       "      <td>0.01182</td>\n",
       "      <td>0.01031</td>\n",
       "      <td>0.00492</td>\n",
       "      <td>0.00178</td>\n",
       "      <td>-0.00667</td>\n",
       "      <td>71.25954</td>\n",
       "      <td>0.00697</td>\n",
       "    </tr>\n",
       "  </tbody>\n",
       "</table>\n",
       "</div>"
      ],
      "text/plain": [
       "             VIX_Y  VIX_D_X  VIX_W_X  VIX_M_X     dis    Score  google_1  \\\n",
       "2010-02-04 3.26232  3.26117  3.14441  3.03808 0.47378  0.07314         5   \n",
       "2010-02-05 3.27752  3.26232  3.15616  3.05170 0.57929  0.16840         6   \n",
       "2010-02-12 3.10234  3.12369  3.21409  3.12003 0.43976 -0.12827         4   \n",
       "\n",
       "            google_2  google_3  google_4  google_5  google_6    ^GSPC  \\\n",
       "2010-02-04         0         9         8        54        10 -0.00452   \n",
       "2010-02-05        36         9         7        45         8  0.00042   \n",
       "2010-02-12        47         6         6         0         8 -0.00039   \n",
       "\n",
       "               CL=F     ^DJI     MSCI      oil      DXY  credit    term  \\\n",
       "2010-02-04 -0.01178 -0.00287 -0.00900 73.13000 94.14010 6.59000 3.53000   \n",
       "2010-02-05 -0.00630  0.00011  0.00203 71.15000 94.62180 6.81000 3.49000   \n",
       "2010-02-12 -0.00356 -0.00048 -0.00031 74.11000 93.99760 7.03000 3.59000   \n",
       "\n",
       "                FF   Mkt-RF      SMB      HML      RF   ST_Rev   tbill  \\\n",
       "2010-02-04 0.13321 -3.14000 -0.33000 -1.17000 0.00000 -0.62000 0.29000   \n",
       "2010-02-05 0.13429  0.29000 -0.06000  0.01000 0.00000  0.68000 0.28000   \n",
       "2010-02-12 0.14179 -0.07000  0.97000  0.15000 0.00000  0.07000 0.34000   \n",
       "\n",
       "                eur      cny      gbp      jpy  GSPC_TR  DJI_TR  MSCI_TR  \\\n",
       "2010-02-04 -0.03244  0.00015 -0.02065 -0.00492  5.31485 2.75951  0.71836   \n",
       "2010-02-05 -0.03458 -0.00004 -0.02017  0.00035  5.82318 2.78837  0.64618   \n",
       "2010-02-12 -0.00354 -0.00002 -0.00071  0.00045  3.71437 2.64704  0.71026   \n",
       "\n",
       "            GSPC_TR_Change  DJI_TR_Change  MSCI_TR_Change    inf_M  \\\n",
       "2010-02-04         0.26038        0.81908        -0.58001 -0.00081   \n",
       "2010-02-05         0.05468        0.01025         0.32014 -0.00077   \n",
       "2010-02-12        -0.04056        0.76670        -0.14991 -0.00045   \n",
       "\n",
       "            SentMichigan      m1    house   indus   orders      crb  \\\n",
       "2010-02-04      -0.00965 0.01404 -0.00913 0.00391 -0.00179 -0.02557   \n",
       "2010-02-05      -0.00927 0.01376 -0.00670 0.00404 -0.00135 -0.01942   \n",
       "2010-02-12      -0.00656 0.01182  0.01031 0.00492  0.00178 -0.00667   \n",
       "\n",
       "            capa_level  capa_change  \n",
       "2010-02-04    71.07231      0.00593  \n",
       "2010-02-05    71.09571      0.00606  \n",
       "2010-02-12    71.25954      0.00697  "
      ]
     },
     "execution_count": 10,
     "metadata": {},
     "output_type": "execute_result"
    }
   ],
   "source": [
    "df_raw.head(3)"
   ]
  },
  {
   "cell_type": "code",
   "execution_count": 11,
   "metadata": {},
   "outputs": [],
   "source": [
    "# pd.DataFrame(scaler.inverse_transform(df_final), columns = df_raw.columns).head(3)"
   ]
  },
  {
   "cell_type": "markdown",
   "metadata": {},
   "source": [
    "### ☆ Cross-Validation Example and Visualization"
   ]
  },
  {
   "cell_type": "code",
   "execution_count": 12,
   "metadata": {},
   "outputs": [
    {
     "data": {
      "text/plain": [
       "KFold(n_splits=5, random_state=None, shuffle=False)"
      ]
     },
     "execution_count": 12,
     "metadata": {},
     "output_type": "execute_result"
    }
   ],
   "source": [
    "kfcv = KFold(n_splits=5, shuffle=False)\n",
    "kfcv"
   ]
  },
  {
   "cell_type": "code",
   "execution_count": 13,
   "metadata": {},
   "outputs": [
    {
     "data": {
      "text/plain": [
       "TimeSeriesSplit(gap=0, max_train_size=None, n_splits=5, test_size=None)"
      ]
     },
     "execution_count": 13,
     "metadata": {},
     "output_type": "execute_result"
    }
   ],
   "source": [
    "tscv = TimeSeriesSplit(n_splits = 5)\n",
    "tscv"
   ]
  },
  {
   "cell_type": "code",
   "execution_count": 14,
   "metadata": {},
   "outputs": [],
   "source": [
    "X_example = np.array([[1, 2], [3, 4], [1, 2], [3, 4], [1, 2], [3, 4]])\n",
    "y_example = np.array([1, 2, 3, 4, 5, 6])"
   ]
  },
  {
   "cell_type": "code",
   "execution_count": 15,
   "metadata": {},
   "outputs": [
    {
     "name": "stdout",
     "output_type": "stream",
     "text": [
      "TRAIN: [2 3 4 5] TEST: [0 1]\n",
      "TRAIN: [0 1 3 4 5] TEST: [2]\n",
      "TRAIN: [0 1 2 4 5] TEST: [3]\n",
      "TRAIN: [0 1 2 3 5] TEST: [4]\n",
      "TRAIN: [0 1 2 3 4] TEST: [5]\n"
     ]
    }
   ],
   "source": [
    "for train_index, test_index in kfcv.split(X_example):\n",
    "    print(\"TRAIN:\", train_index, \"TEST:\", test_index)\n",
    "    X_train, X_test = X_example[train_index], X_example[test_index]\n",
    "    y_train, y_test = y_example[train_index], y_example[test_index]"
   ]
  },
  {
   "cell_type": "code",
   "execution_count": 16,
   "metadata": {},
   "outputs": [
    {
     "name": "stdout",
     "output_type": "stream",
     "text": [
      "TRAIN: [0] TEST: [1]\n",
      "TRAIN: [0 1] TEST: [2]\n",
      "TRAIN: [0 1 2] TEST: [3]\n",
      "TRAIN: [0 1 2 3] TEST: [4]\n",
      "TRAIN: [0 1 2 3 4] TEST: [5]\n"
     ]
    }
   ],
   "source": [
    "for train_index, test_index in tscv.split(X_example):\n",
    "    print(\"TRAIN:\", train_index, \"TEST:\", test_index)\n",
    "    X_train, X_test = X_example[train_index], X_example[test_index]\n",
    "    y_train, y_test = y_example[train_index], y_example[test_index]"
   ]
  },
  {
   "cell_type": "code",
   "execution_count": 17,
   "metadata": {},
   "outputs": [],
   "source": [
    "# df_final.head(3)"
   ]
  },
  {
   "cell_type": "markdown",
   "metadata": {},
   "source": [
    "### ★ Train & Test Split"
   ]
  },
  {
   "cell_type": "code",
   "execution_count": 18,
   "metadata": {},
   "outputs": [],
   "source": [
    "\"\"\" Scaling MIN MAX Scaler \"\"\"\n",
    "\n",
    "X_scaler = preprocessing.MinMaxScaler()\n",
    "y_scaler = preprocessing.MinMaxScaler()\n",
    "\n",
    "y = pd.DataFrame(df_raw.loc[:, 'VIX_Y'])\n",
    "X = df_raw.loc[:, df_raw.columns != 'VIX_Y']\n",
    "\n",
    "prep_y = y_scaler.fit_transform(y)\n",
    "prep_X = X_scaler.fit_transform(X)\n",
    "\n",
    "y = pd.DataFrame(prep_y, columns = [df_raw.columns[0]])\n",
    "X = pd.DataFrame(prep_X, columns = df_raw.columns[1:])\n",
    "# X = df_final.loc[:,~(df_final.columns.isin(['VIX_Y','VIX_D_X','VIX_W_X','VIX_M_X']))]\n"
   ]
  },
  {
   "cell_type": "code",
   "execution_count": 19,
   "metadata": {},
   "outputs": [],
   "source": [
    "X_all = X.loc[:, X.columns != 'VIX_Y']\n",
    "X_eco = X.loc[:, ~(X.columns.isin(['VIX_Y','Score','dis','google_1','google_2','google_3','google_4','google_5','google_6']))]\n",
    "X_har = X.loc[:, X.columns.isin(['VIX_D_X','VIX_W_X','VIX_M_X'])]"
   ]
  },
  {
   "cell_type": "code",
   "execution_count": 20,
   "metadata": {},
   "outputs": [],
   "source": [
    "\"\"\" Train Test Split for Time Series \"\"\"\n",
    "\n",
    "train_ind = int(len(y)*0.875)\n",
    "\n",
    "X_all_train = X_all[:train_ind]\n",
    "X_eco_train = X_eco[:train_ind]\n",
    "X_har_train = X_har[:train_ind]\n",
    "y_train = y[:train_ind]\n",
    "\n",
    "X_all_test = X_all[train_ind:]\n",
    "X_eco_test = X_eco[train_ind:]\n",
    "X_har_test = X_har[train_ind:]\n",
    "y_test = y[train_ind:]"
   ]
  },
  {
   "cell_type": "code",
   "execution_count": 195,
   "metadata": {},
   "outputs": [
    {
     "data": {
      "text/html": [
       "<div>\n",
       "<style scoped>\n",
       "    .dataframe tbody tr th:only-of-type {\n",
       "        vertical-align: middle;\n",
       "    }\n",
       "\n",
       "    .dataframe tbody tr th {\n",
       "        vertical-align: top;\n",
       "    }\n",
       "\n",
       "    .dataframe thead th {\n",
       "        text-align: right;\n",
       "    }\n",
       "</style>\n",
       "<table border=\"1\" class=\"dataframe\">\n",
       "  <thead>\n",
       "    <tr style=\"text-align: right;\">\n",
       "      <th></th>\n",
       "      <th>VIX_D_X</th>\n",
       "      <th>VIX_W_X</th>\n",
       "      <th>VIX_M_X</th>\n",
       "    </tr>\n",
       "  </thead>\n",
       "  <tbody>\n",
       "    <tr>\n",
       "      <th>1918</th>\n",
       "      <td>0.04755</td>\n",
       "      <td>0.02324</td>\n",
       "      <td>0.02637</td>\n",
       "    </tr>\n",
       "    <tr>\n",
       "      <th>1919</th>\n",
       "      <td>0.04081</td>\n",
       "      <td>0.01761</td>\n",
       "      <td>0.02451</td>\n",
       "    </tr>\n",
       "    <tr>\n",
       "      <th>1920</th>\n",
       "      <td>0.08364</td>\n",
       "      <td>0.02508</td>\n",
       "      <td>0.02590</td>\n",
       "    </tr>\n",
       "    <tr>\n",
       "      <th>1921</th>\n",
       "      <td>0.13849</td>\n",
       "      <td>0.08034</td>\n",
       "      <td>0.03558</td>\n",
       "    </tr>\n",
       "    <tr>\n",
       "      <th>1922</th>\n",
       "      <td>0.14319</td>\n",
       "      <td>0.10157</td>\n",
       "      <td>0.04193</td>\n",
       "    </tr>\n",
       "  </tbody>\n",
       "</table>\n",
       "</div>"
      ],
      "text/plain": [
       "      VIX_D_X  VIX_W_X  VIX_M_X\n",
       "1918  0.04755  0.02324  0.02637\n",
       "1919  0.04081  0.01761  0.02451\n",
       "1920  0.08364  0.02508  0.02590\n",
       "1921  0.13849  0.08034  0.03558\n",
       "1922  0.14319  0.10157  0.04193"
      ]
     },
     "execution_count": 195,
     "metadata": {},
     "output_type": "execute_result"
    }
   ],
   "source": [
    "X_all_train.iloc[:,0:3].tail()"
   ]
  },
  {
   "cell_type": "code",
   "execution_count": 193,
   "metadata": {},
   "outputs": [
    {
     "data": {
      "text/html": [
       "<div>\n",
       "<style scoped>\n",
       "    .dataframe tbody tr th:only-of-type {\n",
       "        vertical-align: middle;\n",
       "    }\n",
       "\n",
       "    .dataframe tbody tr th {\n",
       "        vertical-align: top;\n",
       "    }\n",
       "\n",
       "    .dataframe thead th {\n",
       "        text-align: right;\n",
       "    }\n",
       "</style>\n",
       "<table border=\"1\" class=\"dataframe\">\n",
       "  <thead>\n",
       "    <tr style=\"text-align: right;\">\n",
       "      <th></th>\n",
       "      <th>VIX_D_X</th>\n",
       "      <th>VIX_W_X</th>\n",
       "      <th>VIX_M_X</th>\n",
       "    </tr>\n",
       "  </thead>\n",
       "  <tbody>\n",
       "    <tr>\n",
       "      <th>0</th>\n",
       "      <td>0.63219</td>\n",
       "      <td>0.60666</td>\n",
       "      <td>0.56351</td>\n",
       "    </tr>\n",
       "    <tr>\n",
       "      <th>1</th>\n",
       "      <td>0.63288</td>\n",
       "      <td>0.61452</td>\n",
       "      <td>0.57368</td>\n",
       "    </tr>\n",
       "    <tr>\n",
       "      <th>2</th>\n",
       "      <td>0.54929</td>\n",
       "      <td>0.65329</td>\n",
       "      <td>0.62469</td>\n",
       "    </tr>\n",
       "    <tr>\n",
       "      <th>3</th>\n",
       "      <td>0.53642</td>\n",
       "      <td>0.62984</td>\n",
       "      <td>0.63217</td>\n",
       "    </tr>\n",
       "    <tr>\n",
       "      <th>4</th>\n",
       "      <td>0.52189</td>\n",
       "      <td>0.60577</td>\n",
       "      <td>0.63925</td>\n",
       "    </tr>\n",
       "  </tbody>\n",
       "</table>\n",
       "</div>"
      ],
      "text/plain": [
       "   VIX_D_X  VIX_W_X  VIX_M_X\n",
       "0  0.63219  0.60666  0.56351\n",
       "1  0.63288  0.61452  0.57368\n",
       "2  0.54929  0.65329  0.62469\n",
       "3  0.53642  0.62984  0.63217\n",
       "4  0.52189  0.60577  0.63925"
      ]
     },
     "execution_count": 193,
     "metadata": {},
     "output_type": "execute_result"
    }
   ],
   "source": [
    "X_eco_train.iloc[:,0:3].head()"
   ]
  },
  {
   "cell_type": "code",
   "execution_count": 22,
   "metadata": {},
   "outputs": [
    {
     "data": {
      "text/plain": [
       "((1923, 1), (275, 1))"
      ]
     },
     "execution_count": 22,
     "metadata": {},
     "output_type": "execute_result"
    }
   ],
   "source": [
    "y_train.shape, y_test.shape"
   ]
  },
  {
   "cell_type": "markdown",
   "metadata": {},
   "source": [
    "### CV using Pipeline"
   ]
  },
  {
   "cell_type": "code",
   "execution_count": 23,
   "metadata": {},
   "outputs": [],
   "source": [
    "\"\"\" LASSO \"\"\"\n",
    "pipeline = Pipeline([('model', Lasso())])\n",
    "\n",
    "# \"\"\" LASSO \"\"\"\n",
    "# pipeline = Pipeline([('scaler', StandardScaler()),('model', Lasso())])"
   ]
  },
  {
   "cell_type": "markdown",
   "metadata": {},
   "source": [
    "#### ★ K-Fold CV"
   ]
  },
  {
   "cell_type": "code",
   "execution_count": 24,
   "metadata": {},
   "outputs": [
    {
     "data": {
      "text/plain": [
       "KFold(n_splits=5, random_state=None, shuffle=False)"
      ]
     },
     "execution_count": 24,
     "metadata": {},
     "output_type": "execute_result"
    }
   ],
   "source": [
    "kfcv = KFold(n_splits=5, shuffle=False)\n",
    "kfcv"
   ]
  },
  {
   "cell_type": "code",
   "execution_count": 25,
   "metadata": {},
   "outputs": [
    {
     "data": {
      "text/plain": [
       "{'model__alpha': 0.001}"
      ]
     },
     "execution_count": 25,
     "metadata": {},
     "output_type": "execute_result"
    }
   ],
   "source": [
    "search_kfcv = GridSearchCV(pipeline,\n",
    "                      {'model__alpha':np.arange(0.001,2,0.1)},\n",
    "                      cv = kfcv, scoring=\"neg_mean_squared_error\",verbose=0\n",
    "                      )\n",
    "\n",
    "search_kfcv.fit(X_all_train, y_train)\n",
    "search_kfcv.best_params_\n",
    "\n",
    "# search_kfcv.best_score_"
   ]
  },
  {
   "cell_type": "code",
   "execution_count": 26,
   "metadata": {},
   "outputs": [
    {
     "data": {
      "text/plain": [
       "<Figure size 720x720 with 0 Axes>"
      ]
     },
     "execution_count": 26,
     "metadata": {},
     "output_type": "execute_result"
    },
    {
     "data": {
      "image/png": "[encoded data removed]",
      "text/plain": [
       "<Figure size 432x288 with 1 Axes>"
      ]
     },
     "metadata": {
      "needs_background": "light"
     },
     "output_type": "display_data"
    },
    {
     "data": {
      "text/plain": [
       "<Figure size 720x720 with 0 Axes>"
      ]
     },
     "metadata": {},
     "output_type": "display_data"
    }
   ],
   "source": [
    "coefficients = search_kfcv.best_estimator_.named_steps['model'].coef_\n",
    "importance = np.abs(coefficients)\n",
    "\n",
    "plt.barh(X_all_train.columns[importance > 0], importance[importance>0], align='center')\n",
    "plt.figure(figsize=(10,10))"
   ]
  },
  {
   "cell_type": "code",
   "execution_count": 27,
   "metadata": {},
   "outputs": [
    {
     "data": {
      "image/png": "[encoded data removed]",
      "text/plain": [
       "<Figure size 576x432 with 1 Axes>"
      ]
     },
     "metadata": {
      "needs_background": "light"
     },
     "output_type": "display_data"
    }
   ],
   "source": [
    "import seaborn as sns\n",
    "plt.figure(figsize=(8,6))\n",
    "sns.barplot(x=importance[importance>0] , y=X_all_train.columns[importance > 0])\n",
    "plt.xlabel(\"Importance\")\n",
    "plt.ylabel(\"Features\")\n",
    "plt.title(\"Feature Importance Lasso\")\n",
    "plt.show()"
   ]
  },
  {
   "cell_type": "markdown",
   "metadata": {},
   "source": [
    "#### ★ Time Series CV"
   ]
  },
  {
   "cell_type": "code",
   "execution_count": 28,
   "metadata": {},
   "outputs": [
    {
     "data": {
      "text/plain": [
       "{'model__alpha': 0.001}"
      ]
     },
     "execution_count": 28,
     "metadata": {},
     "output_type": "execute_result"
    }
   ],
   "source": [
    "search_tscv = GridSearchCV(pipeline,\n",
    "                      {'model__alpha':np.arange(0.001,2,0.1)},\n",
    "                      cv = tscv, scoring=\"neg_mean_squared_error\",verbose=0\n",
    "                      )\n",
    "\n",
    "search_tscv.fit(X_all_train, y_train)\n",
    "search_tscv.best_params_\n",
    "\n",
    "# search_tscv.best_score_"
   ]
  },
  {
   "cell_type": "code",
   "execution_count": 179,
   "metadata": {},
   "outputs": [
    {
     "data": {
      "text/plain": [
       "<Figure size 720x720 with 0 Axes>"
      ]
     },
     "execution_count": 179,
     "metadata": {},
     "output_type": "execute_result"
    },
    {
     "data": {
      "image/png": "[encoded data removed]",
      "text/plain": [
       "<Figure size 432x288 with 1 Axes>"
      ]
     },
     "metadata": {
      "needs_background": "light"
     },
     "output_type": "display_data"
    },
    {
     "data": {
      "text/plain": [
       "<Figure size 720x720 with 0 Axes>"
      ]
     },
     "metadata": {},
     "output_type": "display_data"
    }
   ],
   "source": [
    "coefficients = search_tscv.best_estimator_.named_steps['model'].coef_\n",
    "importance = np.abs(coefficients)\n",
    "\n",
    "plt.barh(X_all_train.columns[importance > 0], importance[importance>0], align='center')\n",
    "plt.figure(figsize=(10,10))"
   ]
  },
  {
   "cell_type": "code",
   "execution_count": 30,
   "metadata": {},
   "outputs": [
    {
     "data": {
      "image/png": "[encoded data removed]",
      "text/plain": [
       "<Figure size 576x432 with 1 Axes>"
      ]
     },
     "metadata": {
      "needs_background": "light"
     },
     "output_type": "display_data"
    }
   ],
   "source": [
    "import seaborn as sns\n",
    "plt.figure(figsize=(8,6))\n",
    "sns.barplot(x=importance[importance>0] , y=X_all_train.columns[importance > 0])\n",
    "plt.xlabel(\"Importance\")\n",
    "plt.ylabel(\"Features\")\n",
    "plt.title(\"Feature Importance Lasso : Time-Srei\")\n",
    "plt.show()"
   ]
  },
  {
   "cell_type": "markdown",
   "metadata": {},
   "source": [
    "#### ★ Block Time Series CV"
   ]
  },
  {
   "cell_type": "code",
   "execution_count": 31,
   "metadata": {},
   "outputs": [],
   "source": [
    "class BlockingTimeSeriesSplit():\n",
    "    \n",
    "    def __init__(self, n_splits):\n",
    "        self.n_splits = n_splits\n",
    "    \n",
    "    def get_n_splits(self):\n",
    "        return self.n_splits\n",
    "    \n",
    "    def split(self, X, y=None, groups=None):\n",
    "        n_samples = len(X)\n",
    "        k_fold_size = n_samples // self.n_splits\n",
    "        indices = np.arange(n_samples)\n",
    "    \n",
    "        margin = 0\n",
    "        for i in range(self.n_splits):\n",
    "            start = i * k_fold_size\n",
    "            stop = start + k_fold_size\n",
    "            mid = int(0.7 * (stop - start)) + start\n",
    "            yield indices[start: mid], indices[mid + margin: stop]"
   ]
  },
  {
   "cell_type": "markdown",
   "metadata": {},
   "source": [
    "### ★ Lasso Regression"
   ]
  },
  {
   "cell_type": "code",
   "execution_count": 32,
   "metadata": {},
   "outputs": [],
   "source": [
    "from sklearn.linear_model import LinearRegression, Ridge, Lasso\n",
    "from sklearn.metrics import r2_score,mean_absolute_error, mean_squared_error\n",
    "import numpy as np"
   ]
  },
  {
   "cell_type": "code",
   "execution_count": 217,
   "metadata": {},
   "outputs": [],
   "source": [
    "X_all_train = round(X_all_train, 4)\n",
    "y_train = round(y_train, 4)"
   ]
  },
  {
   "cell_type": "code",
   "execution_count": 222,
   "metadata": {},
   "outputs": [
    {
     "data": {
      "text/html": [
       "<div>\n",
       "<style scoped>\n",
       "    .dataframe tbody tr th:only-of-type {\n",
       "        vertical-align: middle;\n",
       "    }\n",
       "\n",
       "    .dataframe tbody tr th {\n",
       "        vertical-align: top;\n",
       "    }\n",
       "\n",
       "    .dataframe thead th {\n",
       "        text-align: right;\n",
       "    }\n",
       "</style>\n",
       "<table border=\"1\" class=\"dataframe\">\n",
       "  <thead>\n",
       "    <tr style=\"text-align: right;\">\n",
       "      <th></th>\n",
       "      <th>VIX_D_X</th>\n",
       "      <th>VIX_W_X</th>\n",
       "      <th>VIX_M_X</th>\n",
       "      <th>dis</th>\n",
       "      <th>Score</th>\n",
       "      <th>google_1</th>\n",
       "      <th>google_2</th>\n",
       "      <th>google_3</th>\n",
       "      <th>google_4</th>\n",
       "      <th>google_5</th>\n",
       "      <th>google_6</th>\n",
       "      <th>^GSPC</th>\n",
       "      <th>CL=F</th>\n",
       "      <th>^DJI</th>\n",
       "      <th>MSCI</th>\n",
       "      <th>oil</th>\n",
       "      <th>DXY</th>\n",
       "      <th>credit</th>\n",
       "      <th>term</th>\n",
       "      <th>FF</th>\n",
       "      <th>Mkt-RF</th>\n",
       "      <th>SMB</th>\n",
       "      <th>HML</th>\n",
       "      <th>RF</th>\n",
       "      <th>ST_Rev</th>\n",
       "      <th>tbill</th>\n",
       "      <th>eur</th>\n",
       "      <th>cny</th>\n",
       "      <th>gbp</th>\n",
       "      <th>jpy</th>\n",
       "      <th>GSPC_TR</th>\n",
       "      <th>DJI_TR</th>\n",
       "      <th>MSCI_TR</th>\n",
       "      <th>GSPC_TR_Change</th>\n",
       "      <th>DJI_TR_Change</th>\n",
       "      <th>MSCI_TR_Change</th>\n",
       "      <th>inf_M</th>\n",
       "      <th>SentMichigan</th>\n",
       "      <th>m1</th>\n",
       "      <th>house</th>\n",
       "      <th>indus</th>\n",
       "      <th>orders</th>\n",
       "      <th>crb</th>\n",
       "      <th>capa_level</th>\n",
       "      <th>capa_change</th>\n",
       "    </tr>\n",
       "  </thead>\n",
       "  <tbody>\n",
       "    <tr>\n",
       "      <th>0</th>\n",
       "      <td>0.63220</td>\n",
       "      <td>0.60670</td>\n",
       "      <td>0.56350</td>\n",
       "      <td>0.44840</td>\n",
       "      <td>0.32210</td>\n",
       "      <td>0.03060</td>\n",
       "      <td>0.00000</td>\n",
       "      <td>0.09000</td>\n",
       "      <td>0.09520</td>\n",
       "      <td>0.54000</td>\n",
       "      <td>0.10000</td>\n",
       "      <td>0.31900</td>\n",
       "      <td>0.21950</td>\n",
       "      <td>0.29520</td>\n",
       "      <td>0.62020</td>\n",
       "      <td>0.53830</td>\n",
       "      <td>0.25680</td>\n",
       "      <td>0.57740</td>\n",
       "      <td>0.91450</td>\n",
       "      <td>0.02870</td>\n",
       "      <td>0.31840</td>\n",
       "      <td>0.29540</td>\n",
       "      <td>0.16510</td>\n",
       "      <td>0.00000</td>\n",
       "      <td>0.43520</td>\n",
       "      <td>0.08530</td>\n",
       "      <td>0.39990</td>\n",
       "      <td>0.40640</td>\n",
       "      <td>0.65230</td>\n",
       "      <td>0.17360</td>\n",
       "      <td>0.56720</td>\n",
       "      <td>0.66930</td>\n",
       "      <td>0.06780</td>\n",
       "      <td>0.70060</td>\n",
       "      <td>0.23540</td>\n",
       "      <td>0.45340</td>\n",
       "      <td>0.45290</td>\n",
       "      <td>0.53780</td>\n",
       "      <td>0.38670</td>\n",
       "      <td>0.45710</td>\n",
       "      <td>0.58580</td>\n",
       "      <td>0.51160</td>\n",
       "      <td>0.24750</td>\n",
       "      <td>0.00000</td>\n",
       "      <td>0.61220</td>\n",
       "    </tr>\n",
       "    <tr>\n",
       "      <th>1</th>\n",
       "      <td>0.63290</td>\n",
       "      <td>0.61450</td>\n",
       "      <td>0.57370</td>\n",
       "      <td>0.61110</td>\n",
       "      <td>0.39590</td>\n",
       "      <td>0.04080</td>\n",
       "      <td>0.36000</td>\n",
       "      <td>0.09000</td>\n",
       "      <td>0.07940</td>\n",
       "      <td>0.45000</td>\n",
       "      <td>0.08000</td>\n",
       "      <td>0.62130</td>\n",
       "      <td>0.30990</td>\n",
       "      <td>0.56630</td>\n",
       "      <td>0.70520</td>\n",
       "      <td>0.51560</td>\n",
       "      <td>0.27110</td>\n",
       "      <td>0.61450</td>\n",
       "      <td>0.90310</td>\n",
       "      <td>0.02920</td>\n",
       "      <td>0.60350</td>\n",
       "      <td>0.34340</td>\n",
       "      <td>0.43950</td>\n",
       "      <td>0.00000</td>\n",
       "      <td>0.62890</td>\n",
       "      <td>0.08140</td>\n",
       "      <td>0.39770</td>\n",
       "      <td>0.39480</td>\n",
       "      <td>0.65400</td>\n",
       "      <td>0.52770</td>\n",
       "      <td>0.62720</td>\n",
       "      <td>0.67650</td>\n",
       "      <td>0.06060</td>\n",
       "      <td>0.69900</td>\n",
       "      <td>0.23320</td>\n",
       "      <td>0.45850</td>\n",
       "      <td>0.45670</td>\n",
       "      <td>0.53940</td>\n",
       "      <td>0.38290</td>\n",
       "      <td>0.46300</td>\n",
       "      <td>0.59140</td>\n",
       "      <td>0.51250</td>\n",
       "      <td>0.31260</td>\n",
       "      <td>0.00250</td>\n",
       "      <td>0.61750</td>\n",
       "    </tr>\n",
       "    <tr>\n",
       "      <th>2</th>\n",
       "      <td>0.54930</td>\n",
       "      <td>0.65330</td>\n",
       "      <td>0.62470</td>\n",
       "      <td>0.39600</td>\n",
       "      <td>0.16620</td>\n",
       "      <td>0.02040</td>\n",
       "      <td>0.47000</td>\n",
       "      <td>0.06000</td>\n",
       "      <td>0.06350</td>\n",
       "      <td>0.00000</td>\n",
       "      <td>0.08000</td>\n",
       "      <td>0.57170</td>\n",
       "      <td>0.35500</td>\n",
       "      <td>0.51240</td>\n",
       "      <td>0.68710</td>\n",
       "      <td>0.54950</td>\n",
       "      <td>0.25260</td>\n",
       "      <td>0.65150</td>\n",
       "      <td>0.93160</td>\n",
       "      <td>0.03260</td>\n",
       "      <td>0.57360</td>\n",
       "      <td>0.52670</td>\n",
       "      <td>0.47210</td>\n",
       "      <td>0.00000</td>\n",
       "      <td>0.53800</td>\n",
       "      <td>0.10470</td>\n",
       "      <td>0.42970</td>\n",
       "      <td>0.39620</td>\n",
       "      <td>0.72160</td>\n",
       "      <td>0.53420</td>\n",
       "      <td>0.37820</td>\n",
       "      <td>0.64140</td>\n",
       "      <td>0.06700</td>\n",
       "      <td>0.69830</td>\n",
       "      <td>0.23520</td>\n",
       "      <td>0.45580</td>\n",
       "      <td>0.48330</td>\n",
       "      <td>0.55080</td>\n",
       "      <td>0.35580</td>\n",
       "      <td>0.50430</td>\n",
       "      <td>0.63070</td>\n",
       "      <td>0.51900</td>\n",
       "      <td>0.44750</td>\n",
       "      <td>0.02030</td>\n",
       "      <td>0.65470</td>\n",
       "    </tr>\n",
       "    <tr>\n",
       "      <th>3</th>\n",
       "      <td>0.53640</td>\n",
       "      <td>0.62980</td>\n",
       "      <td>0.63220</td>\n",
       "      <td>0.39350</td>\n",
       "      <td>0.42510</td>\n",
       "      <td>0.02040</td>\n",
       "      <td>0.30000</td>\n",
       "      <td>0.04000</td>\n",
       "      <td>0.04760</td>\n",
       "      <td>0.15000</td>\n",
       "      <td>0.07000</td>\n",
       "      <td>0.75240</td>\n",
       "      <td>0.55950</td>\n",
       "      <td>0.72100</td>\n",
       "      <td>0.72230</td>\n",
       "      <td>0.58250</td>\n",
       "      <td>0.23730</td>\n",
       "      <td>0.64980</td>\n",
       "      <td>0.92310</td>\n",
       "      <td>0.03460</td>\n",
       "      <td>0.72490</td>\n",
       "      <td>0.32920</td>\n",
       "      <td>0.67210</td>\n",
       "      <td>0.00000</td>\n",
       "      <td>0.64080</td>\n",
       "      <td>0.10080</td>\n",
       "      <td>0.46180</td>\n",
       "      <td>0.39710</td>\n",
       "      <td>0.75510</td>\n",
       "      <td>0.58040</td>\n",
       "      <td>0.36220</td>\n",
       "      <td>0.49570</td>\n",
       "      <td>0.01830</td>\n",
       "      <td>0.69840</td>\n",
       "      <td>0.23250</td>\n",
       "      <td>0.47620</td>\n",
       "      <td>0.49840</td>\n",
       "      <td>0.55720</td>\n",
       "      <td>0.34030</td>\n",
       "      <td>0.52780</td>\n",
       "      <td>0.65310</td>\n",
       "      <td>0.52280</td>\n",
       "      <td>0.78860</td>\n",
       "      <td>0.03040</td>\n",
       "      <td>0.67590</td>\n",
       "    </tr>\n",
       "    <tr>\n",
       "      <th>4</th>\n",
       "      <td>0.52190</td>\n",
       "      <td>0.60580</td>\n",
       "      <td>0.63930</td>\n",
       "      <td>0.31330</td>\n",
       "      <td>0.27310</td>\n",
       "      <td>0.02040</td>\n",
       "      <td>0.00000</td>\n",
       "      <td>0.06000</td>\n",
       "      <td>0.06350</td>\n",
       "      <td>0.20000</td>\n",
       "      <td>0.09000</td>\n",
       "      <td>0.63290</td>\n",
       "      <td>0.42940</td>\n",
       "      <td>0.59510</td>\n",
       "      <td>0.64970</td>\n",
       "      <td>0.58580</td>\n",
       "      <td>0.24430</td>\n",
       "      <td>0.61280</td>\n",
       "      <td>0.94590</td>\n",
       "      <td>0.03510</td>\n",
       "      <td>0.62010</td>\n",
       "      <td>0.38080</td>\n",
       "      <td>0.46510</td>\n",
       "      <td>0.00000</td>\n",
       "      <td>0.56040</td>\n",
       "      <td>0.10470</td>\n",
       "      <td>0.40520</td>\n",
       "      <td>0.39710</td>\n",
       "      <td>0.71040</td>\n",
       "      <td>0.55860</td>\n",
       "      <td>0.37860</td>\n",
       "      <td>0.40300</td>\n",
       "      <td>0.05020</td>\n",
       "      <td>0.69880</td>\n",
       "      <td>0.23250</td>\n",
       "      <td>0.45330</td>\n",
       "      <td>0.50220</td>\n",
       "      <td>0.55880</td>\n",
       "      <td>0.33640</td>\n",
       "      <td>0.53370</td>\n",
       "      <td>0.65870</td>\n",
       "      <td>0.52370</td>\n",
       "      <td>0.48230</td>\n",
       "      <td>0.03290</td>\n",
       "      <td>0.68130</td>\n",
       "    </tr>\n",
       "    <tr>\n",
       "      <th>...</th>\n",
       "      <td>...</td>\n",
       "      <td>...</td>\n",
       "      <td>...</td>\n",
       "      <td>...</td>\n",
       "      <td>...</td>\n",
       "      <td>...</td>\n",
       "      <td>...</td>\n",
       "      <td>...</td>\n",
       "      <td>...</td>\n",
       "      <td>...</td>\n",
       "      <td>...</td>\n",
       "      <td>...</td>\n",
       "      <td>...</td>\n",
       "      <td>...</td>\n",
       "      <td>...</td>\n",
       "      <td>...</td>\n",
       "      <td>...</td>\n",
       "      <td>...</td>\n",
       "      <td>...</td>\n",
       "      <td>...</td>\n",
       "      <td>...</td>\n",
       "      <td>...</td>\n",
       "      <td>...</td>\n",
       "      <td>...</td>\n",
       "      <td>...</td>\n",
       "      <td>...</td>\n",
       "      <td>...</td>\n",
       "      <td>...</td>\n",
       "      <td>...</td>\n",
       "      <td>...</td>\n",
       "      <td>...</td>\n",
       "      <td>...</td>\n",
       "      <td>...</td>\n",
       "      <td>...</td>\n",
       "      <td>...</td>\n",
       "      <td>...</td>\n",
       "      <td>...</td>\n",
       "      <td>...</td>\n",
       "      <td>...</td>\n",
       "      <td>...</td>\n",
       "      <td>...</td>\n",
       "      <td>...</td>\n",
       "      <td>...</td>\n",
       "      <td>...</td>\n",
       "      <td>...</td>\n",
       "    </tr>\n",
       "    <tr>\n",
       "      <th>1918</th>\n",
       "      <td>0.04760</td>\n",
       "      <td>0.02320</td>\n",
       "      <td>0.02640</td>\n",
       "      <td>0.68590</td>\n",
       "      <td>0.37420</td>\n",
       "      <td>0.04080</td>\n",
       "      <td>0.30000</td>\n",
       "      <td>0.05000</td>\n",
       "      <td>0.12700</td>\n",
       "      <td>0.21000</td>\n",
       "      <td>0.11000</td>\n",
       "      <td>0.59440</td>\n",
       "      <td>0.40300</td>\n",
       "      <td>0.55970</td>\n",
       "      <td>0.66780</td>\n",
       "      <td>0.35550</td>\n",
       "      <td>0.78430</td>\n",
       "      <td>0.06900</td>\n",
       "      <td>0.22220</td>\n",
       "      <td>0.50820</td>\n",
       "      <td>0.56280</td>\n",
       "      <td>0.10140</td>\n",
       "      <td>0.34420</td>\n",
       "      <td>0.36360</td>\n",
       "      <td>0.53950</td>\n",
       "      <td>0.53490</td>\n",
       "      <td>0.41960</td>\n",
       "      <td>0.43050</td>\n",
       "      <td>0.73080</td>\n",
       "      <td>0.50420</td>\n",
       "      <td>0.10730</td>\n",
       "      <td>0.24780</td>\n",
       "      <td>0.00620</td>\n",
       "      <td>0.70070</td>\n",
       "      <td>0.23140</td>\n",
       "      <td>0.46110</td>\n",
       "      <td>0.73170</td>\n",
       "      <td>0.48190</td>\n",
       "      <td>0.25160</td>\n",
       "      <td>0.46580</td>\n",
       "      <td>0.49200</td>\n",
       "      <td>0.53270</td>\n",
       "      <td>0.47850</td>\n",
       "      <td>0.72880</td>\n",
       "      <td>0.48470</td>\n",
       "    </tr>\n",
       "    <tr>\n",
       "      <th>1919</th>\n",
       "      <td>0.04080</td>\n",
       "      <td>0.01760</td>\n",
       "      <td>0.02450</td>\n",
       "      <td>0.76600</td>\n",
       "      <td>0.31590</td>\n",
       "      <td>0.04080</td>\n",
       "      <td>0.35000</td>\n",
       "      <td>0.04000</td>\n",
       "      <td>0.12700</td>\n",
       "      <td>0.30000</td>\n",
       "      <td>0.13000</td>\n",
       "      <td>0.60710</td>\n",
       "      <td>0.38580</td>\n",
       "      <td>0.55870</td>\n",
       "      <td>0.70380</td>\n",
       "      <td>0.35130</td>\n",
       "      <td>0.77680</td>\n",
       "      <td>0.08590</td>\n",
       "      <td>0.21940</td>\n",
       "      <td>0.51030</td>\n",
       "      <td>0.58940</td>\n",
       "      <td>0.34700</td>\n",
       "      <td>0.30000</td>\n",
       "      <td>0.36360</td>\n",
       "      <td>0.49480</td>\n",
       "      <td>0.55040</td>\n",
       "      <td>0.44190</td>\n",
       "      <td>0.33390</td>\n",
       "      <td>0.68160</td>\n",
       "      <td>0.46930</td>\n",
       "      <td>0.11070</td>\n",
       "      <td>0.22860</td>\n",
       "      <td>0.00490</td>\n",
       "      <td>0.69910</td>\n",
       "      <td>0.22990</td>\n",
       "      <td>0.45700</td>\n",
       "      <td>0.73020</td>\n",
       "      <td>0.48120</td>\n",
       "      <td>0.24580</td>\n",
       "      <td>0.45840</td>\n",
       "      <td>0.49170</td>\n",
       "      <td>0.53580</td>\n",
       "      <td>0.52050</td>\n",
       "      <td>0.72950</td>\n",
       "      <td>0.48430</td>\n",
       "    </tr>\n",
       "    <tr>\n",
       "      <th>1920</th>\n",
       "      <td>0.08360</td>\n",
       "      <td>0.02510</td>\n",
       "      <td>0.02590</td>\n",
       "      <td>0.66230</td>\n",
       "      <td>0.36870</td>\n",
       "      <td>0.05100</td>\n",
       "      <td>0.37000</td>\n",
       "      <td>0.07000</td>\n",
       "      <td>0.12700</td>\n",
       "      <td>0.28000</td>\n",
       "      <td>0.14000</td>\n",
       "      <td>0.56650</td>\n",
       "      <td>0.43940</td>\n",
       "      <td>0.51730</td>\n",
       "      <td>0.69930</td>\n",
       "      <td>0.35520</td>\n",
       "      <td>0.77290</td>\n",
       "      <td>0.10610</td>\n",
       "      <td>0.21940</td>\n",
       "      <td>0.51240</td>\n",
       "      <td>0.54530</td>\n",
       "      <td>0.35230</td>\n",
       "      <td>0.48840</td>\n",
       "      <td>0.36360</td>\n",
       "      <td>0.54250</td>\n",
       "      <td>0.55040</td>\n",
       "      <td>0.46760</td>\n",
       "      <td>0.45950</td>\n",
       "      <td>0.74850</td>\n",
       "      <td>0.47670</td>\n",
       "      <td>0.10900</td>\n",
       "      <td>0.26740</td>\n",
       "      <td>0.00790</td>\n",
       "      <td>0.69840</td>\n",
       "      <td>0.20870</td>\n",
       "      <td>0.45600</td>\n",
       "      <td>0.72860</td>\n",
       "      <td>0.48060</td>\n",
       "      <td>0.24000</td>\n",
       "      <td>0.45110</td>\n",
       "      <td>0.49130</td>\n",
       "      <td>0.53890</td>\n",
       "      <td>0.51690</td>\n",
       "      <td>0.73020</td>\n",
       "      <td>0.48390</td>\n",
       "    </tr>\n",
       "    <tr>\n",
       "      <th>1921</th>\n",
       "      <td>0.13850</td>\n",
       "      <td>0.08030</td>\n",
       "      <td>0.03560</td>\n",
       "      <td>0.60950</td>\n",
       "      <td>0.28520</td>\n",
       "      <td>0.03060</td>\n",
       "      <td>0.53000</td>\n",
       "      <td>0.04000</td>\n",
       "      <td>0.09520</td>\n",
       "      <td>0.22000</td>\n",
       "      <td>0.11000</td>\n",
       "      <td>0.60350</td>\n",
       "      <td>0.41510</td>\n",
       "      <td>0.56310</td>\n",
       "      <td>0.69520</td>\n",
       "      <td>0.35070</td>\n",
       "      <td>0.77950</td>\n",
       "      <td>0.10270</td>\n",
       "      <td>0.23930</td>\n",
       "      <td>0.52090</td>\n",
       "      <td>0.58690</td>\n",
       "      <td>0.30250</td>\n",
       "      <td>0.45810</td>\n",
       "      <td>0.36360</td>\n",
       "      <td>0.51120</td>\n",
       "      <td>0.55810</td>\n",
       "      <td>0.43800</td>\n",
       "      <td>0.40050</td>\n",
       "      <td>0.69300</td>\n",
       "      <td>0.53180</td>\n",
       "      <td>0.08960</td>\n",
       "      <td>0.43950</td>\n",
       "      <td>0.00950</td>\n",
       "      <td>0.69790</td>\n",
       "      <td>0.23650</td>\n",
       "      <td>0.45640</td>\n",
       "      <td>0.72240</td>\n",
       "      <td>0.47800</td>\n",
       "      <td>0.21690</td>\n",
       "      <td>0.42160</td>\n",
       "      <td>0.48990</td>\n",
       "      <td>0.55110</td>\n",
       "      <td>0.50700</td>\n",
       "      <td>0.73310</td>\n",
       "      <td>0.48220</td>\n",
       "    </tr>\n",
       "    <tr>\n",
       "      <th>1922</th>\n",
       "      <td>0.14320</td>\n",
       "      <td>0.10160</td>\n",
       "      <td>0.04190</td>\n",
       "      <td>0.74540</td>\n",
       "      <td>0.27250</td>\n",
       "      <td>0.03060</td>\n",
       "      <td>0.41000</td>\n",
       "      <td>0.05000</td>\n",
       "      <td>0.12700</td>\n",
       "      <td>0.19000</td>\n",
       "      <td>0.12000</td>\n",
       "      <td>0.57780</td>\n",
       "      <td>0.33680</td>\n",
       "      <td>0.54460</td>\n",
       "      <td>0.68510</td>\n",
       "      <td>0.33810</td>\n",
       "      <td>0.77140</td>\n",
       "      <td>0.11450</td>\n",
       "      <td>0.22790</td>\n",
       "      <td>0.52300</td>\n",
       "      <td>0.56110</td>\n",
       "      <td>0.34340</td>\n",
       "      <td>0.43950</td>\n",
       "      <td>0.36360</td>\n",
       "      <td>0.46800</td>\n",
       "      <td>0.55810</td>\n",
       "      <td>0.49540</td>\n",
       "      <td>0.38030</td>\n",
       "      <td>0.75060</td>\n",
       "      <td>0.48920</td>\n",
       "      <td>0.10050</td>\n",
       "      <td>0.50570</td>\n",
       "      <td>0.01330</td>\n",
       "      <td>0.70080</td>\n",
       "      <td>0.23380</td>\n",
       "      <td>0.45600</td>\n",
       "      <td>0.72090</td>\n",
       "      <td>0.47730</td>\n",
       "      <td>0.21110</td>\n",
       "      <td>0.41430</td>\n",
       "      <td>0.48950</td>\n",
       "      <td>0.55420</td>\n",
       "      <td>0.38590</td>\n",
       "      <td>0.73380</td>\n",
       "      <td>0.48180</td>\n",
       "    </tr>\n",
       "  </tbody>\n",
       "</table>\n",
       "<p>1923 rows × 45 columns</p>\n",
       "</div>"
      ],
      "text/plain": [
       "      VIX_D_X  VIX_W_X  VIX_M_X     dis   Score  google_1  google_2  google_3  \\\n",
       "0     0.63220  0.60670  0.56350 0.44840 0.32210   0.03060   0.00000   0.09000   \n",
       "1     0.63290  0.61450  0.57370 0.61110 0.39590   0.04080   0.36000   0.09000   \n",
       "2     0.54930  0.65330  0.62470 0.39600 0.16620   0.02040   0.47000   0.06000   \n",
       "3     0.53640  0.62980  0.63220 0.39350 0.42510   0.02040   0.30000   0.04000   \n",
       "4     0.52190  0.60580  0.63930 0.31330 0.27310   0.02040   0.00000   0.06000   \n",
       "...       ...      ...      ...     ...     ...       ...       ...       ...   \n",
       "1918  0.04760  0.02320  0.02640 0.68590 0.37420   0.04080   0.30000   0.05000   \n",
       "1919  0.04080  0.01760  0.02450 0.76600 0.31590   0.04080   0.35000   0.04000   \n",
       "1920  0.08360  0.02510  0.02590 0.66230 0.36870   0.05100   0.37000   0.07000   \n",
       "1921  0.13850  0.08030  0.03560 0.60950 0.28520   0.03060   0.53000   0.04000   \n",
       "1922  0.14320  0.10160  0.04190 0.74540 0.27250   0.03060   0.41000   0.05000   \n",
       "\n",
       "      google_4  google_5  google_6   ^GSPC    CL=F    ^DJI    MSCI     oil  \\\n",
       "0      0.09520   0.54000   0.10000 0.31900 0.21950 0.29520 0.62020 0.53830   \n",
       "1      0.07940   0.45000   0.08000 0.62130 0.30990 0.56630 0.70520 0.51560   \n",
       "2      0.06350   0.00000   0.08000 0.57170 0.35500 0.51240 0.68710 0.54950   \n",
       "3      0.04760   0.15000   0.07000 0.75240 0.55950 0.72100 0.72230 0.58250   \n",
       "4      0.06350   0.20000   0.09000 0.63290 0.42940 0.59510 0.64970 0.58580   \n",
       "...        ...       ...       ...     ...     ...     ...     ...     ...   \n",
       "1918   0.12700   0.21000   0.11000 0.59440 0.40300 0.55970 0.66780 0.35550   \n",
       "1919   0.12700   0.30000   0.13000 0.60710 0.38580 0.55870 0.70380 0.35130   \n",
       "1920   0.12700   0.28000   0.14000 0.56650 0.43940 0.51730 0.69930 0.35520   \n",
       "1921   0.09520   0.22000   0.11000 0.60350 0.41510 0.56310 0.69520 0.35070   \n",
       "1922   0.12700   0.19000   0.12000 0.57780 0.33680 0.54460 0.68510 0.33810   \n",
       "\n",
       "         DXY  credit    term      FF  Mkt-RF     SMB     HML      RF  ST_Rev  \\\n",
       "0    0.25680 0.57740 0.91450 0.02870 0.31840 0.29540 0.16510 0.00000 0.43520   \n",
       "1    0.27110 0.61450 0.90310 0.02920 0.60350 0.34340 0.43950 0.00000 0.62890   \n",
       "2    0.25260 0.65150 0.93160 0.03260 0.57360 0.52670 0.47210 0.00000 0.53800   \n",
       "3    0.23730 0.64980 0.92310 0.03460 0.72490 0.32920 0.67210 0.00000 0.64080   \n",
       "4    0.24430 0.61280 0.94590 0.03510 0.62010 0.38080 0.46510 0.00000 0.56040   \n",
       "...      ...     ...     ...     ...     ...     ...     ...     ...     ...   \n",
       "1918 0.78430 0.06900 0.22220 0.50820 0.56280 0.10140 0.34420 0.36360 0.53950   \n",
       "1919 0.77680 0.08590 0.21940 0.51030 0.58940 0.34700 0.30000 0.36360 0.49480   \n",
       "1920 0.77290 0.10610 0.21940 0.51240 0.54530 0.35230 0.48840 0.36360 0.54250   \n",
       "1921 0.77950 0.10270 0.23930 0.52090 0.58690 0.30250 0.45810 0.36360 0.51120   \n",
       "1922 0.77140 0.11450 0.22790 0.52300 0.56110 0.34340 0.43950 0.36360 0.46800   \n",
       "\n",
       "       tbill     eur     cny     gbp     jpy  GSPC_TR  DJI_TR  MSCI_TR  \\\n",
       "0    0.08530 0.39990 0.40640 0.65230 0.17360  0.56720 0.66930  0.06780   \n",
       "1    0.08140 0.39770 0.39480 0.65400 0.52770  0.62720 0.67650  0.06060   \n",
       "2    0.10470 0.42970 0.39620 0.72160 0.53420  0.37820 0.64140  0.06700   \n",
       "3    0.10080 0.46180 0.39710 0.75510 0.58040  0.36220 0.49570  0.01830   \n",
       "4    0.10470 0.40520 0.39710 0.71040 0.55860  0.37860 0.40300  0.05020   \n",
       "...      ...     ...     ...     ...     ...      ...     ...      ...   \n",
       "1918 0.53490 0.41960 0.43050 0.73080 0.50420  0.10730 0.24780  0.00620   \n",
       "1919 0.55040 0.44190 0.33390 0.68160 0.46930  0.11070 0.22860  0.00490   \n",
       "1920 0.55040 0.46760 0.45950 0.74850 0.47670  0.10900 0.26740  0.00790   \n",
       "1921 0.55810 0.43800 0.40050 0.69300 0.53180  0.08960 0.43950  0.00950   \n",
       "1922 0.55810 0.49540 0.38030 0.75060 0.48920  0.10050 0.50570  0.01330   \n",
       "\n",
       "      GSPC_TR_Change  DJI_TR_Change  MSCI_TR_Change   inf_M  SentMichigan  \\\n",
       "0            0.70060        0.23540         0.45340 0.45290       0.53780   \n",
       "1            0.69900        0.23320         0.45850 0.45670       0.53940   \n",
       "2            0.69830        0.23520         0.45580 0.48330       0.55080   \n",
       "3            0.69840        0.23250         0.47620 0.49840       0.55720   \n",
       "4            0.69880        0.23250         0.45330 0.50220       0.55880   \n",
       "...              ...            ...             ...     ...           ...   \n",
       "1918         0.70070        0.23140         0.46110 0.73170       0.48190   \n",
       "1919         0.69910        0.22990         0.45700 0.73020       0.48120   \n",
       "1920         0.69840        0.20870         0.45600 0.72860       0.48060   \n",
       "1921         0.69790        0.23650         0.45640 0.72240       0.47800   \n",
       "1922         0.70080        0.23380         0.45600 0.72090       0.47730   \n",
       "\n",
       "          m1   house   indus  orders     crb  capa_level  capa_change  \n",
       "0    0.38670 0.45710 0.58580 0.51160 0.24750     0.00000      0.61220  \n",
       "1    0.38290 0.46300 0.59140 0.51250 0.31260     0.00250      0.61750  \n",
       "2    0.35580 0.50430 0.63070 0.51900 0.44750     0.02030      0.65470  \n",
       "3    0.34030 0.52780 0.65310 0.52280 0.78860     0.03040      0.67590  \n",
       "4    0.33640 0.53370 0.65870 0.52370 0.48230     0.03290      0.68130  \n",
       "...      ...     ...     ...     ...     ...         ...          ...  \n",
       "1918 0.25160 0.46580 0.49200 0.53270 0.47850     0.72880      0.48470  \n",
       "1919 0.24580 0.45840 0.49170 0.53580 0.52050     0.72950      0.48430  \n",
       "1920 0.24000 0.45110 0.49130 0.53890 0.51690     0.73020      0.48390  \n",
       "1921 0.21690 0.42160 0.48990 0.55110 0.50700     0.73310      0.48220  \n",
       "1922 0.21110 0.41430 0.48950 0.55420 0.38590     0.73380      0.48180  \n",
       "\n",
       "[1923 rows x 45 columns]"
      ]
     },
     "execution_count": 222,
     "metadata": {},
     "output_type": "execute_result"
    }
   ],
   "source": [
    "X_all_train"
   ]
  },
  {
   "cell_type": "code",
   "execution_count": 226,
   "metadata": {},
   "outputs": [
    {
     "data": {
      "text/plain": [
       "array([ 0.85423247,  0.04204784,  0.03297576, -0.        , -0.        ,\n",
       "       -0.        , -0.        ,  0.        , -0.        , -0.        ,\n",
       "       -0.        , -0.        , -0.        , -0.        , -0.        ,\n",
       "        0.        , -0.0033692 ,  0.00560047,  0.        , -0.        ,\n",
       "       -0.        ,  0.        ,  0.        , -0.        , -0.        ,\n",
       "       -0.        , -0.        , -0.        , -0.        , -0.        ,\n",
       "        0.        ,  0.        ,  0.        , -0.        ,  0.        ,\n",
       "        0.        , -0.        , -0.        ,  0.        , -0.        ,\n",
       "        0.        ,  0.        , -0.        , -0.        ,  0.        ])"
      ]
     },
     "execution_count": 226,
     "metadata": {},
     "output_type": "execute_result"
    }
   ],
   "source": [
    "lasso_all = Lasso(alpha = 0.001)\n",
    "lasso_all.fit(X_all_train, y_train)\n",
    "lasso_all.coef_"
   ]
  },
  {
   "cell_type": "code",
   "execution_count": 156,
   "metadata": {},
   "outputs": [],
   "source": [
    "ridge_alpha = 1\n",
    "lasso_alpha = 0.001\n",
    "\n",
    "linear_all = LinearRegression()\n",
    "linear_eco = LinearRegression()\n",
    "linear_har = LinearRegression()\n",
    "\n",
    "ridge_all = Ridge(alpha = ridge_alpha)\n",
    "ridge_eco = Ridge(alpha = ridge_alpha)\n",
    "ridge_har = Ridge(alpha = ridge_alpha)\n",
    "\n",
    "lasso_all = Lasso(alpha = lasso_alpha)\n",
    "lasso_eco = Lasso(alpha = lasso_alpha)\n",
    "lasso_har = Lasso(alpha = lasso_alpha)"
   ]
  },
  {
   "cell_type": "code",
   "execution_count": 157,
   "metadata": {},
   "outputs": [
    {
     "data": {
      "text/plain": [
       "Lasso(alpha=0.001)"
      ]
     },
     "execution_count": 157,
     "metadata": {},
     "output_type": "execute_result"
    }
   ],
   "source": [
    "linear_all.fit(X_all_train,y_train)\n",
    "linear_eco.fit(X_eco_train,y_train)\n",
    "linear_har.fit(X_har_train,y_train)\n",
    "\n",
    "ridge_all.fit(X_all_train,y_train)\n",
    "ridge_eco.fit(X_eco_train,y_train)\n",
    "ridge_har.fit(X_har_train,y_train)\n",
    "\n",
    "lasso_all.fit(X_all_train,y_train)\n",
    "lasso_eco.fit(X_eco_train,y_train)\n",
    "lasso_har.fit(X_har_train,y_train)"
   ]
  },
  {
   "cell_type": "code",
   "execution_count": 158,
   "metadata": {},
   "outputs": [
    {
     "name": "stdout",
     "output_type": "stream",
     "text": [
      "ALL R2 score - Linear: 0.9038, Ridge: 0.8770, Lasso: 0.8985\n",
      "ECO R2 score - Linear: 0.8990, Ridge: 0.8768, Lasso: 0.8985\n",
      "HAR R2 score - Linear: 0.9001, Ridge: 0.8957, Lasso: 0.8991\n",
      "---------------------------------------------------\n",
      "ALL MSE - Linear: 0.0086, Ridge: 0.0109, Lasso: 0.0090\n",
      "ECO MSE - Linear: 0.0090, Ridge: 0.0110, Lasso: 0.0090\n",
      "HAR MSE - Linear: 0.0089, Ridge: 0.0093, Lasso: 0.0090\n",
      "---------------------------------------------------\n",
      "ALL MAE - Linear: 0.0613, Ridge: 0.0703, Lasso: 0.0628\n",
      "ECO MAE - Linear: 0.0631, Ridge: 0.0679, Lasso: 0.0628\n",
      "HAR MAE - Linear: 0.0622, Ridge: 0.0637, Lasso: 0.0631\n"
     ]
    }
   ],
   "source": [
    "# Inverse transformation\n",
    "\n",
    "linear_all_y_hat = y_scaler.inverse_transform(linear_all.predict(X_all_test).reshape(-1,1))\n",
    "linear_eco_y_hat = y_scaler.inverse_transform(linear_eco.predict(X_eco_test).reshape(-1,1))\n",
    "linear_har_y_hat = y_scaler.inverse_transform(linear_har.predict(X_har_test).reshape(-1,1))\n",
    "\n",
    "ridge_all_y_hat = y_scaler.inverse_transform(ridge_all.predict(X_all_test).reshape(-1,1))\n",
    "ridge_eco_y_hat = y_scaler.inverse_transform(ridge_eco.predict(X_eco_test).reshape(-1,1))\n",
    "ridge_har_y_hat = y_scaler.inverse_transform(ridge_har.predict(X_har_test).reshape(-1,1))\n",
    "\n",
    "lasso_all_y_hat = y_scaler.inverse_transform(lasso_all.predict(X_all_test).reshape(-1,1))\n",
    "lasso_eco_y_hat = y_scaler.inverse_transform(lasso_eco.predict(X_eco_test).reshape(-1,1))\n",
    "lasso_har_y_hat = y_scaler.inverse_transform(lasso_har.predict(X_har_test).reshape(-1,1))\n",
    "\n",
    "y_test_original = y_scaler.inverse_transform(y_test.values.reshape(-1,1)) \n",
    "\n",
    "linear_all_r2, ridge_all_r2, lasso_all_r2 = r2_score(y_test_original,linear_all_y_hat), r2_score(y_test_original,ridge_all_y_hat), r2_score(y_test_original,lasso_all_y_hat)\n",
    "linear_eco_r2, ridge_eco_r2, lasso_eco_r2 = r2_score(y_test_original,linear_eco_y_hat), r2_score(y_test_original,ridge_eco_y_hat), r2_score(y_test_original,lasso_eco_y_hat)\n",
    "linear_har_r2, ridge_har_r2, lasso_har_r2 = r2_score(y_test_original,linear_har_y_hat), r2_score(y_test_original,ridge_har_y_hat), r2_score(y_test_original,lasso_har_y_hat)\n",
    "\n",
    "linear_all_MSE, ridge_all_MSE, lasso_all_MSE = mean_squared_error(y_test_original,linear_all_y_hat), mean_squared_error(y_test_original,ridge_all_y_hat), mean_squared_error(y_test_original,lasso_all_y_hat)\n",
    "linear_eco_MSE, ridge_eco_MSE, lasso_eco_MSE = mean_squared_error(y_test_original,linear_eco_y_hat), mean_squared_error(y_test_original,ridge_eco_y_hat), mean_squared_error(y_test_original,lasso_eco_y_hat)\n",
    "linear_har_MSE, ridge_har_MSE, lasso_har_MSE = mean_squared_error(y_test_original,linear_har_y_hat), mean_squared_error(y_test_original,ridge_har_y_hat), mean_squared_error(y_test_original,lasso_har_y_hat)\n",
    "\n",
    "linear_all_MAE, ridge_all_MAE, lasso_all_MAE = mean_absolute_error(y_test_original,linear_all_y_hat), mean_absolute_error(y_test_original,ridge_all_y_hat), mean_absolute_error(y_test_original,lasso_all_y_hat)\n",
    "linear_eco_MAE, ridge_eco_MAE, lasso_eco_MAE = mean_absolute_error(y_test_original,linear_eco_y_hat), mean_absolute_error(y_test_original,ridge_eco_y_hat), mean_absolute_error(y_test_original,lasso_eco_y_hat)\n",
    "linear_har_MAE, ridge_har_MAE, lasso_har_MAE = mean_absolute_error(y_test_original,linear_har_y_hat), mean_absolute_error(y_test_original,ridge_har_y_hat), mean_absolute_error(y_test_original,lasso_har_y_hat)\n",
    "\n",
    "print('ALL R2 score - Linear: %.4f, Ridge: %.4f, Lasso: %.4f' %(linear_all_r2, ridge_all_r2, lasso_all_r2))\n",
    "print('ECO R2 score - Linear: %.4f, Ridge: %.4f, Lasso: %.4f' %(linear_eco_r2, ridge_eco_r2, lasso_eco_r2))\n",
    "print('HAR R2 score - Linear: %.4f, Ridge: %.4f, Lasso: %.4f' %(linear_har_r2, ridge_har_r2, lasso_har_r2))\n",
    "print('---------------------------------------------------')\n",
    "print('ALL MSE - Linear: %.4f, Ridge: %.4f, Lasso: %.4f' %(linear_all_MSE, ridge_all_MSE, lasso_all_MSE))\n",
    "print('ECO MSE - Linear: %.4f, Ridge: %.4f, Lasso: %.4f' %(linear_eco_MSE, ridge_eco_MSE, lasso_eco_MSE))\n",
    "print('HAR MSE - Linear: %.4f, Ridge: %.4f, Lasso: %.4f' %(linear_har_MSE, ridge_har_MSE, lasso_har_MSE))\n",
    "print('---------------------------------------------------')\n",
    "print('ALL MAE - Linear: %.4f, Ridge: %.4f, Lasso: %.4f' %(linear_all_MAE, ridge_all_MAE, lasso_all_MAE))\n",
    "print('ECO MAE - Linear: %.4f, Ridge: %.4f, Lasso: %.4f' %(linear_eco_MAE, ridge_eco_MAE, lasso_eco_MAE))\n",
    "print('HAR MAE - Linear: %.4f, Ridge: %.4f, Lasso: %.4f' %(linear_har_MAE, ridge_har_MAE, lasso_har_MAE))\n"
   ]
  },
  {
   "cell_type": "code",
   "execution_count": 320,
   "metadata": {},
   "outputs": [],
   "source": [
    "# import matplotlib.pyplot as plt\n",
    "\n",
    "# fig = plt.figure()\n",
    "# ax = fig.add_subplot(1,1,1)\n",
    "# ax.plot(range(len(y_test)), y_test_original, '-', label=\"Original Y\")\n",
    "# # ax.plot(range(len(y_test)), linear_all_y_hat, '-x', label=\"linear_y_hat\")\n",
    "# # ax.plot(range(len(y_test)), ridge_all_y_hat, '-x', label=\"ridge_y_hat\")\n",
    "# ax.plot(range(len(y_test)), lasso_all_y_hat, '--', label=\"lasso_y_hat\")\n",
    "# plt.legend(loc='upper right')\n",
    "# plt.title(\"All Features\")\n",
    "# plt.show()"
   ]
  },
  {
   "cell_type": "code",
   "execution_count": 321,
   "metadata": {},
   "outputs": [],
   "source": [
    "# import matplotlib.pyplot as plt\n",
    "\n",
    "# fig = plt.figure()\n",
    "# ax = fig.add_subplot(1,1,1)\n",
    "# ax.plot(range(len(y_test)), y_test_original, '-', label=\"Original Y\")\n",
    "# # ax.plot(range(len(y_test)), linear_eco_y_hat, '--', label=\"linear_y_hat\")\n",
    "# # ax.plot(range(len(y_test)), ridge_eco_y_hat, '--', label=\"ridge_y_hat\")\n",
    "# ax.plot(range(len(y_test)), lasso_eco_y_hat, '--', label=\"lasso_y_hat\")\n",
    "# plt.legend(loc='upper right')\n",
    "# plt.title(\"ECO Features\")\n",
    "# plt.show()"
   ]
  },
  {
   "cell_type": "code",
   "execution_count": 322,
   "metadata": {},
   "outputs": [],
   "source": [
    "# import matplotlib.pyplot as plt\n",
    "\n",
    "# fig = plt.figure()\n",
    "# ax = fig.add_subplot(1,1,1)\n",
    "# ax.plot(range(len(y_test)), y_test_original, '-', label=\"Original Y\")\n",
    "# # ax.plot(range(len(y_test)), linear_har_y_hat, '-x', label=\"linear_y_hat\")\n",
    "# # ax.plot(range(len(y_test)), ridge_har_y_hat, '-x', label=\"ridge_y_hat\")\n",
    "# ax.plot(range(len(y_test)), lasso_har_y_hat, '--', label=\"lasso_y_hat\")\n",
    "# plt.legend(loc='upper right')\n",
    "# plt.title(\"HAR Features\")\n",
    "# plt.show()"
   ]
  },
  {
   "cell_type": "code",
   "execution_count": 323,
   "metadata": {},
   "outputs": [],
   "source": [
    "# y_train.plot()"
   ]
  },
  {
   "cell_type": "code",
   "execution_count": 324,
   "metadata": {},
   "outputs": [],
   "source": [
    "# y_test.plot()"
   ]
  },
  {
   "cell_type": "markdown",
   "metadata": {},
   "source": [
    "### ★ Adaptive Lasso"
   ]
  },
  {
   "cell_type": "code",
   "execution_count": 164,
   "metadata": {},
   "outputs": [
    {
     "data": {
      "text/plain": [
       "((1923, 45), (1923, 1))"
      ]
     },
     "execution_count": 164,
     "metadata": {},
     "output_type": "execute_result"
    }
   ],
   "source": [
    "X_all_train.shape, y_train.shape"
   ]
  },
  {
   "cell_type": "code",
   "execution_count": 166,
   "metadata": {},
   "outputs": [
    {
     "data": {
      "text/plain": [
       "array([ 0.85421985,  0.04205901,  0.03297574, -0.        , -0.        ,\n",
       "       -0.        , -0.        ,  0.        , -0.        , -0.        ,\n",
       "       -0.        , -0.        , -0.        , -0.        , -0.        ,\n",
       "        0.        , -0.00336821,  0.00560161,  0.        , -0.        ,\n",
       "       -0.        ,  0.        ,  0.        , -0.        , -0.        ,\n",
       "       -0.        , -0.        , -0.        , -0.        , -0.        ,\n",
       "        0.        ,  0.        ,  0.        , -0.        ,  0.        ,\n",
       "        0.        , -0.        , -0.        ,  0.        , -0.        ,\n",
       "        0.        ,  0.        , -0.        , -0.        ,  0.        ])"
      ]
     },
     "execution_count": 166,
     "metadata": {},
     "output_type": "execute_result"
    }
   ],
   "source": [
    "lasso_all.coef_"
   ]
  },
  {
   "cell_type": "markdown",
   "metadata": {},
   "source": [
    "#### 1. KFCV for lasso"
   ]
  },
  {
   "cell_type": "code",
   "execution_count": 228,
   "metadata": {},
   "outputs": [],
   "source": [
    "# search_kfcv = GridSearchCV(pipeline,\n",
    "#                       {'model__alpha':np.arange(0.001,2,0.1)},\n",
    "#                       cv = kfcv, scoring=\"neg_mean_squared_error\",verbose=0\n",
    "#                       )\n",
    "\n",
    "# search_kfcv.fit(X_all_train, y_train)\n",
    "# search_kfcv.best_params_\n",
    "\n",
    "# search_kfcv.best_score_\n",
    "\n",
    "# import seaborn as sns\n",
    "# plt.figure(figsize=(8,6))\n",
    "# sns.barplot(x=importance[importance>0] , y=X_all_train.columns[importance > 0])\n",
    "# plt.xlabel(\"Importance\")\n",
    "# plt.ylabel(\"Features\")\n",
    "# plt.title(\"Feature Importance Lasso\")\n",
    "# plt.show()"
   ]
  },
  {
   "cell_type": "code",
   "execution_count": null,
   "metadata": {},
   "outputs": [
    {
     "data": {
      "text/plain": [
       "{'model__alpha': 0.001}"
      ]
     },
     "metadata": {},
     "output_type": "display_data"
    }
   ],
   "source": [
    "# search_tscv = GridSearchCV(pipeline,\n",
    "#                       {'model__alpha':np.arange(0.001,2,0.1)},\n",
    "#                       cv = tscv, scoring=\"neg_mean_squared_error\",verbose=0\n",
    "#                       )\n",
    "\n",
    "# search_tscv.fit(X_all_train, y_train)\n",
    "# search_tscv.best_params_\n",
    "\n",
    "# # search_tscv.best_score_\n",
    "\n",
    "# import seaborn as sns\n",
    "# plt.figure(figsize=(8,6))\n",
    "# sns.barplot(x=importance[importance>0] , y=X_all_train.columns[importance > 0])\n",
    "# plt.xlabel(\"Importance\")\n",
    "# plt.ylabel(\"Features\")\n",
    "# plt.title(\"Feature Importance Lasso : Time-Srei\")\n",
    "# plt.show()"
   ]
  },
  {
   "cell_type": "code",
   "execution_count": 339,
   "metadata": {},
   "outputs": [
    {
     "data": {
      "text/plain": [
       "array([ 0.0398884 ,  0.85102865,  0.04288313,  0.02917641,  0.        ,\n",
       "       -0.06632064,  0.        ,  0.        ,  0.        ,  0.        ,\n",
       "        0.        ,  0.        ,  0.        ,  0.        ,  0.        ,\n",
       "        0.        ,  0.        , -0.00605635,  0.02131332,  0.00529262,\n",
       "        0.        ,  0.        ,  0.        ,  0.        ,  0.        ,\n",
       "        0.        ,  0.        ,  0.        ,  0.        ,  0.        ,\n",
       "        0.        ,  0.        ,  0.        ,  0.        ,  0.        ,\n",
       "        0.        ,  0.        ,  0.        ,  0.        ,  0.        ,\n",
       "        0.        ,  0.        ,  0.        ,  0.        ,  0.        ,\n",
       "        0.        ])"
      ]
     },
     "execution_count": 339,
     "metadata": {},
     "output_type": "execute_result"
    }
   ],
   "source": [
    "\"\"\" LASSO \"\"\"\n",
    "\n",
    "lambda1 = [0.001,0.01,0.1,1,2]\n",
    "lasso_model = asgl.ASGL(model='lm', penalization='lasso',lambda1=lambda1)\n",
    "lasso_model.fit(x=X_all_train, y=y_train.values.flatten())\n",
    "lasso_coef = lasso_model.coef_[0]\n",
    "lasso_coef"
   ]
  },
  {
   "cell_type": "code",
   "execution_count": 340,
   "metadata": {},
   "outputs": [
    {
     "data": {
      "text/plain": [
       "0.00866472572083961"
      ]
     },
     "execution_count": 340,
     "metadata": {},
     "output_type": "execute_result"
    }
   ],
   "source": [
    "lasso_all_y_hat = y_scaler.inverse_transform(lasso_model.predict(X_all_test)[0].reshape(-1,1))\n",
    "y_test_original = y_scaler.inverse_transform(y_test.values.reshape(-1,1)) \n",
    "lasso_all_MSE = mean_squared_error(y_test_original,lasso_all_y_hat)\n",
    "lasso_all_MSE"
   ]
  },
  {
   "cell_type": "code",
   "execution_count": 362,
   "metadata": {},
   "outputs": [
    {
     "data": {
      "text/plain": [
       "array([[6.38566380e-01, 1.81281623e-01, 2.88461593e-02, 1.36153173e-02,\n",
       "        1.72950638e-01, 1.41901700e-02, 2.21801402e-02, 5.18437942e-02,\n",
       "        3.42749580e-02, 4.27013821e-03, 2.88930458e-02, 7.74117965e-03,\n",
       "        7.07609497e-03, 4.92507528e-03, 2.28231120e-03, 3.19822589e-02,\n",
       "        2.64646046e-02, 6.11527651e-02, 3.05543313e-02, 4.25268691e-02,\n",
       "        2.35885113e-02, 5.98355525e-03, 2.00310472e-02, 3.61576965e-03,\n",
       "        1.57448577e-02, 3.18635510e-02, 1.60579612e-02, 1.29513026e-02,\n",
       "        2.28195130e-02, 6.03997448e-03, 2.36716000e-03, 2.70430282e-02,\n",
       "        1.80639340e-02, 1.12489866e-02, 2.51956540e-02, 5.93184095e-02,\n",
       "        1.40700310e-02, 3.53569815e-03, 1.65768758e-02, 4.09256908e-03,\n",
       "        1.43262944e-02, 5.00717712e-04, 1.47624041e-02, 2.36495326e-02,\n",
       "        4.11233727e-03]])"
      ]
     },
     "execution_count": 362,
     "metadata": {},
     "output_type": "execute_result"
    }
   ],
   "source": [
    "abs(ridge_all.coef_)"
   ]
  },
  {
   "cell_type": "code",
   "execution_count": 361,
   "metadata": {},
   "outputs": [
    {
     "data": {
      "text/plain": [
       "array([ 1.09729625,  9.69129378, 11.17584651, 16.58312395,  7.89746508,\n",
       "       16.58312395, 16.58312395, 16.58312395, 16.58312395, 16.58312395,\n",
       "       16.58312395, 16.58312395, 16.58312395, 16.58312395, 16.58312395,\n",
       "       16.58312395, 15.06963281, 12.25256075, 15.24509027, 16.58312395,\n",
       "       16.58312395, 16.58312395, 16.58312395, 16.58312395, 16.58312395,\n",
       "       16.58312395, 16.58312395, 16.58312395, 16.58312395, 16.58312395,\n",
       "       16.58312395, 16.58312395, 16.58312395, 16.58312395, 16.58312395,\n",
       "       16.58312395, 16.58312395, 16.58312395, 16.58312395, 16.58312395,\n",
       "       16.58312395, 16.58312395, 16.58312395, 16.58312395, 16.58312395])"
      ]
     },
     "execution_count": 361,
     "metadata": {},
     "output_type": "execute_result"
    }
   ],
   "source": [
    "(abs(lasso_coef[1:]) + 1/np.sqrt(y_test.shape[0]))**(-1)"
   ]
  },
  {
   "cell_type": "code",
   "execution_count": 372,
   "metadata": {},
   "outputs": [
    {
     "data": {
      "text/plain": [
       "array([ 0.        ,  0.68220473,  0.        ,  0.        ,  0.        ,\n",
       "        0.        ,  0.        ,  0.        ,  0.        ,  0.        ,\n",
       "        0.        ,  0.        ,  0.        , -0.16260665,  0.        ,\n",
       "        0.        ,  0.        ,  0.        ,  0.        ,  0.        ,\n",
       "        0.        ,  0.        ,  0.        ,  0.        ,  0.        ,\n",
       "        0.        ,  0.        ,  0.        ,  0.        ,  0.        ,\n",
       "        0.        ,  0.        ,  0.        ,  0.        ,  0.        ,\n",
       "        0.        ,  0.        ,  0.        ,  0.        ,  0.        ,\n",
       "        0.        ,  0.        ,  0.        ,  0.        ,  0.        ])"
      ]
     },
     "execution_count": 372,
     "metadata": {},
     "output_type": "execute_result"
    }
   ],
   "source": [
    "\"\"\" ALASSO \"\"\"\n",
    "\n",
    "lambda1 = 1\n",
    "alasso_weights = abs(linear_all.coef_)\n",
    "# alasso_weights = (abs(lasso_coef[1:]) + 1/np.sqrt(y_test.shape[0]))**(-1)\n",
    "alasso_model = asgl.ASGL(model='lm', penalization='alasso',lambda1=lambda1, lasso_weights=alasso_weights.flatten(), parallel=True)\n",
    "alasso_model.fit(x=X_all_train, y=y_train.values.flatten())\n",
    "acoef = alasso_model.coef_[0]\n",
    "acoef[1:]"
   ]
  },
  {
   "cell_type": "code",
   "execution_count": null,
   "metadata": {},
   "outputs": [],
   "source": []
  },
  {
   "cell_type": "code",
   "execution_count": null,
   "metadata": {},
   "outputs": [],
   "source": []
  },
  {
   "cell_type": "code",
   "execution_count": null,
   "metadata": {},
   "outputs": [],
   "source": []
  },
  {
   "cell_type": "markdown",
   "metadata": {},
   "source": [
    "### ★ Random Forests - IID Bootstrap"
   ]
  },
  {
   "cell_type": "code",
   "execution_count": 350,
   "metadata": {},
   "outputs": [],
   "source": [
    "from sklearn_timeseries import TimeSeriesRandomForestRegressor\n",
    "from sklearn_timeseries import optimal_block_length\n",
    "from pprint import pprint\n",
    "import warnings\n",
    "\n",
    "warnings.filterwarnings('ignore')"
   ]
  },
  {
   "cell_type": "code",
   "execution_count": 351,
   "metadata": {},
   "outputs": [
    {
     "data": {
      "text/plain": [
       "(2198, 45)"
      ]
     },
     "execution_count": 351,
     "metadata": {},
     "output_type": "execute_result"
    }
   ],
   "source": [
    "npdata = X.to_numpy()\n",
    "npdata.shape"
   ]
  },
  {
   "cell_type": "markdown",
   "metadata": {},
   "source": [
    "#### 1. Cross-validation : k-fold"
   ]
  },
  {
   "cell_type": "code",
   "execution_count": 371,
   "metadata": {},
   "outputs": [
    {
     "name": "stdout",
     "output_type": "stream",
     "text": [
      "Best Hyperparameters: {'max_depth': 6, 'n_estimators': 150}\n",
      "Best Score: 0.8282951187230821\n"
     ]
    }
   ],
   "source": [
    "# Grid Search CV\n",
    "\n",
    "parameters = {\n",
    "    'n_estimators': [100, 150, 200, 250, 300],\n",
    "    'max_depth': [4,6,8,10,12,14],\n",
    "}\n",
    "\n",
    "regr = TimeSeriesRandomForestRegressor(random_state=42,\n",
    "    bootstrap='iid',\n",
    "    # bootstrap_block_size=np.mean(optimal_block_length(npdata)[0]),\n",
    "    n_jobs = -1)\n",
    "\n",
    "grid_cv = GridSearchCV(regr, parameters, cv = kfcv, n_jobs= -1)\n",
    "grid_cv.fit(X_har_train, y_train)\n",
    "\n",
    "print('Best Hyperparameters:', grid_cv.best_params_)\n",
    "print('Best Score:', grid_cv.best_score_)"
   ]
  },
  {
   "cell_type": "code",
   "execution_count": 372,
   "metadata": {},
   "outputs": [
    {
     "name": "stdout",
     "output_type": "stream",
     "text": [
      "K-fold ALL R2 score - RF_iid: 0.8912\n",
      "K-fold ALL MSE score - RF_iid: 0.0097\n",
      "K-fold ALL MAE score - RF_iid: 0.0659\n"
     ]
    }
   ],
   "source": [
    "# Training\n",
    "rf_run = TimeSeriesRandomForestRegressor(random_state=42, bootstrap='iid', max_depth=grid_cv.best_params_['max_depth'], n_estimators=grid_cv.best_params_['n_estimators'])\n",
    "rf_run.fit(X_har_train, y_train)\n",
    "\n",
    "# Prediction\n",
    "y_pred_test = rf_run.predict(X_har_test)\n",
    "\n",
    "# Inverse transformation\n",
    "rf_all_yhat = y_scaler.inverse_transform(y_pred_test.reshape(-1,1))\n",
    "\n",
    "# Compute R2, MSE, MAE\n",
    "print('K-fold ALL R2 score - RF_iid: %.4f' % r2_score(y_test_original, rf_all_yhat))\n",
    "print('K-fold ALL MSE score - RF_iid: %.4f' % mean_squared_error(y_test_original, rf_all_yhat))\n",
    "print('K-fold ALL MAE score - RF_iid: %.4f' % mean_absolute_error(y_test_original, rf_all_yhat))"
   ]
  },
  {
   "cell_type": "code",
   "execution_count": 373,
   "metadata": {},
   "outputs": [
    {
     "data": {
      "image/png": "[encoded data removed]",
      "text/plain": [
       "<Figure size 576x432 with 1 Axes>"
      ]
     },
     "metadata": {
      "needs_background": "light"
     },
     "output_type": "display_data"
    }
   ],
   "source": [
    "# Variable Importance\n",
    "import seaborn as sns\n",
    "\n",
    "rf_importances_values = rf_run.feature_importances_\n",
    "rf_importances = pd.Series(rf_importances_values, index = X_har_test.columns)\n",
    "rf_importances_top = rf_importances.sort_values(ascending=False)[1:20]\n",
    "\n",
    "plt.figure(figsize=(8,6))\n",
    "sns.barplot(x=rf_importances_top, y=rf_importances_top.index)\n",
    "plt.xlabel(\"Importance\")\n",
    "plt.ylabel(\"Features\")\n",
    "plt.title(\"Feature Importance : IID Bootstrap\")\n",
    "plt.show()"
   ]
  },
  {
   "cell_type": "code",
   "execution_count": 374,
   "metadata": {},
   "outputs": [
    {
     "data": {
      "text/plain": [
       "(275, 1)"
      ]
     },
     "execution_count": 374,
     "metadata": {},
     "output_type": "execute_result"
    }
   ],
   "source": [
    "y_test_original.shape"
   ]
  },
  {
   "cell_type": "code",
   "execution_count": 375,
   "metadata": {},
   "outputs": [
    {
     "data": {
      "image/png": "[encoded data removed]",
      "text/plain": [
       "<Figure size 432x288 with 1 Axes>"
      ]
     },
     "metadata": {
      "needs_background": "light"
     },
     "output_type": "display_data"
    }
   ],
   "source": [
    "fig = plt.figure()\n",
    "plt.plot(df_raw.index[::-1][:275][::-1], y_test_original, '-', label=\"Original Y\")\n",
    "plt.plot(df_raw.index[::-1][:275][::-1], rf_all_yhat, '--', label=\"RF_all_yhat\")\n",
    "plt.legend(bbox_to_anchor=(1, 1.05))\n",
    "plt.ylabel(\"VIX\")\n",
    "plt.title(\"Real & Predicted Values of VIX\")\n",
    "fig.autofmt_xdate()\n",
    "plt.show()"
   ]
  },
  {
   "cell_type": "markdown",
   "metadata": {},
   "source": [
    "#### 2. Cross-validation : Time-series"
   ]
  },
  {
   "cell_type": "code",
   "execution_count": 376,
   "metadata": {},
   "outputs": [
    {
     "name": "stdout",
     "output_type": "stream",
     "text": [
      "Best Hyperparameters: {'max_depth': 6, 'n_estimators': 100}\n",
      "Best Score: 0.665442086551909\n"
     ]
    }
   ],
   "source": [
    "# Grid Search CV\n",
    "\n",
    "parameters = {\n",
    "    'n_estimators': [100, 150, 200, 250, 300],\n",
    "    'max_depth': [4,6,8,10,12,14],\n",
    "}\n",
    "\n",
    "regr = TimeSeriesRandomForestRegressor(random_state=42,\n",
    "    bootstrap='iid',\n",
    "    # bootstrap_block_size=np.mean(optimal_block_length(npdata)[0]),\n",
    "    n_jobs = -1)\n",
    "\n",
    "grid_cv = GridSearchCV(regr, parameters, cv = tscv, n_jobs= -1)\n",
    "grid_cv.fit(X_har_train, y_train)\n",
    "\n",
    "print('Best Hyperparameters:', grid_cv.best_params_)\n",
    "print('Best Score:', grid_cv.best_score_)"
   ]
  },
  {
   "cell_type": "code",
   "execution_count": 377,
   "metadata": {},
   "outputs": [
    {
     "name": "stdout",
     "output_type": "stream",
     "text": [
      "Time-Series CV ALL R2 score - RF_iid: 0.8924\n",
      "Time-Series CV ALL MSE score - RF_iid: 0.0096\n",
      "Time-Series CV ALL MAE score - RF_iid: 0.0655\n"
     ]
    }
   ],
   "source": [
    "# Training\n",
    "rf_run = TimeSeriesRandomForestRegressor(random_state=42, bootstrap='iid', max_depth=grid_cv.best_params_['max_depth'], n_estimators=grid_cv.best_params_['n_estimators'])\n",
    "rf_run.fit(X_har_train, y_train)\n",
    "\n",
    "# Prediction\n",
    "y_pred_test = rf_run.predict(X_har_test)\n",
    "\n",
    "# Inverse transformation\n",
    "rf_all_yhat = y_scaler.inverse_transform(y_pred_test.reshape(-1,1))\n",
    "\n",
    "# Compute R2, MSE, MAE\n",
    "print('Time-Series CV ALL R2 score - RF_iid: %.4f' % r2_score(y_test_original, rf_all_yhat))\n",
    "print('Time-Series CV ALL MSE score - RF_iid: %.4f' % mean_squared_error(y_test_original, rf_all_yhat))\n",
    "print('Time-Series CV ALL MAE score - RF_iid: %.4f' % mean_absolute_error(y_test_original, rf_all_yhat))"
   ]
  },
  {
   "cell_type": "code",
   "execution_count": 378,
   "metadata": {},
   "outputs": [
    {
     "data": {
      "image/png": "[encoded data removed]",
      "text/plain": [
       "<Figure size 576x432 with 1 Axes>"
      ]
     },
     "metadata": {
      "needs_background": "light"
     },
     "output_type": "display_data"
    }
   ],
   "source": [
    "# Variable Importance\n",
    "import seaborn as sns\n",
    "\n",
    "rf_importances_values = rf_run.feature_importances_\n",
    "rf_importances = pd.Series(rf_importances_values, index = X_har_test.columns)\n",
    "rf_importances_top = rf_importances.sort_values(ascending=False)[1:20]\n",
    "\n",
    "plt.figure(figsize=(8,6))\n",
    "sns.barplot(x=rf_importances_top, y=rf_importances_top.index)\n",
    "plt.xlabel(\"Importance\")\n",
    "plt.ylabel(\"Features\")\n",
    "plt.title(\"Feature Importance : IID Bootstrap\")\n",
    "plt.show()"
   ]
  },
  {
   "cell_type": "code",
   "execution_count": 379,
   "metadata": {},
   "outputs": [
    {
     "data": {
      "image/png": "[encoded data removed]",
      "text/plain": [
       "<Figure size 432x288 with 1 Axes>"
      ]
     },
     "metadata": {
      "needs_background": "light"
     },
     "output_type": "display_data"
    }
   ],
   "source": [
    "fig = plt.figure()\n",
    "plt.plot(df_raw.index[::-1][:275][::-1], y_test_original, '-', label=\"Original Y\")\n",
    "plt.plot(df_raw.index[::-1][:275][::-1], rf_all_yhat, '--', label=\"RF_all_yhat\")\n",
    "plt.legend(bbox_to_anchor=(1, 1.05))\n",
    "plt.ylabel(\"VIX\")\n",
    "plt.title(\"Real & Predicted Values of VIX\")\n",
    "fig.autofmt_xdate()\n",
    "plt.show()"
   ]
  },
  {
   "cell_type": "markdown",
   "metadata": {},
   "source": [
    "### ★ Random Forests - Stationary Bootstrap"
   ]
  },
  {
   "cell_type": "markdown",
   "metadata": {},
   "source": [
    "#### 1. Cross-Validation : k-fold"
   ]
  },
  {
   "cell_type": "code",
   "execution_count": 380,
   "metadata": {},
   "outputs": [
    {
     "name": "stdout",
     "output_type": "stream",
     "text": [
      "Best Hyperparameters: {'max_depth': 6, 'n_estimators': 100}\n",
      "Best Score: 0.8223589555714795\n"
     ]
    }
   ],
   "source": [
    "# Grid Search CV\n",
    "\n",
    "parameters = {\n",
    "    'n_estimators': [100, 150, 200, 250, 300],\n",
    "    'max_depth': [4,6,8,10,12,14],\n",
    "}\n",
    "\n",
    "regr = TimeSeriesRandomForestRegressor(random_state=42,\n",
    "    bootstrap='sb',\n",
    "    # bootstrap_block_size=np.mean(optimal_block_length(npdata)[0]),\n",
    "    n_jobs = -1)\n",
    "\n",
    "grid_cv = GridSearchCV(regr, parameters, cv = kfcv, n_jobs= -1)\n",
    "grid_cv.fit(X_har_train, y_train)\n",
    "\n",
    "print('Best Hyperparameters:', grid_cv.best_params_)\n",
    "print('Best Score:', grid_cv.best_score_)"
   ]
  },
  {
   "cell_type": "code",
   "execution_count": 381,
   "metadata": {},
   "outputs": [
    {
     "name": "stdout",
     "output_type": "stream",
     "text": [
      "K-fold ALL R2 score - RF_iid: 0.8883\n",
      "K-fold ALL MSE score - RF_iid: 0.0099\n",
      "K-fold ALL MAE score - RF_iid: 0.0660\n"
     ]
    }
   ],
   "source": [
    "# Training\n",
    "rf_run = TimeSeriesRandomForestRegressor(random_state=42, bootstrap='sb', max_depth=grid_cv.best_params_['max_depth'], n_estimators=grid_cv.best_params_['n_estimators'])\n",
    "rf_run.fit(X_har_train, y_train)\n",
    "\n",
    "# Prediction\n",
    "y_pred_test = rf_run.predict(X_har_test)\n",
    "\n",
    "# Inverse transformation\n",
    "rf_all_yhat = y_scaler.inverse_transform(y_pred_test.reshape(-1,1))\n",
    "\n",
    "# Compute R2, MSE, MAE\n",
    "print('K-fold ALL R2 score - RF_iid: %.4f' % r2_score(y_test_original, rf_all_yhat))\n",
    "print('K-fold ALL MSE score - RF_iid: %.4f' % mean_squared_error(y_test_original, rf_all_yhat))\n",
    "print('K-fold ALL MAE score - RF_iid: %.4f' % mean_absolute_error(y_test_original, rf_all_yhat))"
   ]
  },
  {
   "cell_type": "code",
   "execution_count": 382,
   "metadata": {},
   "outputs": [
    {
     "data": {
      "image/png": "[encoded data removed]",
      "text/plain": [
       "<Figure size 576x432 with 1 Axes>"
      ]
     },
     "metadata": {
      "needs_background": "light"
     },
     "output_type": "display_data"
    }
   ],
   "source": [
    "# Variable Importance\n",
    "import seaborn as sns\n",
    "\n",
    "rf_importances_values = rf_run.feature_importances_\n",
    "rf_importances = pd.Series(rf_importances_values, index = X_har_test.columns)\n",
    "rf_importances_top = rf_importances.sort_values(ascending=False)[1:20]\n",
    "\n",
    "plt.figure(figsize=(8,6))\n",
    "sns.barplot(x=rf_importances_top, y=rf_importances_top.index)\n",
    "plt.xlabel(\"Importance\")\n",
    "plt.ylabel(\"Features\")\n",
    "plt.title(\"Feature Importance : Stationary Bootstrap\")\n",
    "plt.show()"
   ]
  },
  {
   "cell_type": "code",
   "execution_count": 383,
   "metadata": {},
   "outputs": [
    {
     "data": {
      "image/png": "[encoded data removed]",
      "text/plain": [
       "<Figure size 432x288 with 1 Axes>"
      ]
     },
     "metadata": {
      "needs_background": "light"
     },
     "output_type": "display_data"
    }
   ],
   "source": [
    "fig = plt.figure()\n",
    "plt.plot(df_raw.index[::-1][:275][::-1], y_test_original, '-', label=\"Original Y\")\n",
    "plt.plot(df_raw.index[::-1][:275][::-1], rf_all_yhat, '--', label=\"RF_all_yhat\")\n",
    "plt.legend(bbox_to_anchor=(1, 1.05))\n",
    "plt.ylabel(\"VIX\")\n",
    "plt.title(\"Real & Predicted Values of VIX\")\n",
    "fig.autofmt_xdate()\n",
    "plt.show()"
   ]
  },
  {
   "cell_type": "markdown",
   "metadata": {},
   "source": [
    "#### 2. Cross-Validation : Time-series"
   ]
  },
  {
   "cell_type": "code",
   "execution_count": 384,
   "metadata": {},
   "outputs": [
    {
     "name": "stdout",
     "output_type": "stream",
     "text": [
      "Best Hyperparameters: {'max_depth': 4, 'n_estimators': 250}\n",
      "Best Score: 0.6386788695176016\n"
     ]
    }
   ],
   "source": [
    "# Grid Search CV\n",
    "\n",
    "parameters = {\n",
    "    'n_estimators': [100, 150, 200, 250, 300],\n",
    "    'max_depth': [4,6,8,10,12,14],\n",
    "}\n",
    "\n",
    "regr = TimeSeriesRandomForestRegressor(random_state=42,\n",
    "    bootstrap='sb',\n",
    "    # bootstrap_block_size=np.mean(optimal_block_length(npdata)[0]),\n",
    "    n_jobs = -1)\n",
    "\n",
    "grid_cv = GridSearchCV(regr, parameters, cv = tscv, n_jobs= -1)\n",
    "grid_cv.fit(X_har_train, y_train)\n",
    "\n",
    "print('Best Hyperparameters:', grid_cv.best_params_)\n",
    "print('Best Score:', grid_cv.best_score_)"
   ]
  },
  {
   "cell_type": "code",
   "execution_count": 385,
   "metadata": {},
   "outputs": [
    {
     "name": "stdout",
     "output_type": "stream",
     "text": [
      "Time-Series CV ALL R2 score - RF_iid: 0.8980\n",
      "Time-Series CV ALL MSE score - RF_iid: 0.0091\n",
      "Time-Series CV ALL MAE score - RF_iid: 0.0649\n"
     ]
    }
   ],
   "source": [
    "# Training\n",
    "rf_run = TimeSeriesRandomForestRegressor(random_state=42, bootstrap='sb', max_depth=grid_cv.best_params_['max_depth'], n_estimators=grid_cv.best_params_['n_estimators'])\n",
    "rf_run.fit(X_har_train, y_train)\n",
    "\n",
    "# Prediction\n",
    "y_pred_test = rf_run.predict(X_har_test)\n",
    "\n",
    "# Inverse transformation\n",
    "rf_all_yhat = y_scaler.inverse_transform(y_pred_test.reshape(-1,1))\n",
    "\n",
    "# Compute R2, MSE, MAE\n",
    "print('Time-Series CV ALL R2 score - RF_iid: %.4f' % r2_score(y_test_original, rf_all_yhat))\n",
    "print('Time-Series CV ALL MSE score - RF_iid: %.4f' % mean_squared_error(y_test_original, rf_all_yhat))\n",
    "print('Time-Series CV ALL MAE score - RF_iid: %.4f' % mean_absolute_error(y_test_original, rf_all_yhat))"
   ]
  },
  {
   "cell_type": "code",
   "execution_count": 386,
   "metadata": {},
   "outputs": [
    {
     "data": {
      "image/png": "[encoded data removed]",
      "text/plain": [
       "<Figure size 576x432 with 1 Axes>"
      ]
     },
     "metadata": {
      "needs_background": "light"
     },
     "output_type": "display_data"
    }
   ],
   "source": [
    "# Variable Importance\n",
    "import seaborn as sns\n",
    "\n",
    "rf_importances_values = rf_run.feature_importances_\n",
    "rf_importances = pd.Series(rf_importances_values, index = X_har_test.columns)\n",
    "rf_importances_top = rf_importances.sort_values(ascending=False)[1:20]\n",
    "\n",
    "plt.figure(figsize=(8,6))\n",
    "sns.barplot(x=rf_importances_top, y=rf_importances_top.index)\n",
    "plt.xlabel(\"Importance\")\n",
    "plt.ylabel(\"Features\")\n",
    "plt.title(\"Feature Importance : Stationary Bootstrap\")\n",
    "plt.show()"
   ]
  },
  {
   "cell_type": "code",
   "execution_count": 387,
   "metadata": {},
   "outputs": [
    {
     "data": {
      "image/png": "[encoded data removed]",
      "text/plain": [
       "<Figure size 432x288 with 1 Axes>"
      ]
     },
     "metadata": {
      "needs_background": "light"
     },
     "output_type": "display_data"
    }
   ],
   "source": [
    "fig = plt.figure()\n",
    "plt.plot(df_raw.index[::-1][:275][::-1], y_test_original, '-', label=\"Original Y\")\n",
    "plt.plot(df_raw.index[::-1][:275][::-1], rf_all_yhat, '--', label=\"RF_all_yhat\")\n",
    "plt.legend(bbox_to_anchor=(1, 1.05))\n",
    "plt.ylabel(\"VIX\")\n",
    "plt.title(\"Real & Predicted Values of VIX\")\n",
    "fig.autofmt_xdate()\n",
    "plt.show()"
   ]
  },
  {
   "cell_type": "code",
   "execution_count": null,
   "metadata": {},
   "outputs": [],
   "source": []
  },
  {
   "cell_type": "markdown",
   "metadata": {},
   "source": [
    "### ★ XGBOOST"
   ]
  },
  {
   "cell_type": "code",
   "execution_count": 388,
   "metadata": {},
   "outputs": [],
   "source": [
    "from xgboost import XGBRegressor"
   ]
  },
  {
   "cell_type": "code",
   "execution_count": 412,
   "metadata": {},
   "outputs": [
    {
     "name": "stdout",
     "output_type": "stream",
     "text": [
      "Best Hyperparameters: {'max_depth': 4, 'n_estimators': 100}\n",
      "Best Score: 0.6111076547803485\n"
     ]
    }
   ],
   "source": [
    "# Grid Search CV\n",
    "\n",
    "parameters = {\n",
    "    'n_estimators': [100, 150, 200, 250, 300],\n",
    "    'max_depth': [4,6,8,10,12,14],\n",
    "}\n",
    "\n",
    "regr = XGBRegressor(random_state=42,\n",
    "    # bootstrap_block_size=np.mean(optimal_block_length(npdata)[0]),\n",
    "    n_jobs = -1)\n",
    "\n",
    "grid_cv = GridSearchCV(regr, parameters, cv = tscv, n_jobs= -1)\n",
    "grid_cv.fit(X_har_train, y_train)\n",
    "\n",
    "print('Best Hyperparameters:', grid_cv.best_params_)\n",
    "print('Best Score:', grid_cv.best_score_)"
   ]
  },
  {
   "cell_type": "code",
   "execution_count": 421,
   "metadata": {},
   "outputs": [
    {
     "name": "stdout",
     "output_type": "stream",
     "text": [
      "K-fold ALL R2 score - RF_iid: 0.8761\n",
      "K-fold ALL MSE score - RF_iid: 0.0110\n",
      "K-fold ALL MAE score - RF_iid: 0.0688\n"
     ]
    }
   ],
   "source": [
    "# Training\n",
    "rf_run = XGBRegressor(random_state=42, max_depth=4, n_estimators=100)\n",
    "rf_run.fit(X_har_train, y_train)\n",
    "\n",
    "# Prediction\n",
    "y_pred_test = rf_run.predict(X_har_test)\n",
    "\n",
    "# Inverse transformation\n",
    "rf_all_yhat = y_scaler.inverse_transform(y_pred_test.reshape(-1,1))\n",
    "\n",
    "# Compute R2, MSE, MAE\n",
    "print('K-fold ALL R2 score - RF_iid: %.4f' % r2_score(y_test_original, rf_all_yhat))\n",
    "print('K-fold ALL MSE score - RF_iid: %.4f' % mean_squared_error(y_test_original, rf_all_yhat))\n",
    "print('K-fold ALL MAE score - RF_iid: %.4f' % mean_absolute_error(y_test_original, rf_all_yhat))"
   ]
  },
  {
   "cell_type": "code",
   "execution_count": 409,
   "metadata": {},
   "outputs": [
    {
     "data": {
      "image/png": "[encoded data removed]",
      "text/plain": [
       "<Figure size 576x432 with 1 Axes>"
      ]
     },
     "metadata": {
      "needs_background": "light"
     },
     "output_type": "display_data"
    }
   ],
   "source": [
    "# Variable Importance\n",
    "import seaborn as sns\n",
    "\n",
    "rf_importances_values = rf_run.feature_importances_\n",
    "rf_importances = pd.Series(rf_importances_values, index = X_eco_test.columns)\n",
    "rf_importances_top = rf_importances.sort_values(ascending=False)[1:20]\n",
    "\n",
    "plt.figure(figsize=(8,6))\n",
    "sns.barplot(x=rf_importances_top, y=rf_importances_top.index)\n",
    "plt.xlabel(\"Importance\")\n",
    "plt.ylabel(\"Features\")\n",
    "plt.title(\"Feature Importance XGB\")\n",
    "plt.show()"
   ]
  },
  {
   "cell_type": "code",
   "execution_count": 398,
   "metadata": {},
   "outputs": [
    {
     "data": {
      "text/plain": [
       "Text(0.5, 0, 'Permutation Importance')"
      ]
     },
     "execution_count": 398,
     "metadata": {},
     "output_type": "execute_result"
    },
    {
     "data": {
      "image/png": "[encoded data removed]",
      "text/plain": [
       "<Figure size 432x288 with 1 Axes>"
      ]
     },
     "metadata": {
      "needs_background": "light"
     },
     "output_type": "display_data"
    }
   ],
   "source": [
    "from sklearn.inspection import permutation_importance\n",
    "perm_importance = permutation_importance(rf_run, X_all_test, y_test)\n",
    "sorted_idx = perm_importance.importances_mean.argsort()[::-1][1:15]\n",
    "plt.barh(X_all_train.columns[sorted_idx], perm_importance.importances_mean[sorted_idx])\n",
    "plt.xlabel(\"Permutation Importance\")"
   ]
  },
  {
   "cell_type": "code",
   "execution_count": 299,
   "metadata": {},
   "outputs": [],
   "source": [
    "# # define model evaluation method\n",
    "# cv = RepeatedKFold(n_splits=10, n_repeats=3, random_state=1)\n",
    "# # evaluate model\n",
    "# scores = cross_val_score(model, X, y, scoring='neg_mean_absolute_error', cv=cv, n_jobs=-1)"
   ]
  },
  {
   "cell_type": "code",
   "execution_count": 396,
   "metadata": {},
   "outputs": [
    {
     "data": {
      "text/plain": [
       "XGBRegressor(base_score=0.5, booster='gbtree', callbacks=None,\n",
       "             colsample_bylevel=1, colsample_bynode=1, colsample_bytree=1,\n",
       "             early_stopping_rounds=None, enable_categorical=False,\n",
       "             eval_metric=None, gamma=0, gpu_id=-1, grow_policy='depthwise',\n",
       "             importance_type=None, interaction_constraints='',\n",
       "             learning_rate=0.300000012, max_bin=256, max_cat_to_onehot=4,\n",
       "             max_delta_step=0, max_depth=6, max_leaves=0, min_child_weight=1,\n",
       "             missing=nan, monotone_constraints='()', n_estimators=100, n_jobs=0,\n",
       "             num_parallel_tree=1, predictor='auto', random_state=0, reg_alpha=0,\n",
       "             reg_lambda=1, ...)"
      ]
     },
     "execution_count": 396,
     "metadata": {},
     "output_type": "execute_result"
    }
   ],
   "source": [
    "xgb = XGBRegressor(n_estimators=100)\n",
    "xgb.fit(X_all_train, y_train)"
   ]
  },
  {
   "cell_type": "code",
   "execution_count": 301,
   "metadata": {},
   "outputs": [
    {
     "data": {
      "text/plain": [
       "array([0.79827964, 0.01838857, 0.00702427, 0.0023217 , 0.01375187,\n",
       "       0.00401531, 0.00165384, 0.00225983, 0.00232501, 0.00162853,\n",
       "       0.00319575, 0.00318747, 0.00264943, 0.00279379, 0.00203347,\n",
       "       0.00425133, 0.00502548, 0.00800996, 0.00581298, 0.022825  ,\n",
       "       0.00447089, 0.00246311, 0.00158842, 0.        , 0.00385777,\n",
       "       0.01017254, 0.00256342, 0.00229558, 0.00397507, 0.00161361,\n",
       "       0.00708376, 0.00305034, 0.00376339, 0.00250729, 0.00271903,\n",
       "       0.0022403 , 0.00400364, 0.00417479, 0.00335604, 0.00294207,\n",
       "       0.00501741, 0.00424811, 0.00268456, 0.00457068, 0.00320501],\n",
       "      dtype=float32)"
      ]
     },
     "execution_count": 301,
     "metadata": {},
     "output_type": "execute_result"
    }
   ],
   "source": [
    "xgb.feature_importances_"
   ]
  },
  {
   "cell_type": "code",
   "execution_count": 397,
   "metadata": {},
   "outputs": [
    {
     "data": {
      "text/plain": [
       "0.003953664245880621"
      ]
     },
     "execution_count": 397,
     "metadata": {},
     "output_type": "execute_result"
    }
   ],
   "source": [
    "yhat_xgb = xgb.predict(X_all_test)\n",
    "mean_squared_error(y_test, yhat_xgb)"
   ]
  },
  {
   "cell_type": "code",
   "execution_count": 303,
   "metadata": {},
   "outputs": [
    {
     "data": {
      "image/png": "[encoded data removed]",
      "text/plain": [
       "<Figure size 432x288 with 1 Axes>"
      ]
     },
     "metadata": {
      "needs_background": "light"
     },
     "output_type": "display_data"
    }
   ],
   "source": [
    "fig = plt.figure()\n",
    "plt.plot(range(len(y_test)), y_test, '-', label=\"Original Y\")\n",
    "plt.plot(range(len(y_test)), yhat_xgb, '--', label=\"rf_y_hat\")\n",
    "plt.legend(loc='upper right')\n",
    "plt.show()"
   ]
  },
  {
   "cell_type": "code",
   "execution_count": 304,
   "metadata": {},
   "outputs": [
    {
     "data": {
      "text/plain": [
       "Text(0.5, 0, 'Xgboost Feature Importance')"
      ]
     },
     "execution_count": 304,
     "metadata": {},
     "output_type": "execute_result"
    },
    {
     "data": {
      "image/png": "[encoded data removed]",
      "text/plain": [
       "<Figure size 432x288 with 1 Axes>"
      ]
     },
     "metadata": {
      "needs_background": "light"
     },
     "output_type": "display_data"
    }
   ],
   "source": [
    "sorted_idx = xgb.feature_importances_.argsort()[::-1][0:15]\n",
    "plt.barh(X_all_train.columns[sorted_idx], xgb.feature_importances_[sorted_idx])\n",
    "plt.xlabel(\"Xgboost Feature Importance\")"
   ]
  },
  {
   "cell_type": "code",
   "execution_count": 305,
   "metadata": {},
   "outputs": [
    {
     "data": {
      "text/plain": [
       "Text(0.5, 0, 'Permutation Importance')"
      ]
     },
     "execution_count": 305,
     "metadata": {},
     "output_type": "execute_result"
    },
    {
     "data": {
      "image/png": "[encoded data removed]",
      "text/plain": [
       "<Figure size 432x288 with 1 Axes>"
      ]
     },
     "metadata": {
      "needs_background": "light"
     },
     "output_type": "display_data"
    }
   ],
   "source": [
    "from sklearn.inspection import permutation_importance\n",
    "perm_importance = permutation_importance(xgb, X_all_test, y_test)\n",
    "sorted_idx = perm_importance.importances_mean.argsort()[::-1][1:15]\n",
    "plt.barh(X_all_train.columns[sorted_idx], perm_importance.importances_mean[sorted_idx])\n",
    "plt.xlabel(\"Permutation Importance\")"
   ]
  },
  {
   "cell_type": "code",
   "execution_count": null,
   "metadata": {},
   "outputs": [],
   "source": []
  },
  {
   "cell_type": "code",
   "execution_count": null,
   "metadata": {},
   "outputs": [],
   "source": []
  },
  {
   "cell_type": "code",
   "execution_count": null,
   "metadata": {},
   "outputs": [],
   "source": []
  },
  {
   "cell_type": "code",
   "execution_count": null,
   "metadata": {},
   "outputs": [],
   "source": []
  }
 ],
 "metadata": {
  "kernelspec": {
   "display_name": "Python 3.7.11 ('energy')",
   "language": "python",
   "name": "python3"
  },
  "language_info": {
   "codemirror_mode": {
    "name": "ipython",
    "version": 3
   },
   "file_extension": ".py",
   "mimetype": "text/x-python",
   "name": "python",
   "nbconvert_exporter": "python",
   "pygments_lexer": "ipython3",
   "version": "3.7.11"
  },
  "orig_nbformat": 4,
  "vscode": {
   "interpreter": {
    "hash": "4bfb10b5d9ce7566c5a8d7bf9a9a0f913b2bed9b3c98c584ca64da14a413cda6"
   }
  }
 },
 "nbformat": 4,
 "nbformat_minor": 2
}
