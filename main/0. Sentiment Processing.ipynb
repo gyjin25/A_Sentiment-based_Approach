{
 "cells": [
  {
   "cell_type": "markdown",
   "metadata": {},
   "source": [
    "# Using Transformers to compute Sentiment Scores"
   ]
  },
  {
   "cell_type": "code",
   "execution_count": null,
   "metadata": {},
   "outputs": [],
   "source": [
    "import pandas as pd\n",
    "import numpy as np\n",
    "import os\n",
    "import pickle\n",
    "\n",
    "import transformers\n",
    "from transformers import AutoModelForSequenceClassification\n",
    "from transformers import TFAutoModelForSequenceClassification\n",
    "from transformers import AutoTokenizer, AutoConfig\n",
    "from scipy.special import softmax"
   ]
  },
  {
   "cell_type": "code",
   "execution_count": 3,
   "metadata": {},
   "outputs": [],
   "source": [
    "Output_final = pd.concat([pd.read_pickle(r'../data_scrap/Final/'+x) for x in os.listdir('../data_scrap/Final/')])\n",
    "Output_final.reset_index(drop = True, inplace = True)"
   ]
  },
  {
   "cell_type": "code",
   "execution_count": 5,
   "metadata": {},
   "outputs": [],
   "source": [
    "def preprocess(text):\n",
    "    new_text = []\n",
    "    for t in text.split(\" \"):\n",
    "        t = '@user' if t.startswith('@') and len(t) > 1 else t\n",
    "        t = 'http' if t.startswith('http') else t\n",
    "        new_text.append(t)\n",
    "    return \" \".join(new_text)"
   ]
  },
  {
   "cell_type": "code",
   "execution_count": 9,
   "metadata": {},
   "outputs": [],
   "source": [
    "MODEL = f\"cardiffnlp/twitter-roberta-base-sentiment-latest\"\n",
    "tokenizer = AutoTokenizer.from_pretrained(MODEL)\n",
    "config = AutoConfig.from_pretrained(MODEL)\n",
    "\n",
    "model = AutoModelForSequenceClassification.from_pretrained(MODEL)"
   ]
  },
  {
   "cell_type": "code",
   "execution_count": null,
   "metadata": {},
   "outputs": [],
   "source": [
    "# Example\n",
    "\n",
    "# text = \"Figuring out MSCI 454 tweeting...\"\n",
    "# text = preprocess(text)\n",
    "# encoded_input = tokenizer(text, return_tensors='pt')\n",
    "# output = model(**encoded_input)\n",
    "# scores = output[0][0].detach().numpy()\n",
    "# scores = softmax(scores)\n",
    "# ranking = np.argsort(scores)\n",
    "# ranking = ranking[::-1]\n",
    "# for i in range(scores.shape[0]):\n",
    "#     l = config.id2label[ranking[i]]\n",
    "#     s = scores[ranking[i]]\n",
    "#     print(f\"{i+1}) {l} {np.round(float(s), 4)}\")"
   ]
  },
  {
   "cell_type": "code",
   "execution_count": null,
   "metadata": {},
   "outputs": [],
   "source": [
    "Output_1 = Output_final[0:500000]\n",
    "Output_2 = Output_final[500000:1000000].reset_index(drop=True)\n",
    "Output_3 = Output_final[1000000:1500000].reset_index(drop=True)\n",
    "Output_4 = Output_final[1500000:2000000].reset_index(drop=True)\n",
    "Output_5 = Output_final[2000000:2119815].reset_index(drop=True)"
   ]
  },
  {
   "cell_type": "code",
   "execution_count": null,
   "metadata": {},
   "outputs": [],
   "source": [
    "for i in range(Output_5.shape[0]):\n",
    "    text = Output_5.loc[i, 'Content']\n",
    "    text = preprocess(text)\n",
    "    encoded_input = tokenizer(text, return_tensors='pt')\n",
    "    output = model(**encoded_input)\n",
    "    scores = output[0][0].detach().numpy()\n",
    "    scores = softmax(scores)\n",
    "    \n",
    "    if (i+1) % 500 == 0:\n",
    "        if (i+1) % 1000 == 0:\n",
    "            print(\"It is working....Up to {} scores computed.\".format((i+1)))\n",
    "        print('Wait for a while....')\n",
    "\n",
    "    Output_1.loc[i,'Score'] = scores[0]*(-1) + scores[1]*(0) +  scores[2]*(1)\n",
    "    \n",
    "SAVE_FOLDER = 'bert'\n",
    "\n",
    "with open('../data_scrap/' + SAVE_FOLDER + '/' + 'bert_3' + '.pickle', 'wb') as f:\n",
    "    pickle.dump(Output_2, f, pickle.HIGHEST_PROTOCOL)"
   ]
  }
 ],
 "metadata": {
  "kernelspec": {
   "display_name": "Python 3.7.11 ('energy')",
   "language": "python",
   "name": "python3"
  },
  "language_info": {
   "codemirror_mode": {
    "name": "ipython",
    "version": 3
   },
   "file_extension": ".py",
   "mimetype": "text/x-python",
   "name": "python",
   "nbconvert_exporter": "python",
   "pygments_lexer": "ipython3",
   "version": "3.7.11"
  },
  "orig_nbformat": 4,
  "vscode": {
   "interpreter": {
    "hash": "4bfb10b5d9ce7566c5a8d7bf9a9a0f913b2bed9b3c98c584ca64da14a413cda6"
   }
  }
 },
 "nbformat": 4,
 "nbformat_minor": 2
}
