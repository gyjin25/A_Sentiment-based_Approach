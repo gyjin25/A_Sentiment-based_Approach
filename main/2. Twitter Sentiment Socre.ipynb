{
 "cells": [
  {
   "cell_type": "markdown",
   "metadata": {},
   "source": [
    "# Generating Twitter Sentiment Score Data Frame"
   ]
  },
  {
   "cell_type": "markdown",
   "metadata": {},
   "source": [
    "### Import packages and load file"
   ]
  },
  {
   "cell_type": "code",
   "execution_count": 1,
   "metadata": {},
   "outputs": [],
   "source": [
    "import pandas as pd\n",
    "import numpy as np\n",
    "import os\n",
    "import pickle\n",
    "import datetime\n",
    "\n",
    "pd.set_option('Display.max_columns', 100)\n",
    "pd.set_option('display.max_colwidth', None)\n",
    "pd.set_option('display.max_rows', None)"
   ]
  },
  {
   "attachments": {},
   "cell_type": "markdown",
   "metadata": {},
   "source": [
    "### ★ Load Twitter sentiment data from pickle files"
   ]
  },
  {
   "cell_type": "code",
   "execution_count": 13,
   "metadata": {},
   "outputs": [],
   "source": [
    "twitter = pd.concat([pd.read_pickle(r'../data_scrap/bert/'+x) for x in os.listdir('../data_scrap/bert/')])\n",
    "twitter.reset_index(drop = True, inplace = True)\n",
    "\n",
    "# Change datetime structure from y-m-d-h-s to y-m-d\n",
    "twitter['Date'] = pd.to_datetime(twitter['Date']).dt.date"
   ]
  },
  {
   "cell_type": "code",
   "execution_count": 73,
   "metadata": {},
   "outputs": [
    {
     "name": "stderr",
     "output_type": "stream",
     "text": [
      "c:\\Users\\user\\anaconda3\\envs\\sentiment\\lib\\site-packages\\pandas\\core\\ops\\array_ops.py:73: FutureWarning: Comparison of Timestamp with datetime.date is deprecated in order to match the standard library behavior. In a future version these will be considered non-comparable. Use 'ts == pd.Timestamp(date)' or 'ts.date() == date' instead.\n",
      "  result = libops.scalar_compare(x.ravel(), y, op)\n"
     ]
    }
   ],
   "source": [
    "twitter = twitter.loc[twitter['Date'] <= pd.to_datetime('2022-08-31')]"
   ]
  },
  {
   "attachments": {},
   "cell_type": "markdown",
   "metadata": {},
   "source": [
    "### ★ Compare number of observations in each year from 2010 ~ 2021"
   ]
  },
  {
   "cell_type": "code",
   "execution_count": 74,
   "metadata": {},
   "outputs": [
    {
     "data": {
      "text/plain": [
       "(1974238, 16)"
      ]
     },
     "execution_count": 74,
     "metadata": {},
     "output_type": "execute_result"
    }
   ],
   "source": [
    "# Deleting duplicated values for Content\n",
    "\n",
    "twitter = twitter.loc[~twitter['Content'].duplicated()]\n",
    "twitter.loc[twitter['Date'] < pd.to_datetime('2022-08-31')].shape"
   ]
  },
  {
   "cell_type": "code",
   "execution_count": null,
   "metadata": {},
   "outputs": [],
   "source": [
    "date = esad_update2['Date'].apply(lambda x: x.strftime(\"%Y-%m-%d\"))"
   ]
  },
  {
   "cell_type": "code",
   "execution_count": 45,
   "metadata": {},
   "outputs": [
    {
     "data": {
      "text/plain": [
       "(3, 8, 21)"
      ]
     },
     "execution_count": 45,
     "metadata": {},
     "output_type": "execute_result"
    }
   ],
   "source": [
    "date.str.contains(\"2010\").sum(), date.str.contains(\"2011\").sum(), date.str.contains(\"2012\").sum()"
   ]
  },
  {
   "cell_type": "code",
   "execution_count": 46,
   "metadata": {},
   "outputs": [
    {
     "data": {
      "text/plain": [
       "(33, 50, 30)"
      ]
     },
     "execution_count": 46,
     "metadata": {},
     "output_type": "execute_result"
    }
   ],
   "source": [
    "date.str.contains(\"2013\").sum(), date.str.contains(\"2014\").sum(), date.str.contains(\"2015\").sum()"
   ]
  },
  {
   "cell_type": "code",
   "execution_count": 47,
   "metadata": {},
   "outputs": [
    {
     "data": {
      "text/plain": [
       "(58, 47, 121)"
      ]
     },
     "execution_count": 47,
     "metadata": {},
     "output_type": "execute_result"
    }
   ],
   "source": [
    "date.str.contains(\"2016\").sum(), date.str.contains(\"2017\").sum(), date.str.contains(\"2018\").sum()"
   ]
  },
  {
   "cell_type": "code",
   "execution_count": 48,
   "metadata": {},
   "outputs": [
    {
     "data": {
      "text/plain": [
       "(118, 499, 566)"
      ]
     },
     "execution_count": 48,
     "metadata": {},
     "output_type": "execute_result"
    }
   ],
   "source": [
    "date.str.contains(\"2019\").sum(), date.str.contains(\"2020\").sum(), date.str.contains(\"2021\").sum()"
   ]
  },
  {
   "cell_type": "code",
   "execution_count": 49,
   "metadata": {},
   "outputs": [
    {
     "data": {
      "text/plain": [
       "811"
      ]
     },
     "execution_count": 49,
     "metadata": {},
     "output_type": "execute_result"
    }
   ],
   "source": [
    "date.str.contains(\"2022\").sum()"
   ]
  },
  {
   "attachments": {},
   "cell_type": "markdown",
   "metadata": {},
   "source": [
    "### ★ Check Politics"
   ]
  },
  {
   "cell_type": "code",
   "execution_count": 75,
   "metadata": {},
   "outputs": [
    {
     "name": "stderr",
     "output_type": "stream",
     "text": [
      "C:\\Users\\user\\AppData\\Local\\Temp\\ipykernel_17924\\2483963932.py:2: SettingWithCopyWarning: \n",
      "A value is trying to be set on a copy of a slice from a DataFrame.\n",
      "Try using .loc[row_indexer,col_indexer] = value instead\n",
      "\n",
      "See the caveats in the documentation: https://pandas.pydata.org/pandas-docs/stable/user_guide/indexing.html#returning-a-view-versus-a-copy\n",
      "  easd['Content'] = easd['Content'].str.lower()\n"
     ]
    }
   ],
   "source": [
    "easd = twitter[['Date', 'Score', 'Content']]\n",
    "easd['Content'] = easd['Content'].str.lower()"
   ]
  },
  {
   "cell_type": "code",
   "execution_count": 76,
   "metadata": {},
   "outputs": [
    {
     "data": {
      "text/html": [
       "<div>\n",
       "<style scoped>\n",
       "    .dataframe tbody tr th:only-of-type {\n",
       "        vertical-align: middle;\n",
       "    }\n",
       "\n",
       "    .dataframe tbody tr th {\n",
       "        vertical-align: top;\n",
       "    }\n",
       "\n",
       "    .dataframe thead th {\n",
       "        text-align: right;\n",
       "    }\n",
       "</style>\n",
       "<table border=\"1\" class=\"dataframe\">\n",
       "  <thead>\n",
       "    <tr style=\"text-align: right;\">\n",
       "      <th></th>\n",
       "      <th>Date</th>\n",
       "      <th>Score</th>\n",
       "      <th>Content</th>\n",
       "    </tr>\n",
       "  </thead>\n",
       "  <tbody>\n",
       "    <tr>\n",
       "      <th>2069420</th>\n",
       "      <td>2022-08-27</td>\n",
       "      <td>-0.822627</td>\n",
       "      <td>$spy $qqq $qqq $iwm\\nraising rates during a recession.. first time in history. clowns 🤡 show</td>\n",
       "    </tr>\n",
       "    <tr>\n",
       "      <th>2069421</th>\n",
       "      <td>2022-08-27</td>\n",
       "      <td>0.138095</td>\n",
       "      <td>5 most mentioned us stocks on reddit in past 24 hours:\\n1. $bbby : 203\\n2. $spy : 81\\n3. $gme : 64\\n4. $qqq : 62\\n5. $ea : 20\\n#stock #trading #usstock #stockmarket</td>\n",
       "    </tr>\n",
       "    <tr>\n",
       "      <th>2069422</th>\n",
       "      <td>2022-08-27</td>\n",
       "      <td>0.399261</td>\n",
       "      <td>$spy interesting that the bond market barely budged. \\nthis was all about the equity market getting realigned.</td>\n",
       "    </tr>\n",
       "    <tr>\n",
       "      <th>2069423</th>\n",
       "      <td>2022-08-27</td>\n",
       "      <td>-0.940239</td>\n",
       "      <td>$spy jpow you son of a rat.</td>\n",
       "    </tr>\n",
       "    <tr>\n",
       "      <th>2069424</th>\n",
       "      <td>2022-08-27</td>\n",
       "      <td>-0.869257</td>\n",
       "      <td>$spy had it's worse open to close this whole year 😂</td>\n",
       "    </tr>\n",
       "  </tbody>\n",
       "</table>\n",
       "</div>"
      ],
      "text/plain": [
       "               Date     Score  \\\n",
       "2069420  2022-08-27 -0.822627   \n",
       "2069421  2022-08-27  0.138095   \n",
       "2069422  2022-08-27  0.399261   \n",
       "2069423  2022-08-27 -0.940239   \n",
       "2069424  2022-08-27 -0.869257   \n",
       "\n",
       "                                                                                                                                                                      Content  \n",
       "2069420                                                                          $spy $qqq $qqq $iwm\\nraising rates during a recession.. first time in history. clowns 🤡 show  \n",
       "2069421  5 most mentioned us stocks on reddit in past 24 hours:\\n1. $bbby : 203\\n2. $spy : 81\\n3. $gme : 64\\n4. $qqq : 62\\n5. $ea : 20\\n#stock #trading #usstock #stockmarket  \n",
       "2069422                                                        $spy interesting that the bond market barely budged. \\nthis was all about the equity market getting realigned.  \n",
       "2069423                                                                                                                                           $spy jpow you son of a rat.  \n",
       "2069424                                                                                                                   $spy had it's worse open to close this whole year 😂  "
      ]
     },
     "execution_count": 76,
     "metadata": {},
     "output_type": "execute_result"
    }
   ],
   "source": [
    "easd.tail()"
   ]
  },
  {
   "cell_type": "code",
   "execution_count": 77,
   "metadata": {},
   "outputs": [
    {
     "name": "stderr",
     "output_type": "stream",
     "text": [
      "c:\\Users\\user\\anaconda3\\envs\\sentiment\\lib\\site-packages\\pandas\\core\\ops\\array_ops.py:73: FutureWarning: Comparison of Timestamp with datetime.date is deprecated in order to match the standard library behavior. In a future version these will be considered non-comparable. Use 'ts == pd.Timestamp(date)' or 'ts.date() == date' instead.\n",
      "  result = libops.scalar_compare(x.ravel(), y, op)\n"
     ]
    },
    {
     "data": {
      "text/plain": [
       "0.0922879107137405"
      ]
     },
     "execution_count": 77,
     "metadata": {},
     "output_type": "execute_result"
    }
   ],
   "source": [
    "easd[easd['Date'] < pd.to_datetime('2018-12-31')].Score.mean()"
   ]
  },
  {
   "attachments": {},
   "cell_type": "markdown",
   "metadata": {},
   "source": [
    "### ★ DELETE Politics"
   ]
  },
  {
   "cell_type": "code",
   "execution_count": 68,
   "metadata": {},
   "outputs": [],
   "source": [
    "# easd.loc[easd['Content'].str.contains('trump'), ['Score']].mean()\n",
    "easd_update = easd.loc[~(easd['Content'].str.contains('trump'))]\n",
    "easd_update = easd_update.loc[~(easd['Content'].str.contains('obama'))]\n",
    "easd_update = easd_update.loc[~(easd['Content'].str.contains('hillary'))]\n",
    "easd_update = easd_update.loc[~(easd['Content'].str.contains('biden'))]\n",
    "easd_update = easd_update.loc[~(easd['Content'].str.contains('elon'))]\n",
    "\n",
    "easd_update = easd_update.loc[~(easd['Content'].str.contains('crypto'))]\n",
    "easd_update = easd_update.loc[~(easd['Content'].str.contains('bitcoin'))]\n",
    "easd_update = easd_update.loc[~(easd['Content'].str.contains('btc'))]\n",
    "easd_update = easd_update.loc[~(easd['Content'].str.contains('etherium'))]\n",
    "easd_update = easd_update.loc[~(easd['Content'].str.contains('doge'))]\n",
    "easd_update = easd_update.loc[~(easd['Content'].str.contains('xrp'))]\n",
    "\n",
    "easd_update = easd_update.loc[~(easd['Content'].str.contains('republican'))]\n",
    "easd_update = easd_update.loc[~(easd['Content'].str.contains('democrat'))]\n",
    "easd_update = easd_update.loc[~(easd['Content'].str.contains('election'))]\n",
    "\n",
    "easd_update = easd_update.loc[~(easd['Content'].str.contains('russia'))]\n",
    "easd_update = easd_update.loc[~(easd['Content'].str.contains('ukraine'))]"
   ]
  },
  {
   "cell_type": "code",
   "execution_count": 18,
   "metadata": {},
   "outputs": [
    {
     "data": {
      "text/plain": [
       "(1931095, 3)"
      ]
     },
     "execution_count": 18,
     "metadata": {},
     "output_type": "execute_result"
    }
   ],
   "source": [
    "easd_update.shape"
   ]
  },
  {
   "attachments": {},
   "cell_type": "markdown",
   "metadata": {},
   "source": [
    "### ☆ Politicians Check"
   ]
  },
  {
   "cell_type": "code",
   "execution_count": 78,
   "metadata": {},
   "outputs": [],
   "source": [
    "trump = easd.loc[(easd['Content'].str.contains('trump'))]\n",
    "date = trump['Date'].apply(lambda x: x.strftime(\"%Y-%m-%d\"))"
   ]
  },
  {
   "cell_type": "code",
   "execution_count": 79,
   "metadata": {},
   "outputs": [],
   "source": [
    "obama = easd.loc[(easd['Content'].str.contains('obama'))]\n",
    "date = obama['Date'].apply(lambda x: x.strftime(\"%Y-%m-%d\"))"
   ]
  },
  {
   "cell_type": "code",
   "execution_count": 80,
   "metadata": {},
   "outputs": [],
   "source": [
    "biden = easd.loc[(easd['Content'].str.contains('biden'))]\n",
    "date = biden['Date'].apply(lambda x: x.strftime(\"%Y-%m-%d\"))"
   ]
  },
  {
   "cell_type": "code",
   "execution_count": 81,
   "metadata": {},
   "outputs": [],
   "source": [
    "hillary = easd.loc[(easd['Content'].str.contains('hillary'))]\n",
    "date = hillary['Date'].apply(lambda x: x.strftime(\"%Y-%m-%d\"))"
   ]
  },
  {
   "cell_type": "code",
   "execution_count": 82,
   "metadata": {},
   "outputs": [],
   "source": [
    "musk = easd.loc[(easd['Content'].str.contains('elon'))]\n",
    "date = musk['Date'].apply(lambda x: x.strftime(\"%Y-%m-%d\"))"
   ]
  },
  {
   "cell_type": "code",
   "execution_count": 20,
   "metadata": {},
   "outputs": [
    {
     "data": {
      "text/plain": [
       "(3, 8, 21)"
      ]
     },
     "execution_count": 20,
     "metadata": {},
     "output_type": "execute_result"
    }
   ],
   "source": [
    "date.str.contains(\"2010\").sum(), date.str.contains(\"2011\").sum(), date.str.contains(\"2012\").sum()\n"
   ]
  },
  {
   "cell_type": "code",
   "execution_count": 21,
   "metadata": {},
   "outputs": [
    {
     "data": {
      "text/plain": [
       "(33, 50, 30)"
      ]
     },
     "execution_count": 21,
     "metadata": {},
     "output_type": "execute_result"
    }
   ],
   "source": [
    "date.str.contains(\"2013\").sum(), date.str.contains(\"2014\").sum(), date.str.contains(\"2015\").sum()"
   ]
  },
  {
   "cell_type": "code",
   "execution_count": 22,
   "metadata": {},
   "outputs": [
    {
     "data": {
      "text/plain": [
       "(58, 47, 121)"
      ]
     },
     "execution_count": 22,
     "metadata": {},
     "output_type": "execute_result"
    }
   ],
   "source": [
    "date.str.contains(\"2016\").sum(), date.str.contains(\"2017\").sum(), date.str.contains(\"2018\").sum()\n"
   ]
  },
  {
   "cell_type": "code",
   "execution_count": 23,
   "metadata": {},
   "outputs": [
    {
     "data": {
      "text/plain": [
       "(118, 499, 566, 811)"
      ]
     },
     "execution_count": 23,
     "metadata": {},
     "output_type": "execute_result"
    }
   ],
   "source": [
    "date.str.contains(\"2019\").sum(), date.str.contains(\"2020\").sum(), date.str.contains(\"2021\").sum(), date.str.contains(\"2022\").sum()"
   ]
  },
  {
   "attachments": {},
   "cell_type": "markdown",
   "metadata": {},
   "source": [
    "### ★ Final Dataframe"
   ]
  },
  {
   "cell_type": "code",
   "execution_count": 95,
   "metadata": {},
   "outputs": [],
   "source": [
    "easd = easd.loc[~(easd['Content'].duplicated())]\n",
    "easd_update = easd_update.loc[~(easd_update['Content'].duplicated())]"
   ]
  },
  {
   "cell_type": "code",
   "execution_count": 96,
   "metadata": {},
   "outputs": [
    {
     "data": {
      "text/plain": [
       "((1972034, 3), (1926720, 3))"
      ]
     },
     "execution_count": 96,
     "metadata": {},
     "output_type": "execute_result"
    }
   ],
   "source": [
    "easd.shape, easd_update.shape"
   ]
  },
  {
   "cell_type": "code",
   "execution_count": 97,
   "metadata": {},
   "outputs": [],
   "source": [
    "# Delete obs with scores less or over than +- 0.2 & contains rt\n",
    "# esad_update2 = easd_update.loc[((easd_update['Score'] < -0.3) | (easd_update['Score'] > 0.3)) & ~(easd_update['Content'].str.contains('@'))]\n",
    "esad_update2 = easd_update.loc[((easd_update['Score'] < -0.3) | (easd_update['Score'] > 0.3)) & ((easd_update['Score'] < -0.95) | (easd_update['Score'] < 0.95)) & ~(easd_update['Content'].str.contains('@'))]"
   ]
  },
  {
   "cell_type": "code",
   "execution_count": 98,
   "metadata": {},
   "outputs": [
    {
     "data": {
      "text/plain": [
       "(845246, 3)"
      ]
     },
     "execution_count": 98,
     "metadata": {},
     "output_type": "execute_result"
    }
   ],
   "source": [
    "esad_update2.shape"
   ]
  },
  {
   "attachments": {},
   "cell_type": "markdown",
   "metadata": {},
   "source": [
    "### ★ check"
   ]
  },
  {
   "cell_type": "code",
   "execution_count": null,
   "metadata": {},
   "outputs": [],
   "source": [
    "esad_update2.loc[esad_update2['Date'] == pd.to_datetime('2022-03-18')].head(10)"
   ]
  },
  {
   "cell_type": "code",
   "execution_count": null,
   "metadata": {},
   "outputs": [],
   "source": [
    "esad_update2.loc[(esad_update2['Date'] > pd.to_datetime('2022-04-01')) & (esad_update2['Score'] > 0.95)].head(20)"
   ]
  },
  {
   "cell_type": "code",
   "execution_count": 100,
   "metadata": {},
   "outputs": [
    {
     "data": {
      "text/plain": [
       "nan"
      ]
     },
     "execution_count": 100,
     "metadata": {},
     "output_type": "execute_result"
    }
   ],
   "source": [
    "esad_update2.loc[esad_update2['Content'].str.contains(\"democrat\")].Score.mean()"
   ]
  },
  {
   "attachments": {},
   "cell_type": "markdown",
   "metadata": {},
   "source": [
    "### ☆ End check"
   ]
  },
  {
   "cell_type": "code",
   "execution_count": 101,
   "metadata": {},
   "outputs": [
    {
     "data": {
      "text/plain": [
       "0.07363830037161385"
      ]
     },
     "execution_count": 101,
     "metadata": {},
     "output_type": "execute_result"
    }
   ],
   "source": [
    "# Mean values of all Scores (no averaging daily)\n",
    "easd.Score.mean()"
   ]
  },
  {
   "cell_type": "code",
   "execution_count": 102,
   "metadata": {},
   "outputs": [
    {
     "data": {
      "text/plain": [
       "Score    0.10158\n",
       "dtype: float64"
      ]
     },
     "execution_count": 102,
     "metadata": {},
     "output_type": "execute_result"
    }
   ],
   "source": [
    "easd_2022 = easd.groupby('Date').mean()\n",
    "easd_2022.mean()"
   ]
  },
  {
   "cell_type": "code",
   "execution_count": 103,
   "metadata": {},
   "outputs": [
    {
     "data": {
      "text/plain": [
       "Score    0.098869\n",
       "dtype: float64"
      ]
     },
     "execution_count": 103,
     "metadata": {},
     "output_type": "execute_result"
    }
   ],
   "source": [
    "easd_update2 = esad_update2.groupby('Date').mean()\n",
    "easd_update2.mean()"
   ]
  },
  {
   "cell_type": "code",
   "execution_count": 104,
   "metadata": {},
   "outputs": [
    {
     "data": {
      "text/html": [
       "<div>\n",
       "<style scoped>\n",
       "    .dataframe tbody tr th:only-of-type {\n",
       "        vertical-align: middle;\n",
       "    }\n",
       "\n",
       "    .dataframe tbody tr th {\n",
       "        vertical-align: top;\n",
       "    }\n",
       "\n",
       "    .dataframe thead th {\n",
       "        text-align: right;\n",
       "    }\n",
       "</style>\n",
       "<table border=\"1\" class=\"dataframe\">\n",
       "  <thead>\n",
       "    <tr style=\"text-align: right;\">\n",
       "      <th></th>\n",
       "      <th>Score</th>\n",
       "    </tr>\n",
       "    <tr>\n",
       "      <th>Date</th>\n",
       "      <th></th>\n",
       "    </tr>\n",
       "  </thead>\n",
       "  <tbody>\n",
       "    <tr>\n",
       "      <th>2022-09-26</th>\n",
       "      <td>0.014424</td>\n",
       "    </tr>\n",
       "    <tr>\n",
       "      <th>2022-09-27</th>\n",
       "      <td>-0.000106</td>\n",
       "    </tr>\n",
       "    <tr>\n",
       "      <th>2022-09-28</th>\n",
       "      <td>0.082709</td>\n",
       "    </tr>\n",
       "    <tr>\n",
       "      <th>2022-09-29</th>\n",
       "      <td>-0.034796</td>\n",
       "    </tr>\n",
       "    <tr>\n",
       "      <th>2022-09-30</th>\n",
       "      <td>-0.003156</td>\n",
       "    </tr>\n",
       "  </tbody>\n",
       "</table>\n",
       "</div>"
      ],
      "text/plain": [
       "               Score\n",
       "Date                \n",
       "2022-09-26  0.014424\n",
       "2022-09-27 -0.000106\n",
       "2022-09-28  0.082709\n",
       "2022-09-29 -0.034796\n",
       "2022-09-30 -0.003156"
      ]
     },
     "execution_count": 104,
     "metadata": {},
     "output_type": "execute_result"
    }
   ],
   "source": [
    "easd_update2.tail()"
   ]
  },
  {
   "cell_type": "code",
   "execution_count": 159,
   "metadata": {},
   "outputs": [
    {
     "name": "stderr",
     "output_type": "stream",
     "text": [
      "c:\\Users\\user\\anaconda3\\envs\\sentiment\\lib\\site-packages\\pandas\\core\\ops\\array_ops.py:73: FutureWarning: Comparison of Timestamp with datetime.date is deprecated in order to match the standard library behavior. In a future version these will be considered non-comparable. Use 'ts == pd.Timestamp(date)' or 'ts.date() == date' instead.\n",
      "  result = libops.scalar_compare(x.ravel(), y, op)\n"
     ]
    }
   ],
   "source": [
    "easd_2019to2022 = easd_update2.loc[easd_update2.index > pd.to_datetime(\"2018-12-31\")]"
   ]
  },
  {
   "cell_type": "code",
   "execution_count": 109,
   "metadata": {},
   "outputs": [],
   "source": [
    "import seaborn as sns"
   ]
  },
  {
   "cell_type": "code",
   "execution_count": 160,
   "metadata": {},
   "outputs": [
    {
     "data": {
      "text/plain": [
       "Text(0.5, 1.0, 'Daily Sentiment Score from 2019 to 2022')"
      ]
     },
     "execution_count": 160,
     "metadata": {},
     "output_type": "execute_result"
    },
    {
     "data": {
      "image/png": "[encoded data removed]",
      "text/plain": [
       "<Figure size 640x480 with 1 Axes>"
      ]
     },
     "metadata": {},
     "output_type": "display_data"
    }
   ],
   "source": [
    "import matplotlib.pyplot as plt\n",
    "import seaborn as sns\n",
    "\n",
    "sns.set(style='darkgrid')\n",
    "plt.plot(easd_2019to2022)\n",
    "plt.xlabel(\"Year\")\n",
    "plt.ylabel(\"Score\")\n",
    "plt.title(\"Daily Sentiment Score from 2019 to 2022\")\n"
   ]
  },
  {
   "cell_type": "code",
   "execution_count": 164,
   "metadata": {},
   "outputs": [],
   "source": [
    "df = easd_2019to2022['Score']\n",
    "df.to_csv(\"./sent_score_0603.csv\", index = True)"
   ]
  },
  {
   "cell_type": "code",
   "execution_count": null,
   "metadata": {},
   "outputs": [],
   "source": [
    "df = easd_update2['Score']\n",
    "df.to_csv(\"./sent_score_all.csv\", index = True)"
   ]
  },
  {
   "attachments": {},
   "cell_type": "markdown",
   "metadata": {},
   "source": [
    "### ★ Until 2018 - Original Sample"
   ]
  },
  {
   "cell_type": "code",
   "execution_count": 110,
   "metadata": {},
   "outputs": [
    {
     "name": "stderr",
     "output_type": "stream",
     "text": [
      "c:\\Users\\user\\anaconda3\\envs\\sentiment\\lib\\site-packages\\pandas\\core\\ops\\array_ops.py:73: FutureWarning: Comparison of Timestamp with datetime.date is deprecated in order to match the standard library behavior. In a future version these will be considered non-comparable. Use 'ts == pd.Timestamp(date)' or 'ts.date() == date' instead.\n",
      "  result = libops.scalar_compare(x.ravel(), y, op)\n"
     ]
    },
    {
     "data": {
      "text/plain": [
       "Score    0.111996\n",
       "dtype: float64"
      ]
     },
     "execution_count": 110,
     "metadata": {},
     "output_type": "execute_result"
    }
   ],
   "source": [
    "# Mean value of scores without any screening until 2018\n",
    "easd_2018 = easd.loc[easd['Date'] < pd.to_datetime('2018-12-31')]\n",
    "easd_2018 = easd_2018.groupby('Date').mean()\n",
    "easd_2018.mean()"
   ]
  },
  {
   "cell_type": "code",
   "execution_count": 111,
   "metadata": {},
   "outputs": [
    {
     "name": "stderr",
     "output_type": "stream",
     "text": [
      "c:\\Users\\user\\anaconda3\\envs\\sentiment\\lib\\site-packages\\pandas\\core\\ops\\array_ops.py:73: FutureWarning: Comparison of Timestamp with datetime.date is deprecated in order to match the standard library behavior. In a future version these will be considered non-comparable. Use 'ts == pd.Timestamp(date)' or 'ts.date() == date' instead.\n",
      "  result = libops.scalar_compare(x.ravel(), y, op)\n"
     ]
    },
    {
     "data": {
      "text/plain": [
       "(390885, 3)"
      ]
     },
     "execution_count": 111,
     "metadata": {},
     "output_type": "execute_result"
    }
   ],
   "source": [
    "# Number of observations actually used until 2018?\n",
    "easd_update2_2018 = esad_update2.loc[esad_update2['Date'] < pd.to_datetime('2018-12-31')]\n",
    "easd_update2_2018.shape"
   ]
  },
  {
   "cell_type": "code",
   "execution_count": 112,
   "metadata": {},
   "outputs": [
    {
     "data": {
      "text/plain": [
       "Score    0.107698\n",
       "dtype: float64"
      ]
     },
     "execution_count": 112,
     "metadata": {},
     "output_type": "execute_result"
    }
   ],
   "source": [
    "# Mean value of scores with politician and rt screening until 2018\n",
    "easd_update2_2018 = esad_update2.loc[esad_update2['Date'] < pd.to_datetime('2018-12-31')]\n",
    "easd_update2_2018 = easd_update2_2018.groupby('Date').mean()\n",
    "easd_update2_2018.mean()"
   ]
  },
  {
   "cell_type": "code",
   "execution_count": 113,
   "metadata": {},
   "outputs": [
    {
     "data": {
      "text/plain": [
       "Text(0.5, 1.0, 'Daily Sentiment Score until 2018')"
      ]
     },
     "execution_count": 113,
     "metadata": {},
     "output_type": "execute_result"
    },
    {
     "data": {
      "image/png": "[encoded data removed]",
      "text/plain": [
       "<Figure size 640x480 with 1 Axes>"
      ]
     },
     "metadata": {},
     "output_type": "display_data"
    }
   ],
   "source": [
    "import matplotlib.pyplot as plt\n",
    "\n",
    "sns.set(style='darkgrid')\n",
    "plt.plot(easd_update2_2018)\n",
    "plt.xlabel(\"Year\")\n",
    "plt.ylabel(\"Score\")\n",
    "plt.title(\"Daily Sentiment Score until 2018\")"
   ]
  },
  {
   "attachments": {},
   "cell_type": "markdown",
   "metadata": {},
   "source": [
    "### ☆ Check for Anomalies"
   ]
  },
  {
   "cell_type": "code",
   "execution_count": 29,
   "metadata": {},
   "outputs": [
    {
     "data": {
      "text/html": [
       "<div>\n",
       "<style scoped>\n",
       "    .dataframe tbody tr th:only-of-type {\n",
       "        vertical-align: middle;\n",
       "    }\n",
       "\n",
       "    .dataframe tbody tr th {\n",
       "        vertical-align: top;\n",
       "    }\n",
       "\n",
       "    .dataframe thead th {\n",
       "        text-align: right;\n",
       "    }\n",
       "</style>\n",
       "<table border=\"1\" class=\"dataframe\">\n",
       "  <thead>\n",
       "    <tr style=\"text-align: right;\">\n",
       "      <th></th>\n",
       "      <th>Score</th>\n",
       "    </tr>\n",
       "    <tr>\n",
       "      <th>Date</th>\n",
       "      <th></th>\n",
       "    </tr>\n",
       "  </thead>\n",
       "  <tbody>\n",
       "    <tr>\n",
       "      <th>2010-02-14</th>\n",
       "      <td>0.628085</td>\n",
       "    </tr>\n",
       "    <tr>\n",
       "      <th>2010-03-06</th>\n",
       "      <td>0.648868</td>\n",
       "    </tr>\n",
       "    <tr>\n",
       "      <th>2010-03-14</th>\n",
       "      <td>0.580706</td>\n",
       "    </tr>\n",
       "    <tr>\n",
       "      <th>2010-04-24</th>\n",
       "      <td>0.948872</td>\n",
       "    </tr>\n",
       "    <tr>\n",
       "      <th>2010-06-19</th>\n",
       "      <td>0.596162</td>\n",
       "    </tr>\n",
       "    <tr>\n",
       "      <th>2010-08-07</th>\n",
       "      <td>0.833735</td>\n",
       "    </tr>\n",
       "    <tr>\n",
       "      <th>2010-11-06</th>\n",
       "      <td>0.865299</td>\n",
       "    </tr>\n",
       "    <tr>\n",
       "      <th>2016-06-04</th>\n",
       "      <td>0.518746</td>\n",
       "    </tr>\n",
       "    <tr>\n",
       "      <th>2018-04-01</th>\n",
       "      <td>0.654796</td>\n",
       "    </tr>\n",
       "  </tbody>\n",
       "</table>\n",
       "</div>"
      ],
      "text/plain": [
       "               Score\n",
       "Date                \n",
       "2010-02-14  0.628085\n",
       "2010-03-06  0.648868\n",
       "2010-03-14  0.580706\n",
       "2010-04-24  0.948872\n",
       "2010-06-19  0.596162\n",
       "2010-08-07  0.833735\n",
       "2010-11-06  0.865299\n",
       "2016-06-04  0.518746\n",
       "2018-04-01  0.654796"
      ]
     },
     "execution_count": 29,
     "metadata": {},
     "output_type": "execute_result"
    }
   ],
   "source": [
    "df.loc[df['Score'] > 0.5]"
   ]
  },
  {
   "cell_type": "code",
   "execution_count": 8,
   "metadata": {},
   "outputs": [
    {
     "data": {
      "text/plain": [
       "5716            fascinated to know how many of us have beat the $SPY over the last 2 months. All that hard work and the ETF beats us..aghh $$\n",
       "5717    wow if this 3rd leg plays out which it sure looks like, the $SPY is going to 1380 on this recent rally. insane. check out the weekly.\n",
       "Name: Content, dtype: object"
      ]
     },
     "execution_count": 8,
     "metadata": {},
     "output_type": "execute_result"
    }
   ],
   "source": [
    "import datetime\n",
    "\n",
    "twitter.loc[twitter['Date'] == datetime.date(2010,4,24), 'Content']"
   ]
  },
  {
   "cell_type": "code",
   "execution_count": null,
   "metadata": {},
   "outputs": [],
   "source": [
    "pd.set_option('display.max_rows', None)\n",
    "pd.set_option('display.max_columns', None)\n",
    "pd.set_option('display.max_colwidth', None)\n",
    "# pd.set_option('display.float_format', lambda x: '%.5f' % x)\n",
    "twitter.loc[twitter['Date'] == datetime.date(2014,12,20), ['Content','Score']]#.drop_duplicates()"
   ]
  },
  {
   "cell_type": "code",
   "execution_count": 42,
   "metadata": {},
   "outputs": [
    {
     "data": {
      "text/plain": [
       "Score   -0.23134\n",
       "dtype: float64"
      ]
     },
     "execution_count": 42,
     "metadata": {},
     "output_type": "execute_result"
    }
   ],
   "source": [
    "example = twitter.loc[twitter['Date'] == datetime.date(2018,1,30), ['Content','Score']].drop_duplicates()\n",
    "example['Content'] = example['Content'].str.lower()\n",
    "example.loc[example['Content'].str.contains('trump'), ['Score']].mean()\n",
    "# example"
   ]
  },
  {
   "cell_type": "code",
   "execution_count": 43,
   "metadata": {},
   "outputs": [
    {
     "data": {
      "text/plain": [
       "0.030882352491607888"
      ]
     },
     "execution_count": 43,
     "metadata": {},
     "output_type": "execute_result"
    }
   ],
   "source": [
    "example['Score'].mean()"
   ]
  },
  {
   "cell_type": "code",
   "execution_count": null,
   "metadata": {},
   "outputs": [],
   "source": [
    "twitter.loc[twitter['Date'] == datetime.date(2014,12,20), 'Content']"
   ]
  },
  {
   "cell_type": "code",
   "execution_count": 182,
   "metadata": {},
   "outputs": [
    {
     "data": {
      "text/plain": [
       "14145    E: On my way out to enjoy the beautiful NYC day. Just wanted to tweet that getting neutral on $SPY. Few trades make my heart skip a bit.    \n",
       "14146    Dow rose 187.62 points,or 1.79% to 10653.56,Nasdaq gained 33.77 points,or 1.50% to 2288.47and S&P500 added 20.04 points,or 1.82% to 1121.64.\n",
       "14147    The MSCI Asia Pacific Index rose 2.8 percent this week to a three-month high of 122.40, its longest streak of weekly gains since April 2009.\n",
       "Name: Content, dtype: object"
      ]
     },
     "execution_count": 182,
     "metadata": {},
     "output_type": "execute_result"
    }
   ],
   "source": [
    "twitter.loc[twitter['Date'] == datetime.date(2010,8,7), 'Content']"
   ]
  },
  {
   "cell_type": "code",
   "execution_count": 183,
   "metadata": {},
   "outputs": [
    {
     "data": {
      "text/plain": [
       "21158    The best performing ETF for Nov. that we track is the iShares MSCI Hong Kong Index (Symbol: EWH) up 7.74%                                   \n",
       "21159    ...Instead, I'm looking for the markets to soar to new highs, which traditionally happens this time of year anyway Trade with the trend $SPY\n",
       "21160    August 2010: \\nEnrolled in a trading course with S&P 500 trader Larry Levin. I think I've learned a lot - now start trading S&P500 eminis.  \n",
       "21161    not gonna fail msci, hallelujah                                                                                                             \n",
       "Name: Content, dtype: object"
      ]
     },
     "execution_count": 183,
     "metadata": {},
     "output_type": "execute_result"
    }
   ],
   "source": [
    "twitter.loc[twitter['Date'] == datetime.date(2010,11,6), 'Content']"
   ]
  },
  {
   "cell_type": "code",
   "execution_count": 181,
   "metadata": {},
   "outputs": [
    {
     "data": {
      "text/plain": [
       "662412    Switched from $DUST over to $NUGT quickly today ...but missed some other long opportunities.  Can't be a die hard short in this market. $SPY\n",
       "662413    $SPY  Gap filled                                                                                                                            \n",
       "662414    $SPY  #stockmarkets Slow clap for the bulls Yellen really knows how to prop up a market higher. More delay will mean more pain when it drops\n",
       "662415    Tell you one thing .. on this April Fool's, the Joke was on shorts .. $ES_F $SPY $SPX                                                       \n",
       "662416    Markets o/n, US: S&amp;P500 +0.63%, DJIA +0.61%, Nasdaq +0.92%. Europe: Stoxx -1.72%, DAX -1.71%, CAC -1.43%, FTSE -0.47%.                  \n",
       "                                                                     ...                                                                              \n",
       "663091    $SPY $QQQ $IWM $DIA $TLSA $SUNE learning a failed methodology.  Think outside the box and rise above.  (part 3-the end)                     \n",
       "663092    $SPY $QQQ $IWM $DIA $TLSA $SUNE what are you learning the methods that are being consumed by everyone.  95% of traders fail; u are (part 2) \n",
       "663093    $SPY $QQQ $IWM $DIA $TLSA $SUNE but why are you following others if 95% of traders fail; the odds have it that you TOO will fail.  (part 1) \n",
       "663094    $spy thanks to fed pressure on dollar, commodities show relative strength (oil up despite buildup up). Correction better than another bubble\n",
       "663095    #Stocks being discussed significantly on the *message boards* today: $SFOR, $SPY, $TRTC, $TWTR, $NVNT and $VRX.                             \n",
       "Name: Content, Length: 671, dtype: object"
      ]
     },
     "execution_count": 181,
     "metadata": {},
     "output_type": "execute_result"
    }
   ],
   "source": [
    "twitter.loc[twitter['Date'] == datetime.date(2016,4,1), 'Content']"
   ]
  },
  {
   "cell_type": "code",
   "execution_count": 195,
   "metadata": {},
   "outputs": [
    {
     "data": {
      "text/plain": [
       "47483    Another CEO falls in the News Corp phone hacking scandal. It's sad that it took a public outcry to scare the corporation straight. #dowjones\n",
       "47484    FYI #Murdoch's norm way to hire non US citizens to work in US for #dowjones #Newscorp is by encouraging a lie on I visa  and employees I-9  \n",
       "47485    WARNING TO SHORTS - Indicators suggest a significant equity rally is now likely - $ES_F $SPY $SPX $EURUSD $$ - [Jul. 15 at 11:16 PM]        \n",
       "47486    Long Term Market Analysis: Equities Toppish, Gold and Silver Bull! $GDX $SPY $SLV: Drizzt: long term market analysis is a series once or…   \n",
       "47487    U.S. Markets are closed. Dow30 +0.34% S&P500 +0.56% NASDAQ100 +0.98%                                                                        \n",
       "47488    RT @mranti RT @dkberman: Breaking from WSJ: DowJones CEO Les Hinton is stepping down, latest resignation in hacking scandal.                \n",
       "47489    RT @dkberman: Breaking from WSJ: DowJones CEO Les Hinton is stepping down, latest resignation in hacking scandal.                           \n",
       "47490    Tough day. Last day at DowJones. A memorial service. I need another drink. Or two.                                                          \n",
       "47491    Les Hinton, CEO of #DowJones and publisher of the #WallStreetJournal resigns from the company.                                              \n",
       "Name: Content, dtype: object"
      ]
     },
     "execution_count": 195,
     "metadata": {},
     "output_type": "execute_result"
    }
   ],
   "source": [
    "twitter.loc[twitter['Date'] == datetime.date(2011,7,16), 'Content'] #9"
   ]
  },
  {
   "cell_type": "code",
   "execution_count": 42,
   "metadata": {},
   "outputs": [
    {
     "data": {
      "text/plain": [
       "138831         Not to mention fires in the West, power outages in the East, if you don't short retail you're a moron. IMHO. $SPY $TLT $GLD #yesitsSaturday\n",
       "138832            I know it's Saturday but this #heatwave gonna put a damper on the economy when the A/C bills roll in IMHO. #longhotsummer $SPY $TLT $GLD\n",
       "138833                                                                       MTS: New option trade on $BAC is posted. $SPY $XLF  #stocks #options #trading\n",
       "138834                                                                                                  *spoiler alert--- this is all a dream $spy$iwm$vix\n",
       "138835                   Top Stock searches on message boards and Twitter: $MIMV $AAPL $BCND $AA $SPY (01:30 pm) #stocks #finance #stockmarket #StockPicks\n",
       "138836                                        Anyone else notice how FLAT those recently FALLING 50sma(s) are getting? Constructive $$ $SPY $IWM $QQQ $DIA\n",
       "138837                  Not sure why ppl are obsessed with the S&amp;P500 &amp; the $SPY. Too much noise. You would rather monitor the Nasdaq and the $QQQ\n",
       "138838                                                                                              people who can't trade, run workshops. $SPY $QQQ $AAPL\n",
       "138839                    Top Stock searches on message boards and Twitter: $MIMV $SPY $AAPL $JPM $AA (09:30 am) #stocks #finance #stockmarket #StockPicks\n",
       "138840           banks, weak multinationals, tech companies that rely heavy on government spending and European spending are all suspect thus quarter $spy\n",
       "138841                             Last week review: #Bitcoin up +1.2%, Stocks down about -1% (S&amp;P500). This trend will likely continue in the future.\n",
       "138842                                                 Dow,S&amp;P500 closed lower on weak US employment data for June;Nasdaq managed to gain for 5th week\n",
       "138843        This NFP was 3rd disappointing in a row. With Europe recession, China slowdown, will the FED want to wait--take chances. Or TAKE ACTION $SPY\n",
       "138844       NFP Jobs report seems perfectly bad for the stock market: no evidence jobs will improve &amp; no assrance FED will ride to rescue w/QE3. $SPY\n",
       "138845           In Europe, it seems policymakers are always a day late and a euro short. Or they announce  a step forward, then back off. $FXE $SPY $PCLN\n",
       "138846        Whole Fed disc after jobs report is such a ridiculous non sequitur. Neutral jobs report gets us no closer to #QE3 than we were yestrday $SPY\n",
       "138847                                                                                                $spy $tlt - the struggle continues with $tlt winning\n",
       "138848    The S&amp;P500 gave up 12.90 points to 1354.68. The Nasdaq eased 38.79 points, or 1.3%, to 2937.33, but booked its fifth-straight week of gains.\n",
       "138849         Scaled out of remaining 50% of Aug $SLV 28 puts, and 100% of July QQQ 65 puts, $USO July 33 puts, $SPY July 136 puts, and $XLF July 15 Puts\n",
       "138850      Scary statistic: For every S&amp;P500 member upgrading guidance for current quarter, 3.6 cut expectations - the highest ratio in over a decade\n",
       "Name: Content, dtype: object"
      ]
     },
     "execution_count": 42,
     "metadata": {},
     "output_type": "execute_result"
    }
   ],
   "source": [
    "twitter.loc[twitter['Date'] == datetime.date(2012,7,7), 'Content'] # 20"
   ]
  },
  {
   "cell_type": "code",
   "execution_count": 198,
   "metadata": {},
   "outputs": [
    {
     "data": {
      "text/plain": [
       "869144    $SPX $SPY $DIA $QQQ Trend is ur friend but stoploss/hedge/exit plan is ur BEST FRIEND! Best friend will protect u from bad friends n serve you well in long run!                                                                                                                       \n",
       "869145    ITCHIN for market open Sunday night... interesting week ahead $djia $spy $qqq $vix                                                                                                                                                                                                     \n",
       "869146    My ongoing watchlist flourishes at the intersection of tradable liquidity and top 20% of 3-month volatility and a history of sweet swings. 4 stocks were green Friday... out of 58. $spy                                                                                               \n",
       "869147    No one seems very worried about the selloff Friday in the $SPY and other indexes. Wouldn’t be surprised to see some follow through Monday as markets rarely bottom on a Friday and then see a rally back as the fact that there’s still no where else to invest sets in #stocks #market\n",
       "869148    $SPY $IWM etc the pullback start with reversal Mon, gap down the following day and Friday the follow through. Lots more unwinding needed                                                                                                                                               \n",
       "                                                                            ...                                                                                                                                                                                                                  \n",
       "869306    $SPY I could spend the entire weekend putting together bear charts but I'm not sure that would benefit. Instead will focus on major indexes.                                                                                                                                           \n",
       "869307    666, huh, Dow? “That’s it, I’m going home, you can keep your money, Wang.” #DowJones #sixdemonbag #JackBurtonSays                                                                                                                                                                      \n",
       "869308    Hey @realDonaldTrump, talk to us about one of the worst Dow losses in history today. #DumbAndMum #DowJones The Dow tanks...#MoronDon is silent.                                                                                                                                        \n",
       "869309    Hey @BarackObama imagine the #DowJones ENDING on 666 on your watch and what the right wing would have to say about it. I'd imagine they'd go cray cray.                                                                                                                                \n",
       "869310    #MemoDay fell on the same Friday that the #DOWJones closed on its worst week in two years...\\n\\nI'm not that cynical. Am I that cynical...?                                                                                                                                            \n",
       "Name: Content, Length: 167, dtype: object"
      ]
     },
     "execution_count": 198,
     "metadata": {},
     "output_type": "execute_result"
    }
   ],
   "source": [
    "twitter.loc[twitter['Date'] == datetime.date(2018,2,3), 'Content'] "
   ]
  },
  {
   "attachments": {},
   "cell_type": "markdown",
   "metadata": {},
   "source": [
    "### ★ Export score variable for modeling"
   ]
  },
  {
   "cell_type": "code",
   "execution_count": 143,
   "metadata": {},
   "outputs": [
    {
     "data": {
      "text/plain": [
       "Date\n",
       "2010-01-01    0.057881\n",
       "2010-01-02    0.234619\n",
       "2010-01-03    0.499432\n",
       "2010-01-04    0.394649\n",
       "2010-01-05    0.059968\n",
       "Name: Score, dtype: float64"
      ]
     },
     "execution_count": 143,
     "metadata": {},
     "output_type": "execute_result"
    }
   ],
   "source": [
    "df_out = df.loc[:,'Score']\n",
    "df_out.head()"
   ]
  },
  {
   "cell_type": "code",
   "execution_count": 144,
   "metadata": {},
   "outputs": [],
   "source": [
    "df_out.to_csv(\"./sent_score_0516.csv\", index = True)"
   ]
  }
 ],
 "metadata": {
  "kernelspec": {
   "display_name": "Python 3.8.13 ('sentiment')",
   "language": "python",
   "name": "python3"
  },
  "language_info": {
   "codemirror_mode": {
    "name": "ipython",
    "version": 3
   },
   "file_extension": ".py",
   "mimetype": "text/x-python",
   "name": "python",
   "nbconvert_exporter": "python",
   "pygments_lexer": "ipython3",
   "version": "3.7.16"
  },
  "orig_nbformat": 4,
  "vscode": {
   "interpreter": {
    "hash": "f6f927a2c3b59118cd126de5d7566f7da83ad914a79b0f63a48fca795f9800fd"
   }
  }
 },
 "nbformat": 4,
 "nbformat_minor": 2
}
