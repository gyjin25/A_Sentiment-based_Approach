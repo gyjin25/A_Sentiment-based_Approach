{
 "cells": [
  {
   "cell_type": "markdown",
   "metadata": {},
   "source": [
    "# Generating Total Data Frame for Main"
   ]
  },
  {
   "cell_type": "markdown",
   "metadata": {},
   "source": [
    "### Import packages and load file"
   ]
  },
  {
   "cell_type": "code",
   "execution_count": 24,
   "metadata": {},
   "outputs": [],
   "source": [
    "import pandas as pd\n",
    "import numpy as np\n",
    "import matplotlib.pyplot as plt\n",
    "import datetime\n",
    "import statsmodels.formula.api as smf\n",
    "# from stargazer.stargazer import Stargazer\n",
    "\n",
    "\n",
    "pd.set_option('Display.max_columns', 100)\n",
    "pd.set_option('display.float_format', lambda x: '%.5f' % x)"
   ]
  },
  {
   "attachments": {},
   "cell_type": "markdown",
   "metadata": {},
   "source": [
    "### ★ Disagreement Data from Cookson and Neissner (2020) JF"
   ]
  },
  {
   "cell_type": "code",
   "execution_count": 16,
   "metadata": {},
   "outputs": [
    {
     "data": {
      "text/plain": [
       "(2651379, 5)"
      ]
     },
     "execution_count": 16,
     "metadata": {},
     "output_type": "execute_result"
    }
   ],
   "source": [
    "raw = pd.read_stata(\"../CooksonNiessner2020_Disagree.dta\")\n",
    "raw.head(3)\n",
    "raw.shape"
   ]
  },
  {
   "cell_type": "code",
   "execution_count": 17,
   "metadata": {},
   "outputs": [
    {
     "data": {
      "text/plain": [
       "(0.2530520558357239, 0.014839296229183674, 0.011729910038411617)"
      ]
     },
     "execution_count": 17,
     "metadata": {},
     "output_type": "execute_result"
    }
   ],
   "source": [
    "np.mean(raw['dis_all']), np.mean(raw['dis_within_group']), np.mean(raw['dis_across_group'])"
   ]
  },
  {
   "cell_type": "code",
   "execution_count": 18,
   "metadata": {},
   "outputs": [
    {
     "data": {
      "text/plain": [
       "(6056,)"
      ]
     },
     "execution_count": 18,
     "metadata": {},
     "output_type": "execute_result"
    }
   ],
   "source": [
    "permno_seq = raw['permno'].unique()\n",
    "permno_seq.shape"
   ]
  },
  {
   "cell_type": "code",
   "execution_count": 19,
   "metadata": {},
   "outputs": [
    {
     "data": {
      "text/plain": [
       "95   90049.00000\n",
       "96   86444.00000\n",
       "97   82567.00000\n",
       "98   11891.00000\n",
       "99   60628.00000\n",
       "dtype: float64"
      ]
     },
     "execution_count": 19,
     "metadata": {},
     "output_type": "execute_result"
    }
   ],
   "source": [
    "index_raw = raw['permno'].value_counts()\n",
    "index = index_raw.index[0:100].to_series().reset_index(drop=True)\n",
    "index.tail()"
   ]
  },
  {
   "cell_type": "code",
   "execution_count": 20,
   "metadata": {},
   "outputs": [
    {
     "data": {
      "text/html": [
       "<div>\n",
       "<style scoped>\n",
       "    .dataframe tbody tr th:only-of-type {\n",
       "        vertical-align: middle;\n",
       "    }\n",
       "\n",
       "    .dataframe tbody tr th {\n",
       "        vertical-align: top;\n",
       "    }\n",
       "\n",
       "    .dataframe thead th {\n",
       "        text-align: right;\n",
       "    }\n",
       "</style>\n",
       "<table border=\"1\" class=\"dataframe\">\n",
       "  <thead>\n",
       "    <tr style=\"text-align: right;\">\n",
       "      <th></th>\n",
       "      <th>permno</th>\n",
       "      <th>date</th>\n",
       "      <th>dis_all</th>\n",
       "      <th>dis_within_group</th>\n",
       "      <th>dis_across_group</th>\n",
       "    </tr>\n",
       "  </thead>\n",
       "  <tbody>\n",
       "    <tr>\n",
       "      <th>60535</th>\n",
       "      <td>86868.00000</td>\n",
       "      <td>2010-01-01</td>\n",
       "      <td>0.00000</td>\n",
       "      <td>0.00000</td>\n",
       "      <td>0.00000</td>\n",
       "    </tr>\n",
       "    <tr>\n",
       "      <th>10839</th>\n",
       "      <td>84788.00000</td>\n",
       "      <td>2010-01-01</td>\n",
       "      <td>0.00000</td>\n",
       "      <td>0.00000</td>\n",
       "      <td>0.00000</td>\n",
       "    </tr>\n",
       "    <tr>\n",
       "      <th>15777</th>\n",
       "      <td>14593.00000</td>\n",
       "      <td>2010-01-01</td>\n",
       "      <td>0.00000</td>\n",
       "      <td>0.00000</td>\n",
       "      <td>0.00000</td>\n",
       "    </tr>\n",
       "    <tr>\n",
       "      <th>27043</th>\n",
       "      <td>38703.00000</td>\n",
       "      <td>2010-01-01</td>\n",
       "      <td>0.00000</td>\n",
       "      <td>0.00000</td>\n",
       "      <td>0.00000</td>\n",
       "    </tr>\n",
       "    <tr>\n",
       "      <th>34015</th>\n",
       "      <td>90448.00000</td>\n",
       "      <td>2010-01-01</td>\n",
       "      <td>0.00000</td>\n",
       "      <td>0.00000</td>\n",
       "      <td>0.00000</td>\n",
       "    </tr>\n",
       "    <tr>\n",
       "      <th>...</th>\n",
       "      <td>...</td>\n",
       "      <td>...</td>\n",
       "      <td>...</td>\n",
       "      <td>...</td>\n",
       "      <td>...</td>\n",
       "    </tr>\n",
       "    <tr>\n",
       "      <th>2339455</th>\n",
       "      <td>78877.00000</td>\n",
       "      <td>2018-12-31</td>\n",
       "      <td>0.75993</td>\n",
       "      <td>0.28289</td>\n",
       "      <td>0.44745</td>\n",
       "    </tr>\n",
       "    <tr>\n",
       "      <th>2550486</th>\n",
       "      <td>14593.00000</td>\n",
       "      <td>2018-12-31</td>\n",
       "      <td>0.99175</td>\n",
       "      <td>0.91858</td>\n",
       "      <td>0.39661</td>\n",
       "    </tr>\n",
       "    <tr>\n",
       "      <th>2583895</th>\n",
       "      <td>77274.00000</td>\n",
       "      <td>2018-12-31</td>\n",
       "      <td>0.94281</td>\n",
       "      <td>0.00000</td>\n",
       "      <td>0.00000</td>\n",
       "    </tr>\n",
       "    <tr>\n",
       "      <th>2499753</th>\n",
       "      <td>85914.00000</td>\n",
       "      <td>2018-12-31</td>\n",
       "      <td>0.00000</td>\n",
       "      <td>0.00000</td>\n",
       "      <td>0.00000</td>\n",
       "    </tr>\n",
       "    <tr>\n",
       "      <th>2256442</th>\n",
       "      <td>91233.00000</td>\n",
       "      <td>2018-12-31</td>\n",
       "      <td>0.00000</td>\n",
       "      <td>0.00000</td>\n",
       "      <td>0.00000</td>\n",
       "    </tr>\n",
       "  </tbody>\n",
       "</table>\n",
       "<p>262606 rows × 5 columns</p>\n",
       "</div>"
      ],
      "text/plain": [
       "             permno       date  dis_all  dis_within_group  dis_across_group\n",
       "60535   86868.00000 2010-01-01  0.00000           0.00000           0.00000\n",
       "10839   84788.00000 2010-01-01  0.00000           0.00000           0.00000\n",
       "15777   14593.00000 2010-01-01  0.00000           0.00000           0.00000\n",
       "27043   38703.00000 2010-01-01  0.00000           0.00000           0.00000\n",
       "34015   90448.00000 2010-01-01  0.00000           0.00000           0.00000\n",
       "...             ...        ...      ...               ...               ...\n",
       "2339455 78877.00000 2018-12-31  0.75993           0.28289           0.44745\n",
       "2550486 14593.00000 2018-12-31  0.99175           0.91858           0.39661\n",
       "2583895 77274.00000 2018-12-31  0.94281           0.00000           0.00000\n",
       "2499753 85914.00000 2018-12-31  0.00000           0.00000           0.00000\n",
       "2256442 91233.00000 2018-12-31  0.00000           0.00000           0.00000\n",
       "\n",
       "[262606 rows x 5 columns]"
      ]
     },
     "execution_count": 20,
     "metadata": {},
     "output_type": "execute_result"
    }
   ],
   "source": [
    "raw_top = raw.loc[raw['permno'].isin(index)]\n",
    "raw_top.sort_values('date')"
   ]
  },
  {
   "cell_type": "code",
   "execution_count": 21,
   "metadata": {},
   "outputs": [
    {
     "data": {
      "text/html": [
       "<div>\n",
       "<style scoped>\n",
       "    .dataframe tbody tr th:only-of-type {\n",
       "        vertical-align: middle;\n",
       "    }\n",
       "\n",
       "    .dataframe tbody tr th {\n",
       "        vertical-align: top;\n",
       "    }\n",
       "\n",
       "    .dataframe thead th {\n",
       "        text-align: right;\n",
       "    }\n",
       "</style>\n",
       "<table border=\"1\" class=\"dataframe\">\n",
       "  <thead>\n",
       "    <tr style=\"text-align: right;\">\n",
       "      <th></th>\n",
       "      <th>permno</th>\n",
       "      <th>dis_all</th>\n",
       "      <th>dis_within_group</th>\n",
       "      <th>dis_across_group</th>\n",
       "    </tr>\n",
       "    <tr>\n",
       "      <th>date</th>\n",
       "      <th></th>\n",
       "      <th></th>\n",
       "      <th></th>\n",
       "      <th></th>\n",
       "    </tr>\n",
       "  </thead>\n",
       "  <tbody>\n",
       "    <tr>\n",
       "      <th>2010-01-01</th>\n",
       "      <td>66633.00000</td>\n",
       "      <td>0.00000</td>\n",
       "      <td>0.00000</td>\n",
       "      <td>0.00000</td>\n",
       "    </tr>\n",
       "    <tr>\n",
       "      <th>2010-01-02</th>\n",
       "      <td>66605.08333</td>\n",
       "      <td>0.08333</td>\n",
       "      <td>0.00000</td>\n",
       "      <td>0.00000</td>\n",
       "    </tr>\n",
       "    <tr>\n",
       "      <th>2010-01-03</th>\n",
       "      <td>65914.43750</td>\n",
       "      <td>0.29103</td>\n",
       "      <td>0.00000</td>\n",
       "      <td>0.00000</td>\n",
       "    </tr>\n",
       "    <tr>\n",
       "      <th>2010-01-04</th>\n",
       "      <td>67574.05882</td>\n",
       "      <td>0.40769</td>\n",
       "      <td>0.00000</td>\n",
       "      <td>0.00000</td>\n",
       "    </tr>\n",
       "    <tr>\n",
       "      <th>2010-01-05</th>\n",
       "      <td>68289.08621</td>\n",
       "      <td>0.49477</td>\n",
       "      <td>0.01026</td>\n",
       "      <td>0.00515</td>\n",
       "    </tr>\n",
       "    <tr>\n",
       "      <th>...</th>\n",
       "      <td>...</td>\n",
       "      <td>...</td>\n",
       "      <td>...</td>\n",
       "      <td>...</td>\n",
       "    </tr>\n",
       "    <tr>\n",
       "      <th>2018-12-27</th>\n",
       "      <td>64601.47674</td>\n",
       "      <td>0.72629</td>\n",
       "      <td>0.09107</td>\n",
       "      <td>0.06358</td>\n",
       "    </tr>\n",
       "    <tr>\n",
       "      <th>2018-12-28</th>\n",
       "      <td>63695.87640</td>\n",
       "      <td>0.70547</td>\n",
       "      <td>0.10328</td>\n",
       "      <td>0.04946</td>\n",
       "    </tr>\n",
       "    <tr>\n",
       "      <th>2018-12-29</th>\n",
       "      <td>64604.68966</td>\n",
       "      <td>0.39528</td>\n",
       "      <td>0.02747</td>\n",
       "      <td>0.02793</td>\n",
       "    </tr>\n",
       "    <tr>\n",
       "      <th>2018-12-30</th>\n",
       "      <td>64800.58333</td>\n",
       "      <td>0.38501</td>\n",
       "      <td>0.02452</td>\n",
       "      <td>0.01963</td>\n",
       "    </tr>\n",
       "    <tr>\n",
       "      <th>2018-12-31</th>\n",
       "      <td>66289.23958</td>\n",
       "      <td>0.52012</td>\n",
       "      <td>0.07646</td>\n",
       "      <td>0.05001</td>\n",
       "    </tr>\n",
       "  </tbody>\n",
       "</table>\n",
       "<p>3287 rows × 4 columns</p>\n",
       "</div>"
      ],
      "text/plain": [
       "                permno  dis_all  dis_within_group  dis_across_group\n",
       "date                                                               \n",
       "2010-01-01 66633.00000  0.00000           0.00000           0.00000\n",
       "2010-01-02 66605.08333  0.08333           0.00000           0.00000\n",
       "2010-01-03 65914.43750  0.29103           0.00000           0.00000\n",
       "2010-01-04 67574.05882  0.40769           0.00000           0.00000\n",
       "2010-01-05 68289.08621  0.49477           0.01026           0.00515\n",
       "...                ...      ...               ...               ...\n",
       "2018-12-27 64601.47674  0.72629           0.09107           0.06358\n",
       "2018-12-28 63695.87640  0.70547           0.10328           0.04946\n",
       "2018-12-29 64604.68966  0.39528           0.02747           0.02793\n",
       "2018-12-30 64800.58333  0.38501           0.02452           0.01963\n",
       "2018-12-31 66289.23958  0.52012           0.07646           0.05001\n",
       "\n",
       "[3287 rows x 4 columns]"
      ]
     },
     "execution_count": 21,
     "metadata": {},
     "output_type": "execute_result"
    }
   ],
   "source": [
    "raw_top.groupby('date').mean()"
   ]
  },
  {
   "cell_type": "code",
   "execution_count": 9,
   "metadata": {},
   "outputs": [
    {
     "data": {
      "text/plain": [
       "date\n",
       "2010-01-01   0.00000\n",
       "2010-01-02   0.08333\n",
       "2010-01-03   0.29103\n",
       "2010-01-04   0.40769\n",
       "2010-01-05   0.49477\n",
       "               ...  \n",
       "2018-12-27   0.72629\n",
       "2018-12-28   0.70547\n",
       "2018-12-29   0.39528\n",
       "2018-12-30   0.38501\n",
       "2018-12-31   0.52012\n",
       "Name: dis, Length: 3287, dtype: float32"
      ]
     },
     "execution_count": 9,
     "metadata": {},
     "output_type": "execute_result"
    }
   ],
   "source": [
    "raw_group = raw_top.groupby('date').mean()\n",
    "dis = raw_group['dis_all']\n",
    "dis.name = 'dis'\n",
    "dis"
   ]
  },
  {
   "cell_type": "code",
   "execution_count": 10,
   "metadata": {},
   "outputs": [
    {
     "data": {
      "text/plain": [
       "0.5315358638763428"
      ]
     },
     "execution_count": 10,
     "metadata": {},
     "output_type": "execute_result"
    }
   ],
   "source": [
    "np.mean(dis)"
   ]
  },
  {
   "attachments": {},
   "cell_type": "markdown",
   "metadata": {},
   "source": [
    "### ★ Twitter Sentiment Index"
   ]
  },
  {
   "cell_type": "code",
   "execution_count": 2,
   "metadata": {},
   "outputs": [
    {
     "data": {
      "text/html": [
       "<div>\n",
       "<style scoped>\n",
       "    .dataframe tbody tr th:only-of-type {\n",
       "        vertical-align: middle;\n",
       "    }\n",
       "\n",
       "    .dataframe tbody tr th {\n",
       "        vertical-align: top;\n",
       "    }\n",
       "\n",
       "    .dataframe thead th {\n",
       "        text-align: right;\n",
       "    }\n",
       "</style>\n",
       "<table border=\"1\" class=\"dataframe\">\n",
       "  <thead>\n",
       "    <tr style=\"text-align: right;\">\n",
       "      <th></th>\n",
       "      <th>Date</th>\n",
       "      <th>Score</th>\n",
       "    </tr>\n",
       "  </thead>\n",
       "  <tbody>\n",
       "    <tr>\n",
       "      <th>0</th>\n",
       "      <td>2019-01-01</td>\n",
       "      <td>-0.03356</td>\n",
       "    </tr>\n",
       "    <tr>\n",
       "      <th>1</th>\n",
       "      <td>2019-01-02</td>\n",
       "      <td>0.00074</td>\n",
       "    </tr>\n",
       "    <tr>\n",
       "      <th>2</th>\n",
       "      <td>2019-01-03</td>\n",
       "      <td>-0.10319</td>\n",
       "    </tr>\n",
       "    <tr>\n",
       "      <th>3</th>\n",
       "      <td>2019-01-04</td>\n",
       "      <td>0.23895</td>\n",
       "    </tr>\n",
       "    <tr>\n",
       "      <th>4</th>\n",
       "      <td>2019-01-05</td>\n",
       "      <td>-0.07275</td>\n",
       "    </tr>\n",
       "    <tr>\n",
       "      <th>...</th>\n",
       "      <td>...</td>\n",
       "      <td>...</td>\n",
       "    </tr>\n",
       "    <tr>\n",
       "      <th>1356</th>\n",
       "      <td>2022-09-26</td>\n",
       "      <td>0.01442</td>\n",
       "    </tr>\n",
       "    <tr>\n",
       "      <th>1357</th>\n",
       "      <td>2022-09-27</td>\n",
       "      <td>-0.00011</td>\n",
       "    </tr>\n",
       "    <tr>\n",
       "      <th>1358</th>\n",
       "      <td>2022-09-28</td>\n",
       "      <td>0.08271</td>\n",
       "    </tr>\n",
       "    <tr>\n",
       "      <th>1359</th>\n",
       "      <td>2022-09-29</td>\n",
       "      <td>-0.03480</td>\n",
       "    </tr>\n",
       "    <tr>\n",
       "      <th>1360</th>\n",
       "      <td>2022-09-30</td>\n",
       "      <td>-0.00316</td>\n",
       "    </tr>\n",
       "  </tbody>\n",
       "</table>\n",
       "<p>1361 rows × 2 columns</p>\n",
       "</div>"
      ],
      "text/plain": [
       "            Date    Score\n",
       "0     2019-01-01 -0.03356\n",
       "1     2019-01-02  0.00074\n",
       "2     2019-01-03 -0.10319\n",
       "3     2019-01-04  0.23895\n",
       "4     2019-01-05 -0.07275\n",
       "...          ...      ...\n",
       "1356  2022-09-26  0.01442\n",
       "1357  2022-09-27 -0.00011\n",
       "1358  2022-09-28  0.08271\n",
       "1359  2022-09-29 -0.03480\n",
       "1360  2022-09-30 -0.00316\n",
       "\n",
       "[1361 rows x 2 columns]"
      ]
     },
     "execution_count": 2,
     "metadata": {},
     "output_type": "execute_result"
    }
   ],
   "source": [
    "twitter = pd.read_csv(\"./sent_score_0603.csv\")\n",
    "twitter"
   ]
  },
  {
   "cell_type": "code",
   "execution_count": 3,
   "metadata": {},
   "outputs": [
    {
     "data": {
      "text/plain": [
       "0.07761321370635761"
      ]
     },
     "execution_count": 3,
     "metadata": {},
     "output_type": "execute_result"
    }
   ],
   "source": [
    "twitter['Score'].mean()"
   ]
  },
  {
   "cell_type": "code",
   "execution_count": 4,
   "metadata": {},
   "outputs": [
    {
     "data": {
      "text/html": [
       "<div>\n",
       "<style scoped>\n",
       "    .dataframe tbody tr th:only-of-type {\n",
       "        vertical-align: middle;\n",
       "    }\n",
       "\n",
       "    .dataframe tbody tr th {\n",
       "        vertical-align: top;\n",
       "    }\n",
       "\n",
       "    .dataframe thead th {\n",
       "        text-align: right;\n",
       "    }\n",
       "</style>\n",
       "<table border=\"1\" class=\"dataframe\">\n",
       "  <thead>\n",
       "    <tr style=\"text-align: right;\">\n",
       "      <th></th>\n",
       "      <th>Score</th>\n",
       "    </tr>\n",
       "    <tr>\n",
       "      <th>Date</th>\n",
       "      <th></th>\n",
       "    </tr>\n",
       "  </thead>\n",
       "  <tbody>\n",
       "    <tr>\n",
       "      <th>2019-01-01</th>\n",
       "      <td>0.00074</td>\n",
       "    </tr>\n",
       "    <tr>\n",
       "      <th>2019-01-02</th>\n",
       "      <td>-0.10319</td>\n",
       "    </tr>\n",
       "    <tr>\n",
       "      <th>2019-01-03</th>\n",
       "      <td>0.23895</td>\n",
       "    </tr>\n",
       "    <tr>\n",
       "      <th>2019-01-04</th>\n",
       "      <td>-0.07275</td>\n",
       "    </tr>\n",
       "    <tr>\n",
       "      <th>2019-01-05</th>\n",
       "      <td>0.13102</td>\n",
       "    </tr>\n",
       "  </tbody>\n",
       "</table>\n",
       "</div>"
      ],
      "text/plain": [
       "              Score\n",
       "Date               \n",
       "2019-01-01  0.00074\n",
       "2019-01-02 -0.10319\n",
       "2019-01-03  0.23895\n",
       "2019-01-04 -0.07275\n",
       "2019-01-05  0.13102"
      ]
     },
     "execution_count": 4,
     "metadata": {},
     "output_type": "execute_result"
    }
   ],
   "source": [
    "# twitter = pd.read_csv(\"../sent_score.csv\")\n",
    "# twitter = twitter.dropna()\n",
    "twitter['Date'] = pd.to_datetime(twitter['Date'].astype(\"string\")).dt.to_period('d')\n",
    "twitter = twitter.set_index('Date').to_timestamp()\n",
    "\n",
    "# Match Time Step\n",
    "twitter = twitter.shift(-1)\n",
    "twitter.head()"
   ]
  },
  {
   "cell_type": "code",
   "execution_count": 5,
   "metadata": {},
   "outputs": [
    {
     "data": {
      "text/plain": [
       "[<matplotlib.lines.Line2D at 0x24a7f3cbb48>]"
      ]
     },
     "execution_count": 5,
     "metadata": {},
     "output_type": "execute_result"
    },
    {
     "data": {
      "image/png": "[encoded data removed]",
      "text/plain": [
       "<Figure size 432x288 with 1 Axes>"
      ]
     },
     "metadata": {
      "needs_background": "light"
     },
     "output_type": "display_data"
    }
   ],
   "source": [
    "plt.plot(twitter)"
   ]
  },
  {
   "attachments": {},
   "cell_type": "markdown",
   "metadata": {},
   "source": [
    "### ★ Google Trend Data"
   ]
  },
  {
   "cell_type": "code",
   "execution_count": 22,
   "metadata": {},
   "outputs": [],
   "source": [
    "google_df = pd.read_csv(\"../google_trend_update_short_0516.csv\")\n",
    "google_df['date'] = pd.to_datetime(google_df['date'].astype(\"string\")).dt.to_period('d')\n",
    "google_df = google_df.set_index('date').to_timestamp()\n",
    "google_df.columns = ['google_1', 'google_2', 'google_3', 'google_4', 'google_5', 'google_6']"
   ]
  },
  {
   "attachments": {},
   "cell_type": "markdown",
   "metadata": {},
   "source": [
    "### ★ News Sentiment Index"
   ]
  },
  {
   "attachments": {},
   "cell_type": "markdown",
   "metadata": {},
   "source": [
    "### ★ VIX, SPY, OIL, DJI, MSCI"
   ]
  },
  {
   "cell_type": "code",
   "execution_count": 10,
   "metadata": {},
   "outputs": [
    {
     "data": {
      "text/plain": [
       "(3287,)"
      ]
     },
     "execution_count": 10,
     "metadata": {},
     "output_type": "execute_result"
    }
   ],
   "source": [
    "st_year, st_month, st_date = 2010, 1, 1\n",
    "ed_year, ed_month, ed_date = 2018, 12, 31\n",
    "\n",
    "date_range = pd.date_range(datetime(st_year, st_month, st_date), datetime(ed_year, ed_month, ed_date))\n",
    "date_range.shape"
   ]
  },
  {
   "cell_type": "code",
   "execution_count": 29,
   "metadata": {},
   "outputs": [
    {
     "name": "stdout",
     "output_type": "stream",
     "text": [
      "[*********************100%***********************]  1 of 1 completed\n"
     ]
    },
    {
     "data": {
      "text/html": [
       "<div>\n",
       "<style scoped>\n",
       "    .dataframe tbody tr th:only-of-type {\n",
       "        vertical-align: middle;\n",
       "    }\n",
       "\n",
       "    .dataframe tbody tr th {\n",
       "        vertical-align: top;\n",
       "    }\n",
       "\n",
       "    .dataframe thead th {\n",
       "        text-align: right;\n",
       "    }\n",
       "</style>\n",
       "<table border=\"1\" class=\"dataframe\">\n",
       "  <thead>\n",
       "    <tr style=\"text-align: right;\">\n",
       "      <th></th>\n",
       "      <th>Open</th>\n",
       "      <th>High</th>\n",
       "      <th>Low</th>\n",
       "      <th>Close</th>\n",
       "      <th>Adj Close</th>\n",
       "      <th>Volume</th>\n",
       "    </tr>\n",
       "    <tr>\n",
       "      <th>Date</th>\n",
       "      <th></th>\n",
       "      <th></th>\n",
       "      <th></th>\n",
       "      <th></th>\n",
       "      <th></th>\n",
       "      <th></th>\n",
       "    </tr>\n",
       "  </thead>\n",
       "  <tbody>\n",
       "    <tr>\n",
       "      <th>2022-12-23</th>\n",
       "      <td>22.17000</td>\n",
       "      <td>22.64000</td>\n",
       "      <td>20.78000</td>\n",
       "      <td>20.87000</td>\n",
       "      <td>20.87000</td>\n",
       "      <td>0</td>\n",
       "    </tr>\n",
       "    <tr>\n",
       "      <th>2022-12-27</th>\n",
       "      <td>21.67000</td>\n",
       "      <td>22.80000</td>\n",
       "      <td>21.59000</td>\n",
       "      <td>21.65000</td>\n",
       "      <td>21.65000</td>\n",
       "      <td>0</td>\n",
       "    </tr>\n",
       "    <tr>\n",
       "      <th>2022-12-28</th>\n",
       "      <td>21.47000</td>\n",
       "      <td>22.26000</td>\n",
       "      <td>20.96000</td>\n",
       "      <td>22.14000</td>\n",
       "      <td>22.14000</td>\n",
       "      <td>0</td>\n",
       "    </tr>\n",
       "    <tr>\n",
       "      <th>2022-12-29</th>\n",
       "      <td>22.25000</td>\n",
       "      <td>22.31000</td>\n",
       "      <td>21.36000</td>\n",
       "      <td>21.44000</td>\n",
       "      <td>21.44000</td>\n",
       "      <td>0</td>\n",
       "    </tr>\n",
       "    <tr>\n",
       "      <th>2022-12-30</th>\n",
       "      <td>21.83000</td>\n",
       "      <td>22.40000</td>\n",
       "      <td>21.59000</td>\n",
       "      <td>21.67000</td>\n",
       "      <td>21.67000</td>\n",
       "      <td>0</td>\n",
       "    </tr>\n",
       "  </tbody>\n",
       "</table>\n",
       "</div>"
      ],
      "text/plain": [
       "               Open     High      Low    Close  Adj Close  Volume\n",
       "Date                                                             \n",
       "2022-12-23 22.17000 22.64000 20.78000 20.87000   20.87000       0\n",
       "2022-12-27 21.67000 22.80000 21.59000 21.65000   21.65000       0\n",
       "2022-12-28 21.47000 22.26000 20.96000 22.14000   22.14000       0\n",
       "2022-12-29 22.25000 22.31000 21.36000 21.44000   21.44000       0\n",
       "2022-12-30 21.83000 22.40000 21.59000 21.67000   21.67000       0"
      ]
     },
     "execution_count": 29,
     "metadata": {},
     "output_type": "execute_result"
    }
   ],
   "source": [
    "import yfinance as yf\n",
    "\n",
    "vix_ticker = ['^VIX']\n",
    "\n",
    "vix = yf.download(vix_ticker, start = \"2010-01-01\", end = \"2022-12-31\")\n",
    "vix.tail()"
   ]
  },
  {
   "cell_type": "code",
   "execution_count": 30,
   "metadata": {},
   "outputs": [
    {
     "name": "stdout",
     "output_type": "stream",
     "text": [
      "[*********************100%***********************]  4 of 4 completed\n"
     ]
    },
    {
     "data": {
      "text/html": [
       "<div>\n",
       "<style scoped>\n",
       "    .dataframe tbody tr th:only-of-type {\n",
       "        vertical-align: middle;\n",
       "    }\n",
       "\n",
       "    .dataframe tbody tr th {\n",
       "        vertical-align: top;\n",
       "    }\n",
       "\n",
       "    .dataframe thead tr th {\n",
       "        text-align: left;\n",
       "    }\n",
       "\n",
       "    .dataframe thead tr:last-of-type th {\n",
       "        text-align: right;\n",
       "    }\n",
       "</style>\n",
       "<table border=\"1\" class=\"dataframe\">\n",
       "  <thead>\n",
       "    <tr>\n",
       "      <th></th>\n",
       "      <th colspan=\"4\" halign=\"left\">Adj Close</th>\n",
       "      <th colspan=\"4\" halign=\"left\">Close</th>\n",
       "      <th colspan=\"4\" halign=\"left\">High</th>\n",
       "      <th colspan=\"4\" halign=\"left\">Low</th>\n",
       "      <th colspan=\"4\" halign=\"left\">Open</th>\n",
       "      <th colspan=\"4\" halign=\"left\">Volume</th>\n",
       "    </tr>\n",
       "    <tr>\n",
       "      <th></th>\n",
       "      <th>CL=F</th>\n",
       "      <th>MSCI</th>\n",
       "      <th>^DJI</th>\n",
       "      <th>^GSPC</th>\n",
       "      <th>CL=F</th>\n",
       "      <th>MSCI</th>\n",
       "      <th>^DJI</th>\n",
       "      <th>^GSPC</th>\n",
       "      <th>CL=F</th>\n",
       "      <th>MSCI</th>\n",
       "      <th>^DJI</th>\n",
       "      <th>^GSPC</th>\n",
       "      <th>CL=F</th>\n",
       "      <th>MSCI</th>\n",
       "      <th>^DJI</th>\n",
       "      <th>^GSPC</th>\n",
       "      <th>CL=F</th>\n",
       "      <th>MSCI</th>\n",
       "      <th>^DJI</th>\n",
       "      <th>^GSPC</th>\n",
       "      <th>CL=F</th>\n",
       "      <th>MSCI</th>\n",
       "      <th>^DJI</th>\n",
       "      <th>^GSPC</th>\n",
       "    </tr>\n",
       "    <tr>\n",
       "      <th>Date</th>\n",
       "      <th></th>\n",
       "      <th></th>\n",
       "      <th></th>\n",
       "      <th></th>\n",
       "      <th></th>\n",
       "      <th></th>\n",
       "      <th></th>\n",
       "      <th></th>\n",
       "      <th></th>\n",
       "      <th></th>\n",
       "      <th></th>\n",
       "      <th></th>\n",
       "      <th></th>\n",
       "      <th></th>\n",
       "      <th></th>\n",
       "      <th></th>\n",
       "      <th></th>\n",
       "      <th></th>\n",
       "      <th></th>\n",
       "      <th></th>\n",
       "      <th></th>\n",
       "      <th></th>\n",
       "      <th></th>\n",
       "      <th></th>\n",
       "    </tr>\n",
       "  </thead>\n",
       "  <tbody>\n",
       "    <tr>\n",
       "      <th>2022-12-28</th>\n",
       "      <td>78.96000</td>\n",
       "      <td>452.01996</td>\n",
       "      <td>32875.71094</td>\n",
       "      <td>3783.21997</td>\n",
       "      <td>78.96000</td>\n",
       "      <td>454.44000</td>\n",
       "      <td>32875.71094</td>\n",
       "      <td>3783.21997</td>\n",
       "      <td>79.92000</td>\n",
       "      <td>464.50000</td>\n",
       "      <td>33379.55078</td>\n",
       "      <td>3848.32007</td>\n",
       "      <td>77.30000</td>\n",
       "      <td>453.94000</td>\n",
       "      <td>32869.14844</td>\n",
       "      <td>3780.78003</td>\n",
       "      <td>79.89000</td>\n",
       "      <td>460.59000</td>\n",
       "      <td>33264.76172</td>\n",
       "      <td>3829.56006</td>\n",
       "      <td>207717.00000</td>\n",
       "      <td>211000.00000</td>\n",
       "      <td>252260000.00000</td>\n",
       "      <td>3083520000.00000</td>\n",
       "    </tr>\n",
       "    <tr>\n",
       "      <th>2022-12-29</th>\n",
       "      <td>78.40000</td>\n",
       "      <td>469.40689</td>\n",
       "      <td>33220.80078</td>\n",
       "      <td>3849.28003</td>\n",
       "      <td>78.40000</td>\n",
       "      <td>471.92001</td>\n",
       "      <td>33220.80078</td>\n",
       "      <td>3849.28003</td>\n",
       "      <td>78.82000</td>\n",
       "      <td>473.42001</td>\n",
       "      <td>33293.42188</td>\n",
       "      <td>3858.18994</td>\n",
       "      <td>76.79000</td>\n",
       "      <td>458.50000</td>\n",
       "      <td>33020.35156</td>\n",
       "      <td>3805.44995</td>\n",
       "      <td>78.82000</td>\n",
       "      <td>460.13000</td>\n",
       "      <td>33021.42969</td>\n",
       "      <td>3805.44995</td>\n",
       "      <td>199858.00000</td>\n",
       "      <td>272500.00000</td>\n",
       "      <td>243060000.00000</td>\n",
       "      <td>3003680000.00000</td>\n",
       "    </tr>\n",
       "    <tr>\n",
       "      <th>2022-12-30</th>\n",
       "      <td>80.26000</td>\n",
       "      <td>462.69284</td>\n",
       "      <td>33147.25000</td>\n",
       "      <td>3839.50000</td>\n",
       "      <td>80.26000</td>\n",
       "      <td>465.17001</td>\n",
       "      <td>33147.25000</td>\n",
       "      <td>3839.50000</td>\n",
       "      <td>80.67000</td>\n",
       "      <td>469.42999</td>\n",
       "      <td>33152.55078</td>\n",
       "      <td>3839.85010</td>\n",
       "      <td>77.71000</td>\n",
       "      <td>459.48999</td>\n",
       "      <td>32847.82031</td>\n",
       "      <td>3800.34009</td>\n",
       "      <td>78.73000</td>\n",
       "      <td>466.34000</td>\n",
       "      <td>33121.60938</td>\n",
       "      <td>3829.06006</td>\n",
       "      <td>205909.00000</td>\n",
       "      <td>354400.00000</td>\n",
       "      <td>295500000.00000</td>\n",
       "      <td>2979870000.00000</td>\n",
       "    </tr>\n",
       "  </tbody>\n",
       "</table>\n",
       "</div>"
      ],
      "text/plain": [
       "           Adj Close                                     Close            \\\n",
       "                CL=F      MSCI        ^DJI      ^GSPC     CL=F      MSCI   \n",
       "Date                                                                       \n",
       "2022-12-28  78.96000 452.01996 32875.71094 3783.21997 78.96000 454.44000   \n",
       "2022-12-29  78.40000 469.40689 33220.80078 3849.28003 78.40000 471.92001   \n",
       "2022-12-30  80.26000 462.69284 33147.25000 3839.50000 80.26000 465.17001   \n",
       "\n",
       "                                      High                                   \\\n",
       "                  ^DJI      ^GSPC     CL=F      MSCI        ^DJI      ^GSPC   \n",
       "Date                                                                          \n",
       "2022-12-28 32875.71094 3783.21997 79.92000 464.50000 33379.55078 3848.32007   \n",
       "2022-12-29 33220.80078 3849.28003 78.82000 473.42001 33293.42188 3858.18994   \n",
       "2022-12-30 33147.25000 3839.50000 80.67000 469.42999 33152.55078 3839.85010   \n",
       "\n",
       "                Low                                      Open            \\\n",
       "               CL=F      MSCI        ^DJI      ^GSPC     CL=F      MSCI   \n",
       "Date                                                                      \n",
       "2022-12-28 77.30000 453.94000 32869.14844 3780.78003 79.89000 460.59000   \n",
       "2022-12-29 76.79000 458.50000 33020.35156 3805.44995 78.82000 460.13000   \n",
       "2022-12-30 77.71000 459.48999 32847.82031 3800.34009 78.73000 466.34000   \n",
       "\n",
       "                                        Volume                               \\\n",
       "                  ^DJI      ^GSPC         CL=F         MSCI            ^DJI   \n",
       "Date                                                                          \n",
       "2022-12-28 33264.76172 3829.56006 207717.00000 211000.00000 252260000.00000   \n",
       "2022-12-29 33021.42969 3805.44995 199858.00000 272500.00000 243060000.00000   \n",
       "2022-12-30 33121.60938 3829.06006 205909.00000 354400.00000 295500000.00000   \n",
       "\n",
       "                             \n",
       "                      ^GSPC  \n",
       "Date                         \n",
       "2022-12-28 3083520000.00000  \n",
       "2022-12-29 3003680000.00000  \n",
       "2022-12-30 2979870000.00000  "
      ]
     },
     "execution_count": 30,
     "metadata": {},
     "output_type": "execute_result"
    }
   ],
   "source": [
    "tickers = [\"^GSPC\", \"CL=F\",\"^DJI\",\"MSCI\"]\n",
    "\n",
    "multpl_stocks = yf.download(tickers, start = \"2010-01-01\", end = \"2022-12-31\")\n",
    "multpl_stocks.tail(3)"
   ]
  },
  {
   "cell_type": "code",
   "execution_count": 31,
   "metadata": {},
   "outputs": [],
   "source": [
    "df_stock = np.log(multpl_stocks['Adj Close']).pct_change().dropna()\n",
    "df_vix = np.log(vix['Adj Close'])"
   ]
  },
  {
   "cell_type": "code",
   "execution_count": null,
   "metadata": {},
   "outputs": [],
   "source": [
    "df_adj = pd.concat([df_vix, df_stock], axis = 1).dropna()\n",
    "df_adj.columns = ['VIX', 'CL=F', 'MSCI', '^DJI', '^GSPC']\n",
    "df_adj.tail()"
   ]
  },
  {
   "attachments": {},
   "cell_type": "markdown",
   "metadata": {},
   "source": [
    "### ★ Other economic variables"
   ]
  },
  {
   "cell_type": "code",
   "execution_count": 33,
   "metadata": {},
   "outputs": [],
   "source": [
    "import fredapi as fa\n",
    "\n",
    "fred = fa.Fred(api_key='#####')"
   ]
  },
  {
   "cell_type": "code",
   "execution_count": 83,
   "metadata": {},
   "outputs": [
    {
     "data": {
      "text/plain": [
       "2022-12-28   78.89000\n",
       "2022-12-29   78.43000\n",
       "2022-12-30   80.16000\n",
       "Name: oil, dtype: float64"
      ]
     },
     "execution_count": 83,
     "metadata": {},
     "output_type": "execute_result"
    }
   ],
   "source": [
    "\"\"\"  Crude Oil Prices: West Texas Intermediate (WTI) \"\"\"\n",
    "oil = fred.get_series('DCOILWTICO', observation_start = \"1/1/2010\", observation_end = \"12/31/2022\").dropna()\n",
    "oil.name = 'oil'\n",
    "oil.tail(3)"
   ]
  },
  {
   "cell_type": "code",
   "execution_count": 81,
   "metadata": {},
   "outputs": [
    {
     "data": {
      "text/plain": [
       "2022-12-28   121.99830\n",
       "2022-12-29   121.65560\n",
       "2022-12-30   121.40470\n",
       "Name: DXY, dtype: float64"
      ]
     },
     "execution_count": 81,
     "metadata": {},
     "output_type": "execute_result"
    }
   ],
   "source": [
    "\"\"\" Dollar Index DXY \"\"\"\n",
    "dxy = fred.get_series('DTWEXBGS', observation_start = \"1/1/2010\", observation_end = \"12/31/2022\").dropna()\n",
    "dxy.name = 'DXY'\n",
    "dxy.tail(3)"
   ]
  },
  {
   "cell_type": "code",
   "execution_count": 78,
   "metadata": {},
   "outputs": [
    {
     "data": {
      "text/plain": [
       "2022-12-27   4.55000\n",
       "2022-12-28   4.77000\n",
       "2022-12-29   4.81000\n",
       "2022-12-30   4.79000\n",
       "2022-12-31   4.81000\n",
       "Name: credit, dtype: float64"
      ]
     },
     "execution_count": 78,
     "metadata": {},
     "output_type": "execute_result"
    }
   ],
   "source": [
    "\"\"\" Credit Spread \"\"\"\n",
    "credit = fred.get_series(\"BAMLH0A0HYM2\", observation_start = \"1/1/2010\", observation_end = \"12/31/2022\").dropna()\n",
    "credit.name = 'credit'\n",
    "credit.tail()"
   ]
  },
  {
   "cell_type": "code",
   "execution_count": 80,
   "metadata": {},
   "outputs": [
    {
     "data": {
      "text/plain": [
       "2022-12-23   -0.59000\n",
       "2022-12-27   -0.62000\n",
       "2022-12-28   -0.58000\n",
       "2022-12-29   -0.62000\n",
       "2022-12-30   -0.54000\n",
       "Name: term, dtype: float64"
      ]
     },
     "execution_count": 80,
     "metadata": {},
     "output_type": "execute_result"
    }
   ],
   "source": [
    "\"\"\" 10 YR Treasury  \"\"\"\n",
    "term = fred.get_series(\"T10Y3M\", observation_start = \"1/1/2010\", observation_end = \"12/31/2022\").dropna()\n",
    "term.name = 'term'\n",
    "term.tail()"
   ]
  },
  {
   "cell_type": "code",
   "execution_count": 85,
   "metadata": {},
   "outputs": [
    {
     "data": {
      "text/html": [
       "<div>\n",
       "<style scoped>\n",
       "    .dataframe tbody tr th:only-of-type {\n",
       "        vertical-align: middle;\n",
       "    }\n",
       "\n",
       "    .dataframe tbody tr th {\n",
       "        vertical-align: top;\n",
       "    }\n",
       "\n",
       "    .dataframe thead th {\n",
       "        text-align: right;\n",
       "    }\n",
       "</style>\n",
       "<table border=\"1\" class=\"dataframe\">\n",
       "  <thead>\n",
       "    <tr style=\"text-align: right;\">\n",
       "      <th></th>\n",
       "      <th>FF</th>\n",
       "    </tr>\n",
       "    <tr>\n",
       "      <th>date</th>\n",
       "      <th></th>\n",
       "    </tr>\n",
       "  </thead>\n",
       "  <tbody>\n",
       "    <tr>\n",
       "      <th>2022-12-27</th>\n",
       "      <td>4.10000</td>\n",
       "    </tr>\n",
       "    <tr>\n",
       "      <th>2022-12-28</th>\n",
       "      <td>4.10000</td>\n",
       "    </tr>\n",
       "    <tr>\n",
       "      <th>2022-12-29</th>\n",
       "      <td>4.10000</td>\n",
       "    </tr>\n",
       "    <tr>\n",
       "      <th>2022-12-30</th>\n",
       "      <td>4.10000</td>\n",
       "    </tr>\n",
       "    <tr>\n",
       "      <th>2022-12-31</th>\n",
       "      <td>4.10000</td>\n",
       "    </tr>\n",
       "  </tbody>\n",
       "</table>\n",
       "</div>"
      ],
      "text/plain": [
       "                FF\n",
       "date              \n",
       "2022-12-27 4.10000\n",
       "2022-12-28 4.10000\n",
       "2022-12-29 4.10000\n",
       "2022-12-30 4.10000\n",
       "2022-12-31 4.10000"
      ]
     },
     "execution_count": 85,
     "metadata": {},
     "output_type": "execute_result"
    }
   ],
   "source": [
    "\"\"\" FFDeviation  \"\"\"\n",
    "FF = pd.DataFrame(fred.get_series(\"FEDFUNDS\", observation_start = \"1/1/2010\", observation_end = \"12/31/2022\")).dropna()\n",
    "FF['date'] = FF.index\n",
    "df_FF = pd.DataFrame(FF).reset_index(drop = True)\n",
    "df_FF['date'] = pd.to_datetime(df_FF['date']).dt.to_period('m')\n",
    "df_FF = df_FF.set_index('date').resample('D').interpolate(method='linear').to_timestamp()\n",
    "df_FF.columns = ['FF']\n",
    "df_FF.tail()"
   ]
  },
  {
   "cell_type": "code",
   "execution_count": 88,
   "metadata": {},
   "outputs": [
    {
     "data": {
      "text/plain": [
       "2010-01-04   0.41000\n",
       "2010-01-05   0.37000\n",
       "2010-01-06   0.36000\n",
       "2010-01-07   0.36000\n",
       "2010-01-08   0.33000\n",
       "Name: tbill, dtype: float64"
      ]
     },
     "execution_count": 88,
     "metadata": {},
     "output_type": "execute_result"
    }
   ],
   "source": [
    "\"\"\" 1 Year T Bill Rate \"\"\"\n",
    "\n",
    "tbill = fred.get_series(\"DTB1YR\", observation_start = \"1/1/2010\", observation_end = \"12/31/2022\").dropna()\n",
    "tbill.name = 'tbill'\n",
    "tbill.head()"
   ]
  },
  {
   "cell_type": "code",
   "execution_count": 40,
   "metadata": {},
   "outputs": [
    {
     "data": {
      "text/html": [
       "<div>\n",
       "<style scoped>\n",
       "    .dataframe tbody tr th:only-of-type {\n",
       "        vertical-align: middle;\n",
       "    }\n",
       "\n",
       "    .dataframe tbody tr th {\n",
       "        vertical-align: top;\n",
       "    }\n",
       "\n",
       "    .dataframe thead th {\n",
       "        text-align: right;\n",
       "    }\n",
       "</style>\n",
       "<table border=\"1\" class=\"dataframe\">\n",
       "  <thead>\n",
       "    <tr style=\"text-align: right;\">\n",
       "      <th></th>\n",
       "      <th>Mkt-RF</th>\n",
       "      <th>SMB</th>\n",
       "      <th>HML</th>\n",
       "      <th>RF</th>\n",
       "    </tr>\n",
       "    <tr>\n",
       "      <th>date</th>\n",
       "      <th></th>\n",
       "      <th></th>\n",
       "      <th></th>\n",
       "      <th></th>\n",
       "    </tr>\n",
       "  </thead>\n",
       "  <tbody>\n",
       "    <tr>\n",
       "      <th>2023-03-27</th>\n",
       "      <td>0.27000</td>\n",
       "      <td>0.51000</td>\n",
       "      <td>1.02000</td>\n",
       "      <td>0.01600</td>\n",
       "    </tr>\n",
       "    <tr>\n",
       "      <th>2023-03-28</th>\n",
       "      <td>-0.17000</td>\n",
       "      <td>-0.03000</td>\n",
       "      <td>0.74000</td>\n",
       "      <td>0.01600</td>\n",
       "    </tr>\n",
       "    <tr>\n",
       "      <th>2023-03-29</th>\n",
       "      <td>1.39000</td>\n",
       "      <td>-0.34000</td>\n",
       "      <td>-0.50000</td>\n",
       "      <td>0.01600</td>\n",
       "    </tr>\n",
       "    <tr>\n",
       "      <th>2023-03-30</th>\n",
       "      <td>0.51000</td>\n",
       "      <td>-0.61000</td>\n",
       "      <td>-0.59000</td>\n",
       "      <td>0.01600</td>\n",
       "    </tr>\n",
       "    <tr>\n",
       "      <th>2023-03-31</th>\n",
       "      <td>1.53000</td>\n",
       "      <td>0.51000</td>\n",
       "      <td>-0.77000</td>\n",
       "      <td>0.01600</td>\n",
       "    </tr>\n",
       "  </tbody>\n",
       "</table>\n",
       "</div>"
      ],
      "text/plain": [
       "             Mkt-RF      SMB      HML      RF\n",
       "date                                         \n",
       "2023-03-27  0.27000  0.51000  1.02000 0.01600\n",
       "2023-03-28 -0.17000 -0.03000  0.74000 0.01600\n",
       "2023-03-29  1.39000 -0.34000 -0.50000 0.01600\n",
       "2023-03-30  0.51000 -0.61000 -0.59000 0.01600\n",
       "2023-03-31  1.53000  0.51000 -0.77000 0.01600"
      ]
     },
     "execution_count": 40,
     "metadata": {},
     "output_type": "execute_result"
    }
   ],
   "source": [
    "\"\"\" Fama-French EMR, SMB, HML, Short-term Reversal \"\"\"\n",
    "\n",
    "emr_raw = pd.read_csv(\"../data/F-F_Research_Data_5_Factors_2x3_daily.csv\").dropna()\n",
    "str_raw = pd.read_csv(\"../data/F-F_ST_Reversal_Factor_daily.csv\").dropna()\n",
    "\n",
    "# datetime.strptime(emr_raw['date'].astype(\"string\"), '%Y%m%d')\n",
    "\n",
    "emr_raw['date'] = pd.to_datetime(emr_raw['date'].astype(\"string\")).dt.to_period('d') #strftime('%Y-%m-%d')\n",
    "str_raw['date'] = pd.to_datetime(str_raw['date'].astype(\"string\")).dt.to_period('d')\n",
    "\n",
    "emr_raw = emr_raw.loc[:,['date','Mkt-RF','SMB','HML','RF']].set_index('date').to_timestamp()\n",
    "str_raw = str_raw.set_index('date').to_timestamp()\n",
    "emr_raw.tail()"
   ]
  },
  {
   "cell_type": "code",
   "execution_count": 91,
   "metadata": {},
   "outputs": [],
   "source": [
    "\"\"\" Spot Exchange rate EUR & CNY & GBP & JPY : Log return \"\"\"\n",
    "\n",
    "eur_raw = fred.get_series(\"DEXUSEU\", observation_start = \"1/1/2010\", observation_end = \"12/31/2022\").dropna()\n",
    "eur = np.log(eur_raw).pct_change().dropna()\n",
    "eur.name = 'eur'\n",
    "\n",
    "cny_raw = fred.get_series(\"DEXCHUS\", observation_start = \"1/1/2010\", observation_end = \"12/31/2022\").dropna()\n",
    "cny = np.log(cny_raw).pct_change().dropna()\n",
    "cny.name = 'cny'\n",
    "\n",
    "gbp_raw = fred.get_series(\"DEXUSUK\", observation_start = \"1/1/2010\", observation_end = \"12/31/2022\").dropna()\n",
    "gbp = np.log(gbp_raw).pct_change().dropna()\n",
    "gbp.name = 'gbp'\n",
    "\n",
    "jpy_raw = fred.get_series(\"DEXJPUS\", observation_start = \"1/1/2010\", observation_end = \"12/31/2022\").dropna()\n",
    "jpy = np.log(jpy_raw).pct_change().dropna()\n",
    "jpy.name = 'jpy'\n",
    "\n",
    "\n",
    "currency = pd.concat([eur, cny, gbp, jpy], axis=1)"
   ]
  },
  {
   "cell_type": "code",
   "execution_count": 94,
   "metadata": {},
   "outputs": [
    {
     "data": {
      "text/html": [
       "<div>\n",
       "<style scoped>\n",
       "    .dataframe tbody tr th:only-of-type {\n",
       "        vertical-align: middle;\n",
       "    }\n",
       "\n",
       "    .dataframe tbody tr th {\n",
       "        vertical-align: top;\n",
       "    }\n",
       "\n",
       "    .dataframe thead th {\n",
       "        text-align: right;\n",
       "    }\n",
       "</style>\n",
       "<table border=\"1\" class=\"dataframe\">\n",
       "  <thead>\n",
       "    <tr style=\"text-align: right;\">\n",
       "      <th></th>\n",
       "      <th>GSPC_TR</th>\n",
       "      <th>DJI_TR</th>\n",
       "      <th>MSCI_TR</th>\n",
       "      <th>GSPC_TR_Change</th>\n",
       "      <th>DJI_TR_Change</th>\n",
       "      <th>MSCI_TR_Change</th>\n",
       "    </tr>\n",
       "  </thead>\n",
       "  <tbody>\n",
       "    <tr>\n",
       "      <th>2010-01-05</th>\n",
       "      <td>2.11223</td>\n",
       "      <td>1.59870</td>\n",
       "      <td>1.12810</td>\n",
       "      <td>-0.38825</td>\n",
       "      <td>0.10470</td>\n",
       "      <td>-1.13174</td>\n",
       "    </tr>\n",
       "    <tr>\n",
       "      <th>2010-01-06</th>\n",
       "      <td>4.21270</td>\n",
       "      <td>1.57608</td>\n",
       "      <td>1.61124</td>\n",
       "      <td>0.92325</td>\n",
       "      <td>-0.03038</td>\n",
       "      <td>2.95744</td>\n",
       "    </tr>\n",
       "    <tr>\n",
       "      <th>2010-01-07</th>\n",
       "      <td>4.44756</td>\n",
       "      <td>1.83440</td>\n",
       "      <td>1.89685</td>\n",
       "      <td>0.03772</td>\n",
       "      <td>0.33362</td>\n",
       "      <td>0.34211</td>\n",
       "    </tr>\n",
       "    <tr>\n",
       "      <th>2010-01-08</th>\n",
       "      <td>3.69205</td>\n",
       "      <td>1.45265</td>\n",
       "      <td>1.38620</td>\n",
       "      <td>-0.12475</td>\n",
       "      <td>-0.38458</td>\n",
       "      <td>-0.48989</td>\n",
       "    </tr>\n",
       "    <tr>\n",
       "      <th>2010-01-11</th>\n",
       "      <td>3.57438</td>\n",
       "      <td>1.52902</td>\n",
       "      <td>1.22506</td>\n",
       "      <td>-0.02480</td>\n",
       "      <td>0.13722</td>\n",
       "      <td>-0.37841</td>\n",
       "    </tr>\n",
       "    <tr>\n",
       "      <th>...</th>\n",
       "      <td>...</td>\n",
       "      <td>...</td>\n",
       "      <td>...</td>\n",
       "      <td>...</td>\n",
       "      <td>...</td>\n",
       "      <td>...</td>\n",
       "    </tr>\n",
       "    <tr>\n",
       "      <th>2022-12-23</th>\n",
       "      <td>0.73977</td>\n",
       "      <td>0.58002</td>\n",
       "      <td>0.09110</td>\n",
       "      <td>-7.99125</td>\n",
       "      <td>4.10466</td>\n",
       "      <td>0.01978</td>\n",
       "    </tr>\n",
       "    <tr>\n",
       "      <th>2022-12-27</th>\n",
       "      <td>0.79888</td>\n",
       "      <td>0.64856</td>\n",
       "      <td>0.10537</td>\n",
       "      <td>-0.25506</td>\n",
       "      <td>-0.20504</td>\n",
       "      <td>-0.06074</td>\n",
       "    </tr>\n",
       "    <tr>\n",
       "      <th>2022-12-28</th>\n",
       "      <td>0.82313</td>\n",
       "      <td>0.67340</td>\n",
       "      <td>0.05633</td>\n",
       "      <td>-0.13316</td>\n",
       "      <td>-0.08679</td>\n",
       "      <td>0.27835</td>\n",
       "    </tr>\n",
       "    <tr>\n",
       "      <th>2022-12-29</th>\n",
       "      <td>0.78714</td>\n",
       "      <td>0.63696</td>\n",
       "      <td>0.07141</td>\n",
       "      <td>0.22968</td>\n",
       "      <td>0.14067</td>\n",
       "      <td>-0.08250</td>\n",
       "    </tr>\n",
       "    <tr>\n",
       "      <th>2022-12-30</th>\n",
       "      <td>0.78265</td>\n",
       "      <td>0.77612</td>\n",
       "      <td>0.09308</td>\n",
       "      <td>0.02389</td>\n",
       "      <td>-0.43809</td>\n",
       "      <td>-0.10042</td>\n",
       "    </tr>\n",
       "  </tbody>\n",
       "</table>\n",
       "<p>3271 rows × 6 columns</p>\n",
       "</div>"
      ],
      "text/plain": [
       "            GSPC_TR  DJI_TR  MSCI_TR  GSPC_TR_Change  DJI_TR_Change  \\\n",
       "2010-01-05  2.11223 1.59870  1.12810        -0.38825        0.10470   \n",
       "2010-01-06  4.21270 1.57608  1.61124         0.92325       -0.03038   \n",
       "2010-01-07  4.44756 1.83440  1.89685         0.03772        0.33362   \n",
       "2010-01-08  3.69205 1.45265  1.38620        -0.12475       -0.38458   \n",
       "2010-01-11  3.57438 1.52902  1.22506        -0.02480        0.13722   \n",
       "...             ...     ...      ...             ...            ...   \n",
       "2022-12-23  0.73977 0.58002  0.09110        -7.99125        4.10466   \n",
       "2022-12-27  0.79888 0.64856  0.10537        -0.25506       -0.20504   \n",
       "2022-12-28  0.82313 0.67340  0.05633        -0.13316       -0.08679   \n",
       "2022-12-29  0.78714 0.63696  0.07141         0.22968        0.14067   \n",
       "2022-12-30  0.78265 0.77612  0.09308         0.02389       -0.43809   \n",
       "\n",
       "            MSCI_TR_Change  \n",
       "2010-01-05        -1.13174  \n",
       "2010-01-06         2.95744  \n",
       "2010-01-07         0.34211  \n",
       "2010-01-08        -0.48989  \n",
       "2010-01-11        -0.37841  \n",
       "...                    ...  \n",
       "2022-12-23         0.01978  \n",
       "2022-12-27        -0.06074  \n",
       "2022-12-28         0.27835  \n",
       "2022-12-29        -0.08250  \n",
       "2022-12-30        -0.10042  \n",
       "\n",
       "[3271 rows x 6 columns]"
      ]
     },
     "execution_count": 94,
     "metadata": {},
     "output_type": "execute_result"
    }
   ],
   "source": [
    "\"\"\" Turnover Ratio : daily volume divided by total market capitalization \"\"\"\n",
    "\n",
    "cap = fred.get_series(\"WILL5000PRFC\", observation_start = \"1/1/2010\", observation_end = \"12/31/2022\").dropna()\n",
    "cap.name = 'cap'\n",
    "\n",
    "vol = multpl_stocks['Volume'].loc[:,['^GSPC', \"^DJI\", \"MSCI\"]]\n",
    "\n",
    "df_tr = pd.concat([vol, cap], axis = 1).dropna()\n",
    "df_tr['GSPC_TR'] = df_tr['^GSPC']/(cap*100000)\n",
    "df_tr['DJI_TR'] = df_tr['^DJI']/(cap*10000)\n",
    "df_tr['MSCI_TR'] = df_tr['MSCI']/(cap*100)\n",
    "\n",
    "df_tr_temp = df_tr.loc[:, ['GSPC_TR', 'DJI_TR','MSCI_TR']]\n",
    "df_tr_temp[\"GSPC_TR_Change\"] = np.log(df_tr_temp['GSPC_TR']).pct_change().dropna()\n",
    "df_tr_temp[\"DJI_TR_Change\"] = np.log(df_tr_temp['DJI_TR']).pct_change().dropna()\n",
    "df_tr_temp[\"MSCI_TR_Change\"] = np.log(df_tr_temp['MSCI_TR']).pct_change().dropna()\n",
    "\n",
    "df_tr_use = df_tr_temp.dropna()\n",
    "df_tr_use"
   ]
  },
  {
   "cell_type": "code",
   "execution_count": 95,
   "metadata": {},
   "outputs": [],
   "source": [
    "\"\"\" CPI *** NO YEAR *** \"\"\" \n",
    "\n",
    "cpi_raw = pd.DataFrame(fred.get_series(\"CPIAUCSL\", observation_start = \"12/31/2009\", observation_end = \"12/31/2022\")).dropna()\n",
    "inf_M = np.log(cpi_raw).diff().dropna()\n",
    "inf_M['date'] = inf_M.index\n",
    "inf_M = pd.DataFrame(inf_M).reset_index(drop = True)\n",
    "inf_M['date'] = pd.to_datetime(inf_M['date']).dt.to_period('m')\n",
    "inf_M = inf_M.set_index('date').resample('D').interpolate(method='linear').to_timestamp()\n",
    "inf_M.columns = ['inf_M']"
   ]
  },
  {
   "cell_type": "code",
   "execution_count": 97,
   "metadata": {},
   "outputs": [],
   "source": [
    "\"\"\" Consumer Sentiment Univ of Michigan \"\"\"\n",
    "\n",
    "sent_raw = pd.read_csv(\"../data/Consumer Sentiment Michigan.csv\", sep=\",\")\n",
    "sent_raw['date'] = pd.to_datetime(sent_raw[['Year','Month']].assign(day = 1)).dt.to_period('m')\n",
    "sent_raw['Index'] = np.log(sent_raw['Index']).diff()\n",
    "sent_temp = sent_raw.loc[:,['date','Index']].dropna()\n",
    "sent_use = sent_temp.set_index('date').resample('D').interpolate(method='linear').to_timestamp()\n",
    "sent_use.columns = ['SentMichigan']"
   ]
  },
  {
   "cell_type": "code",
   "execution_count": 45,
   "metadata": {},
   "outputs": [],
   "source": [
    "\"\"\" Money Supply : Monthly log-change in SA M1 money supply\"\"\"\n",
    "\n",
    "m1_raw = pd.DataFrame(fred.get_series(\"M1SL\", observation_start = \"12/31/2009\", observation_end = \"12/31/2022\"))\n",
    "m1 = np.log(m1_raw).diff().dropna()\n",
    "m1['date'] = m1.index\n",
    "m1 = pd.DataFrame(m1).reset_index(drop = True)\n",
    "m1['date'] = pd.to_datetime(m1['date']).dt.to_period('m')\n",
    "m1 = m1.set_index('date').resample('D').interpolate(method='linear').to_timestamp()\n",
    "m1.columns = ['m1']"
   ]
  },
  {
   "cell_type": "code",
   "execution_count": 46,
   "metadata": {},
   "outputs": [],
   "source": [
    "\"\"\" Housing : Monthly log-change in new private housing started \"\"\"\n",
    "\n",
    "house_raw = pd.DataFrame(fred.get_series(\"HOUST\", observation_start = \"12/31/2009\", observation_end = \"12/31/2022\"))\n",
    "house = np.log(house_raw).diff().dropna()\n",
    "house['date'] = house.index\n",
    "house = pd.DataFrame(house).reset_index(drop = True)\n",
    "house['date'] = pd.to_datetime(house['date']).dt.to_period('m')\n",
    "house = house.set_index('date').resample('D').interpolate(method='linear').to_timestamp()\n",
    "house.columns = ['house']"
   ]
  },
  {
   "cell_type": "code",
   "execution_count": 47,
   "metadata": {},
   "outputs": [],
   "source": [
    "\"\"\" Industrial Production : Monthly log-difference in SA Industrial Production \"\"\"\n",
    "\n",
    "indus_raw = pd.DataFrame(fred.get_series(\"INDPRO\", observation_start = \"12/31/2009\", observation_end = \"12/31/2022\"))\n",
    "indus = np.log(indus_raw).diff().dropna()\n",
    "indus['date'] = indus.index\n",
    "indus = pd.DataFrame(indus).reset_index(drop = True)\n",
    "indus['date'] = pd.to_datetime(indus['date']).dt.to_period('m')\n",
    "indus = indus.set_index('date').resample('D').interpolate(method='linear').to_timestamp()\n",
    "indus.columns = ['indus']"
   ]
  },
  {
   "cell_type": "code",
   "execution_count": 48,
   "metadata": {},
   "outputs": [],
   "source": [
    "\"\"\" New orders : Monthly log-change in SA New Orders - Manufacturers' New Orders: Durable Goods \"\"\"\n",
    "\n",
    "orders_raw = pd.DataFrame(fred.get_series(\"DGORDER\", observation_start = \"12/31/2009\", observation_end = \"12/31/2022\"))\n",
    "orders = np.log(orders_raw).diff().dropna()\n",
    "orders['date'] = orders.index\n",
    "orders = pd.DataFrame(orders).reset_index(drop = True)\n",
    "orders['date'] = pd.to_datetime(orders['date']).dt.to_period('m')\n",
    "orders = orders.set_index('date').resample('D').interpolate(method='linear').to_timestamp()\n",
    "orders.columns = ['orders']"
   ]
  },
  {
   "cell_type": "code",
   "execution_count": 49,
   "metadata": {},
   "outputs": [
    {
     "data": {
      "text/html": [
       "<div>\n",
       "<style scoped>\n",
       "    .dataframe tbody tr th:only-of-type {\n",
       "        vertical-align: middle;\n",
       "    }\n",
       "\n",
       "    .dataframe tbody tr th {\n",
       "        vertical-align: top;\n",
       "    }\n",
       "\n",
       "    .dataframe thead th {\n",
       "        text-align: right;\n",
       "    }\n",
       "</style>\n",
       "<table border=\"1\" class=\"dataframe\">\n",
       "  <thead>\n",
       "    <tr style=\"text-align: right;\">\n",
       "      <th></th>\n",
       "      <th>crb</th>\n",
       "    </tr>\n",
       "    <tr>\n",
       "      <th>Date</th>\n",
       "      <th></th>\n",
       "    </tr>\n",
       "  </thead>\n",
       "  <tbody>\n",
       "    <tr>\n",
       "      <th>2022-10-03</th>\n",
       "      <td>0.01687</td>\n",
       "    </tr>\n",
       "    <tr>\n",
       "      <th>2022-10-04</th>\n",
       "      <td>0.02791</td>\n",
       "    </tr>\n",
       "    <tr>\n",
       "      <th>2022-10-05</th>\n",
       "      <td>0.00521</td>\n",
       "    </tr>\n",
       "    <tr>\n",
       "      <th>2022-10-06</th>\n",
       "      <td>0.00130</td>\n",
       "    </tr>\n",
       "    <tr>\n",
       "      <th>2022-10-07</th>\n",
       "      <td>0.01189</td>\n",
       "    </tr>\n",
       "  </tbody>\n",
       "</table>\n",
       "</div>"
      ],
      "text/plain": [
       "               crb\n",
       "Date              \n",
       "2022-10-03 0.01687\n",
       "2022-10-04 0.02791\n",
       "2022-10-05 0.00521\n",
       "2022-10-06 0.00130\n",
       "2022-10-07 0.01189"
      ]
     },
     "execution_count": 49,
     "metadata": {},
     "output_type": "execute_result"
    }
   ],
   "source": [
    "\"\"\" CRB INDEX \"\"\"\n",
    "\n",
    "crb_raw = pd.read_csv(\"../data/CRB Index.csv\", sep=\",\")\n",
    "\n",
    "crb_raw['Date'] = pd.to_datetime(crb_raw['Date']).dt.to_period('d')\n",
    "crb_temp = crb_raw.loc[:,['Date','Close']].set_index('Date').to_timestamp()\n",
    "crb_use = crb_temp.pct_change().dropna()\n",
    "crb_use.columns = ['crb']\n",
    "crb_use.tail()"
   ]
  },
  {
   "cell_type": "code",
   "execution_count": 50,
   "metadata": {},
   "outputs": [],
   "source": [
    "\"\"\" Capaticity Utilization Level & Change \"\"\"\n",
    "\n",
    "capa_raw = pd.DataFrame(fred.get_series(\"TCU\", observation_start = \"12/31/2009\", observation_end = \"12/31/2022\"))\n",
    "\n",
    "capa_level = capa_raw.copy()\n",
    "capa_level['date'] = capa_level.index\n",
    "capa_level = pd.DataFrame(capa_level).reset_index(drop = True)\n",
    "capa_level['date'] = pd.to_datetime(capa_level['date']).dt.to_period('m')\n",
    "capa_level = capa_level.set_index('date').resample('D').interpolate(method='linear').to_timestamp()\n",
    "capa_level.columns = ['capa_level']\n",
    "\n",
    "capa_change = np.log(capa_raw).diff().dropna()\n",
    "capa_change['date'] = capa_change.index\n",
    "capa_change = pd.DataFrame(capa_change).reset_index(drop = True)\n",
    "capa_change['date'] = pd.to_datetime(capa_change['date']).dt.to_period('m')\n",
    "capa_change = capa_change.set_index('date').resample('D').interpolate(method='linear').to_timestamp()\n",
    "capa_change.columns = ['capa_change']\n"
   ]
  },
  {
   "attachments": {},
   "cell_type": "markdown",
   "metadata": {},
   "source": [
    "### ★ HAR Variables (1 day, 5 days, 22 days)"
   ]
  },
  {
   "cell_type": "code",
   "execution_count": 52,
   "metadata": {},
   "outputs": [
    {
     "data": {
      "text/plain": [
       "Date\n",
       "2010-01-05   2.96269\n",
       "2010-01-06   2.95282\n",
       "2010-01-07   2.94759\n",
       "2010-01-08   2.89757\n",
       "2010-01-11   2.86505\n",
       "               ...  \n",
       "2022-12-23   3.03831\n",
       "2022-12-27   3.07501\n",
       "2022-12-28   3.09739\n",
       "2022-12-29   3.06526\n",
       "2022-12-30   3.07593\n",
       "Name: VIX, Length: 3271, dtype: float64"
      ]
     },
     "execution_count": 52,
     "metadata": {},
     "output_type": "execute_result"
    }
   ],
   "source": [
    "vix_raw = df_adj['VIX']\n",
    "vix_raw"
   ]
  },
  {
   "cell_type": "code",
   "execution_count": 101,
   "metadata": {},
   "outputs": [],
   "source": [
    "vix_d_x = vix_raw[0:(len(vix_raw))]\n",
    "\n",
    "vix_w_x = []\n",
    "vix_m_x = []\n",
    "\n",
    "for j in range(23,(len(vix_raw))):\n",
    "    vix_w_temp = sum(vix_d_x[(j-5):(j)]) / 5\n",
    "    vix_m_temp = sum(vix_d_x[(j-22):(j)]) / 22\n",
    "    \n",
    "    vix_w_x.append(vix_w_temp)\n",
    "    vix_m_x.append(vix_m_temp)\n",
    "    \n",
    "vix_w_x = pd.DataFrame(vix_w_x)\n",
    "vix_m_x = pd.DataFrame(vix_m_x)\n",
    "\n",
    "df_vix = pd.concat([vix_d_x[22:len(vix_raw)].reset_index(drop=True), \n",
    "                    vix_w_x[0:len(vix_raw)].reset_index(drop=True),\n",
    "                    vix_m_x[0:len(vix_raw)].reset_index(drop=True)\n",
    "                    ], axis = 1, ignore_index=True)\n",
    "\n",
    "df_vix.columns = ['VIX_D_X', 'VIX_W_X', 'VIX_M_X']"
   ]
  },
  {
   "cell_type": "code",
   "execution_count": 102,
   "metadata": {},
   "outputs": [
    {
     "data": {
      "text/html": [
       "<div>\n",
       "<style scoped>\n",
       "    .dataframe tbody tr th:only-of-type {\n",
       "        vertical-align: middle;\n",
       "    }\n",
       "\n",
       "    .dataframe tbody tr th {\n",
       "        vertical-align: top;\n",
       "    }\n",
       "\n",
       "    .dataframe thead th {\n",
       "        text-align: right;\n",
       "    }\n",
       "</style>\n",
       "<table border=\"1\" class=\"dataframe\">\n",
       "  <thead>\n",
       "    <tr style=\"text-align: right;\">\n",
       "      <th></th>\n",
       "      <th>VIX_D_X</th>\n",
       "      <th>VIX_W_X</th>\n",
       "      <th>VIX_M_X</th>\n",
       "    </tr>\n",
       "    <tr>\n",
       "      <th>Date</th>\n",
       "      <th></th>\n",
       "      <th></th>\n",
       "      <th></th>\n",
       "    </tr>\n",
       "  </thead>\n",
       "  <tbody>\n",
       "    <tr>\n",
       "      <th>2010-02-05</th>\n",
       "      <td>3.26232</td>\n",
       "      <td>3.15616</td>\n",
       "      <td>3.05170</td>\n",
       "    </tr>\n",
       "    <tr>\n",
       "      <th>2010-02-08</th>\n",
       "      <td>3.27752</td>\n",
       "      <td>3.18816</td>\n",
       "      <td>3.06646</td>\n",
       "    </tr>\n",
       "    <tr>\n",
       "      <th>2010-02-09</th>\n",
       "      <td>3.25810</td>\n",
       "      <td>3.22636</td>\n",
       "      <td>3.08057</td>\n",
       "    </tr>\n",
       "    <tr>\n",
       "      <th>2010-02-10</th>\n",
       "      <td>3.23475</td>\n",
       "      <td>3.25877</td>\n",
       "      <td>3.09590</td>\n",
       "    </tr>\n",
       "    <tr>\n",
       "      <th>2010-02-11</th>\n",
       "      <td>3.17639</td>\n",
       "      <td>3.24181</td>\n",
       "      <td>3.11005</td>\n",
       "    </tr>\n",
       "    <tr>\n",
       "      <th>...</th>\n",
       "      <td>...</td>\n",
       "      <td>...</td>\n",
       "      <td>...</td>\n",
       "    </tr>\n",
       "    <tr>\n",
       "      <th>2022-12-23</th>\n",
       "      <td>3.03831</td>\n",
       "      <td>3.06086</td>\n",
       "      <td>3.07280</td>\n",
       "    </tr>\n",
       "    <tr>\n",
       "      <th>2022-12-27</th>\n",
       "      <td>3.07501</td>\n",
       "      <td>3.05387</td>\n",
       "      <td>3.07562</td>\n",
       "    </tr>\n",
       "    <tr>\n",
       "      <th>2022-12-28</th>\n",
       "      <td>3.09739</td>\n",
       "      <td>3.05992</td>\n",
       "      <td>3.07912</td>\n",
       "    </tr>\n",
       "    <tr>\n",
       "      <th>2022-12-29</th>\n",
       "      <td>3.06526</td>\n",
       "      <td>3.07313</td>\n",
       "      <td>3.07751</td>\n",
       "    </tr>\n",
       "    <tr>\n",
       "      <th>2022-12-30</th>\n",
       "      <td>3.07593</td>\n",
       "      <td>NaN</td>\n",
       "      <td>NaN</td>\n",
       "    </tr>\n",
       "  </tbody>\n",
       "</table>\n",
       "<p>3249 rows × 3 columns</p>\n",
       "</div>"
      ],
      "text/plain": [
       "            VIX_D_X  VIX_W_X  VIX_M_X\n",
       "Date                                 \n",
       "2010-02-05  3.26232  3.15616  3.05170\n",
       "2010-02-08  3.27752  3.18816  3.06646\n",
       "2010-02-09  3.25810  3.22636  3.08057\n",
       "2010-02-10  3.23475  3.25877  3.09590\n",
       "2010-02-11  3.17639  3.24181  3.11005\n",
       "...             ...      ...      ...\n",
       "2022-12-23  3.03831  3.06086  3.07280\n",
       "2022-12-27  3.07501  3.05387  3.07562\n",
       "2022-12-28  3.09739  3.05992  3.07912\n",
       "2022-12-29  3.06526  3.07313  3.07751\n",
       "2022-12-30  3.07593      NaN      NaN\n",
       "\n",
       "[3249 rows x 3 columns]"
      ]
     },
     "execution_count": 102,
     "metadata": {},
     "output_type": "execute_result"
    }
   ],
   "source": [
    "\"\"\" DATE t+1 \"\"\"\n",
    "date = vix_d_x[22:len(vix_raw)].index\n",
    "# date = vix_d_y[22:len(vix_raw)].index\n",
    "df_vix.index = date\n",
    "df_vix"
   ]
  },
  {
   "attachments": {},
   "cell_type": "markdown",
   "metadata": {},
   "source": [
    "### ★ Generating Final Dataframe "
   ]
  },
  {
   "cell_type": "code",
   "execution_count": 132,
   "metadata": {},
   "outputs": [],
   "source": [
    "\"\"\" FINAL DATAFRAME WITH ALL VARIABLES \"\"\"\n",
    "\n",
    "df_final = pd.concat([df_vix,\n",
    "        #    dis.loc[dis.index.isin(date)],\n",
    "           twitter.loc[twitter.index.isin(date)],\n",
    "           google_df.loc[google_df.index.isin(date)],\n",
    "           df_adj.loc[df_adj.index.isin(date),['^GSPC','CL=F','^DJI',\"MSCI\"]], \n",
    "           oil.loc[oil.index.isin(date)], \n",
    "           dxy.loc[dxy.index.isin(date)], \n",
    "           credit.loc[credit.index.isin(date)], \n",
    "           term.loc[term.index.isin(date)], \n",
    "           df_FF.loc[df_FF.index.isin(date)],\n",
    "           emr_raw.loc[emr_raw.index.isin(date)],\n",
    "           str_raw.loc[str_raw.index.isin(date)],\n",
    "           tbill.loc[tbill.index.isin(date)],\n",
    "           currency.loc[currency.index.isin(date)],\n",
    "           df_tr_use.loc[df_tr_use.index.isin(date)],\n",
    "           inf_M.loc[inf_M.index.isin(date)],\n",
    "           sent_use.loc[sent_use.index.isin(date)],\n",
    "           m1.loc[m1.index.isin(date)],\n",
    "           house.loc[house.index.isin(date)],\n",
    "           indus.loc[indus.index.isin(date)],\n",
    "           orders.loc[orders.index.isin(date)],\n",
    "           crb_use.loc[crb_use.index.isin(date)],\n",
    "           capa_level.loc[capa_level.index.isin(date)],\n",
    "           capa_change.loc[capa_change.index.isin(date)]\n",
    "           ], axis = 1).replace([np.inf, -np.inf], np.nan, inplace = False).dropna()"
   ]
  },
  {
   "attachments": {},
   "cell_type": "markdown",
   "metadata": {},
   "source": [
    "### ★ Save Final Dataframe"
   ]
  },
  {
   "cell_type": "code",
   "execution_count": 135,
   "metadata": {},
   "outputs": [],
   "source": [
    "writer = pd.ExcelWriter('./data_womacro_test.xlsx'\n",
    "                        , engine = 'xlsxwriter'\n",
    "                        , date_format= 'yyyy-mm-dd'\n",
    "                        , datetime_format= 'yyyy-mm-dd')\n",
    "\n",
    "df_final.to_excel(writer, index = True, sheet_name = 'Data')\n",
    "\n",
    "writer.book.use_zip64()\n",
    "writer.save()"
   ]
  }
 ],
 "metadata": {
  "kernelspec": {
   "display_name": "Python 3.7.11 ('energy')",
   "language": "python",
   "name": "python3"
  },
  "language_info": {
   "codemirror_mode": {
    "name": "ipython",
    "version": 3
   },
   "file_extension": ".py",
   "mimetype": "text/x-python",
   "name": "python",
   "nbconvert_exporter": "python",
   "pygments_lexer": "ipython3",
   "version": "3.7.16"
  },
  "orig_nbformat": 4,
  "vscode": {
   "interpreter": {
    "hash": "4bfb10b5d9ce7566c5a8d7bf9a9a0f913b2bed9b3c98c584ca64da14a413cda6"
   }
  }
 },
 "nbformat": 4,
 "nbformat_minor": 2
}
