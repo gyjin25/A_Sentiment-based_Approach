{
 "cells": [
  {
   "cell_type": "code",
   "execution_count": 170,
   "metadata": {},
   "outputs": [],
   "source": [
    "import pandas as pd\n",
    "import numpy as np\n",
    "import os\n",
    "\n",
    "import snscrape.modules.twitter as sntwitter\n",
    "from time import sleep\n",
    "\n",
    "import datetime\n",
    "from datetime import timedelta, datetime\n",
    "from dateutil.relativedelta import relativedelta\n",
    "import pickle\n",
    "\n",
    "pd.set_option('Display.max_columns', 100)\n",
    "pd.set_option('Display.max_rows', 100)"
   ]
  },
  {
   "cell_type": "markdown",
   "metadata": {},
   "source": [
    "### ★ Load Twitter sentiment data from pickle files"
   ]
  },
  {
   "cell_type": "code",
   "execution_count": 98,
   "metadata": {},
   "outputs": [],
   "source": [
    "twitter = pd.concat([pd.read_pickle(r'../data_scrap/bert/'+x) for x in os.listdir('../data_scrap/bert/')])\n",
    "twitter.reset_index(drop = True, inplace = True)"
   ]
  },
  {
   "cell_type": "code",
   "execution_count": 132,
   "metadata": {},
   "outputs": [
    {
     "data": {
      "text/plain": [
       "(2030051, 16)"
      ]
     },
     "execution_count": 132,
     "metadata": {},
     "output_type": "execute_result"
    }
   ],
   "source": [
    "twitter.shape"
   ]
  },
  {
   "cell_type": "code",
   "execution_count": 168,
   "metadata": {},
   "outputs": [
    {
     "data": {
      "text/plain": [
       "0    2010-01-07\n",
       "1    2010-01-07\n",
       "2    2010-01-07\n",
       "3    2010-01-07\n",
       "4    2010-01-07\n",
       "Name: Date, dtype: object"
      ]
     },
     "execution_count": 168,
     "metadata": {},
     "output_type": "execute_result"
    }
   ],
   "source": [
    "# Change datetime structure from y-m-d-h-s to y-m-d\n",
    "twitter['Date'] = pd.to_datetime(twitter['Date']).dt.date\n",
    "twitter['Date'].head()"
   ]
  },
  {
   "cell_type": "markdown",
   "metadata": {},
   "source": [
    "### ★ Compare number of observations in each year from 2010 ~ 2021"
   ]
  },
  {
   "cell_type": "code",
   "execution_count": 133,
   "metadata": {},
   "outputs": [
    {
     "data": {
      "text/plain": [
       "(2030051, 16)"
      ]
     },
     "execution_count": 133,
     "metadata": {},
     "output_type": "execute_result"
    }
   ],
   "source": [
    "# Deleting duplicated values for Content\n",
    "\n",
    "twitter = twitter.loc[~twitter['Content'].duplicated()]\n",
    "twitter.shape"
   ]
  },
  {
   "cell_type": "code",
   "execution_count": 158,
   "metadata": {},
   "outputs": [],
   "source": [
    "date = twitter['Date'].apply(lambda x: x.strftime(\"%Y-%m-%d\"))"
   ]
  },
  {
   "cell_type": "code",
   "execution_count": 167,
   "metadata": {},
   "outputs": [
    {
     "data": {
      "text/plain": [
       "(24342, 66098, 89221)"
      ]
     },
     "execution_count": 167,
     "metadata": {},
     "output_type": "execute_result"
    }
   ],
   "source": [
    "date.str.contains(\"2010\").sum(), date.str.contains(\"2011\").sum(), date.str.contains(\"2012\").sum()"
   ]
  },
  {
   "cell_type": "code",
   "execution_count": 162,
   "metadata": {},
   "outputs": [
    {
     "data": {
      "text/plain": [
       "(113605, 113995, 153414)"
      ]
     },
     "execution_count": 162,
     "metadata": {},
     "output_type": "execute_result"
    }
   ],
   "source": [
    "date.str.contains(\"2013\").sum(), date.str.contains(\"2014\").sum(), date.str.contains(\"2015\").sum()"
   ]
  },
  {
   "cell_type": "code",
   "execution_count": 163,
   "metadata": {},
   "outputs": [
    {
     "data": {
      "text/plain": [
       "(141726, 90834, 135679)"
      ]
     },
     "execution_count": 163,
     "metadata": {},
     "output_type": "execute_result"
    }
   ],
   "source": [
    "date.str.contains(\"2016\").sum(), date.str.contains(\"2017\").sum(), date.str.contains(\"2018\").sum()"
   ]
  },
  {
   "cell_type": "code",
   "execution_count": 164,
   "metadata": {},
   "outputs": [
    {
     "data": {
      "text/plain": [
       "(113965, 261936, 284028)"
      ]
     },
     "execution_count": 164,
     "metadata": {},
     "output_type": "execute_result"
    }
   ],
   "source": [
    "date.str.contains(\"2019\").sum(), date.str.contains(\"2020\").sum(), date.str.contains(\"2021\").sum()"
   ]
  },
  {
   "cell_type": "markdown",
   "metadata": {},
   "source": [
    "### ★ Groupby all observations using Date to see the average Score on each day "
   ]
  },
  {
   "cell_type": "code",
   "execution_count": 169,
   "metadata": {},
   "outputs": [
    {
     "data": {
      "text/html": [
       "<div>\n",
       "<style scoped>\n",
       "    .dataframe tbody tr th:only-of-type {\n",
       "        vertical-align: middle;\n",
       "    }\n",
       "\n",
       "    .dataframe tbody tr th {\n",
       "        vertical-align: top;\n",
       "    }\n",
       "\n",
       "    .dataframe thead th {\n",
       "        text-align: right;\n",
       "    }\n",
       "</style>\n",
       "<table border=\"1\" class=\"dataframe\">\n",
       "  <thead>\n",
       "    <tr style=\"text-align: right;\">\n",
       "      <th></th>\n",
       "      <th>UserFollowersCount</th>\n",
       "      <th>UserFollowingCount</th>\n",
       "      <th>ReplyCount</th>\n",
       "      <th>RetweetCount</th>\n",
       "      <th>LikeCount</th>\n",
       "      <th>Score</th>\n",
       "    </tr>\n",
       "    <tr>\n",
       "      <th>Date</th>\n",
       "      <th></th>\n",
       "      <th></th>\n",
       "      <th></th>\n",
       "      <th></th>\n",
       "      <th></th>\n",
       "      <th></th>\n",
       "    </tr>\n",
       "  </thead>\n",
       "  <tbody>\n",
       "    <tr>\n",
       "      <th>2010-01-01</th>\n",
       "      <td>2082.181818</td>\n",
       "      <td>1331.727273</td>\n",
       "      <td>0.000000</td>\n",
       "      <td>0.000000</td>\n",
       "      <td>0.000000</td>\n",
       "      <td>0.110445</td>\n",
       "    </tr>\n",
       "    <tr>\n",
       "      <th>2010-01-02</th>\n",
       "      <td>2414.250000</td>\n",
       "      <td>1593.500000</td>\n",
       "      <td>0.000000</td>\n",
       "      <td>0.000000</td>\n",
       "      <td>0.250000</td>\n",
       "      <td>0.234619</td>\n",
       "    </tr>\n",
       "    <tr>\n",
       "      <th>2010-01-03</th>\n",
       "      <td>2019.625000</td>\n",
       "      <td>1297.500000</td>\n",
       "      <td>0.000000</td>\n",
       "      <td>0.000000</td>\n",
       "      <td>0.000000</td>\n",
       "      <td>0.260956</td>\n",
       "    </tr>\n",
       "    <tr>\n",
       "      <th>2010-01-04</th>\n",
       "      <td>12562.666667</td>\n",
       "      <td>630.533333</td>\n",
       "      <td>0.000000</td>\n",
       "      <td>0.066667</td>\n",
       "      <td>0.044444</td>\n",
       "      <td>0.278325</td>\n",
       "    </tr>\n",
       "    <tr>\n",
       "      <th>2010-01-05</th>\n",
       "      <td>9420.153846</td>\n",
       "      <td>409.282051</td>\n",
       "      <td>0.000000</td>\n",
       "      <td>0.051282</td>\n",
       "      <td>0.000000</td>\n",
       "      <td>0.063722</td>\n",
       "    </tr>\n",
       "    <tr>\n",
       "      <th>...</th>\n",
       "      <td>...</td>\n",
       "      <td>...</td>\n",
       "      <td>...</td>\n",
       "      <td>...</td>\n",
       "      <td>...</td>\n",
       "      <td>...</td>\n",
       "    </tr>\n",
       "    <tr>\n",
       "      <th>2022-09-26</th>\n",
       "      <td>12153.876930</td>\n",
       "      <td>474.215266</td>\n",
       "      <td>0.756003</td>\n",
       "      <td>0.654803</td>\n",
       "      <td>8.443825</td>\n",
       "      <td>0.049181</td>\n",
       "    </tr>\n",
       "    <tr>\n",
       "      <th>2022-09-27</th>\n",
       "      <td>6640.073524</td>\n",
       "      <td>466.089784</td>\n",
       "      <td>0.726052</td>\n",
       "      <td>0.521739</td>\n",
       "      <td>6.569813</td>\n",
       "      <td>0.038724</td>\n",
       "    </tr>\n",
       "    <tr>\n",
       "      <th>2022-09-28</th>\n",
       "      <td>5026.257069</td>\n",
       "      <td>418.321704</td>\n",
       "      <td>0.676460</td>\n",
       "      <td>0.456115</td>\n",
       "      <td>5.610723</td>\n",
       "      <td>0.083828</td>\n",
       "    </tr>\n",
       "    <tr>\n",
       "      <th>2022-09-29</th>\n",
       "      <td>5060.410004</td>\n",
       "      <td>434.727273</td>\n",
       "      <td>0.733114</td>\n",
       "      <td>0.476086</td>\n",
       "      <td>5.618474</td>\n",
       "      <td>0.016636</td>\n",
       "    </tr>\n",
       "    <tr>\n",
       "      <th>2022-09-30</th>\n",
       "      <td>6330.234050</td>\n",
       "      <td>499.430550</td>\n",
       "      <td>0.795479</td>\n",
       "      <td>1.030623</td>\n",
       "      <td>9.649289</td>\n",
       "      <td>0.035113</td>\n",
       "    </tr>\n",
       "  </tbody>\n",
       "</table>\n",
       "<p>4648 rows × 6 columns</p>\n",
       "</div>"
      ],
      "text/plain": [
       "            UserFollowersCount  UserFollowingCount  ReplyCount  RetweetCount  \\\n",
       "Date                                                                           \n",
       "2010-01-01  2082.181818         1331.727273         0.000000    0.000000       \n",
       "2010-01-02  2414.250000         1593.500000         0.000000    0.000000       \n",
       "2010-01-03  2019.625000         1297.500000         0.000000    0.000000       \n",
       "2010-01-04  12562.666667        630.533333          0.000000    0.066667       \n",
       "2010-01-05  9420.153846         409.282051          0.000000    0.051282       \n",
       "...                  ...               ...               ...         ...       \n",
       "2022-09-26  12153.876930        474.215266          0.756003    0.654803       \n",
       "2022-09-27  6640.073524         466.089784          0.726052    0.521739       \n",
       "2022-09-28  5026.257069         418.321704          0.676460    0.456115       \n",
       "2022-09-29  5060.410004         434.727273          0.733114    0.476086       \n",
       "2022-09-30  6330.234050         499.430550          0.795479    1.030623       \n",
       "\n",
       "            LikeCount     Score  \n",
       "Date                             \n",
       "2010-01-01  0.000000   0.110445  \n",
       "2010-01-02  0.250000   0.234619  \n",
       "2010-01-03  0.000000   0.260956  \n",
       "2010-01-04  0.044444   0.278325  \n",
       "2010-01-05  0.000000   0.063722  \n",
       "...              ...        ...  \n",
       "2022-09-26  8.443825   0.049181  \n",
       "2022-09-27  6.569813   0.038724  \n",
       "2022-09-28  5.610723   0.083828  \n",
       "2022-09-29  5.618474   0.016636  \n",
       "2022-09-30  9.649289   0.035113  \n",
       "\n",
       "[4648 rows x 6 columns]"
      ]
     },
     "execution_count": 169,
     "metadata": {},
     "output_type": "execute_result"
    }
   ],
   "source": [
    "df = twitter.groupby('Date').mean()\n",
    "df"
   ]
  },
  {
   "cell_type": "code",
   "execution_count": 171,
   "metadata": {},
   "outputs": [
    {
     "data": {
      "text/plain": [
       "0.10142695195218987"
      ]
     },
     "execution_count": 171,
     "metadata": {},
     "output_type": "execute_result"
    }
   ],
   "source": [
    "# Mean values of scores for all time periods\n",
    "df[\"Score\"].mean()"
   ]
  },
  {
   "cell_type": "code",
   "execution_count": 103,
   "metadata": {},
   "outputs": [
    {
     "data": {
      "text/plain": [
       "<AxesSubplot:xlabel='Date'>"
      ]
     },
     "execution_count": 103,
     "metadata": {},
     "output_type": "execute_result"
    },
    {
     "data": {
      "image/png": "[encoded data removed]",
      "text/plain": [
       "<Figure size 640x480 with 1 Axes>"
      ]
     },
     "metadata": {},
     "output_type": "display_data"
    }
   ],
   "source": [
    "df['Score'].plot()"
   ]
  },
  {
   "cell_type": "markdown",
   "metadata": {},
   "source": [
    "### ☆ Check for Anomalies"
   ]
  },
  {
   "cell_type": "code",
   "execution_count": 172,
   "metadata": {},
   "outputs": [
    {
     "data": {
      "text/html": [
       "<div>\n",
       "<style scoped>\n",
       "    .dataframe tbody tr th:only-of-type {\n",
       "        vertical-align: middle;\n",
       "    }\n",
       "\n",
       "    .dataframe tbody tr th {\n",
       "        vertical-align: top;\n",
       "    }\n",
       "\n",
       "    .dataframe thead th {\n",
       "        text-align: right;\n",
       "    }\n",
       "</style>\n",
       "<table border=\"1\" class=\"dataframe\">\n",
       "  <thead>\n",
       "    <tr style=\"text-align: right;\">\n",
       "      <th></th>\n",
       "      <th>UserFollowersCount</th>\n",
       "      <th>UserFollowingCount</th>\n",
       "      <th>ReplyCount</th>\n",
       "      <th>RetweetCount</th>\n",
       "      <th>LikeCount</th>\n",
       "      <th>Score</th>\n",
       "    </tr>\n",
       "    <tr>\n",
       "      <th>Date</th>\n",
       "      <th></th>\n",
       "      <th></th>\n",
       "      <th></th>\n",
       "      <th></th>\n",
       "      <th></th>\n",
       "      <th></th>\n",
       "    </tr>\n",
       "  </thead>\n",
       "  <tbody>\n",
       "    <tr>\n",
       "      <th>2010-04-24</th>\n",
       "      <td>431.000000</td>\n",
       "      <td>515.500000</td>\n",
       "      <td>0.00000</td>\n",
       "      <td>0.000000</td>\n",
       "      <td>0.00000</td>\n",
       "      <td>0.948872</td>\n",
       "    </tr>\n",
       "    <tr>\n",
       "      <th>2010-08-07</th>\n",
       "      <td>10379.666667</td>\n",
       "      <td>751.666667</td>\n",
       "      <td>0.00000</td>\n",
       "      <td>0.000000</td>\n",
       "      <td>0.00000</td>\n",
       "      <td>0.833735</td>\n",
       "    </tr>\n",
       "    <tr>\n",
       "      <th>2010-11-06</th>\n",
       "      <td>25448.250000</td>\n",
       "      <td>501.000000</td>\n",
       "      <td>0.00000</td>\n",
       "      <td>0.000000</td>\n",
       "      <td>0.00000</td>\n",
       "      <td>0.865299</td>\n",
       "    </tr>\n",
       "    <tr>\n",
       "      <th>2018-04-01</th>\n",
       "      <td>12710.225352</td>\n",
       "      <td>18354.450704</td>\n",
       "      <td>0.15493</td>\n",
       "      <td>0.225352</td>\n",
       "      <td>0.71831</td>\n",
       "      <td>0.654479</td>\n",
       "    </tr>\n",
       "  </tbody>\n",
       "</table>\n",
       "</div>"
      ],
      "text/plain": [
       "            UserFollowersCount  UserFollowingCount  ReplyCount  RetweetCount  \\\n",
       "Date                                                                           \n",
       "2010-04-24  431.000000          515.500000          0.00000     0.000000       \n",
       "2010-08-07  10379.666667        751.666667          0.00000     0.000000       \n",
       "2010-11-06  25448.250000        501.000000          0.00000     0.000000       \n",
       "2018-04-01  12710.225352        18354.450704        0.15493     0.225352       \n",
       "\n",
       "            LikeCount     Score  \n",
       "Date                             \n",
       "2010-04-24  0.00000    0.948872  \n",
       "2010-08-07  0.00000    0.833735  \n",
       "2010-11-06  0.00000    0.865299  \n",
       "2018-04-01  0.71831    0.654479  "
      ]
     },
     "execution_count": 172,
     "metadata": {},
     "output_type": "execute_result"
    }
   ],
   "source": [
    "df.loc[df['Score'] > 0.65]"
   ]
  },
  {
   "cell_type": "code",
   "execution_count": 178,
   "metadata": {},
   "outputs": [
    {
     "data": {
      "text/plain": [
       "5716    fascinated to know how many of us have beat the $SPY over the last 2 months. All that hard work and the ETF beats us..aghh $$        \n",
       "5717    wow if this 3rd leg plays out which it sure looks like, the $SPY is going to 1380 on this recent rally. insane. check out the weekly.\n",
       "Name: Content, dtype: object"
      ]
     },
     "execution_count": 178,
     "metadata": {},
     "output_type": "execute_result"
    }
   ],
   "source": [
    "import datetime\n",
    "\n",
    "twitter.loc[twitter['Date'] == datetime.date(2010,4,24), 'Content']"
   ]
  },
  {
   "cell_type": "code",
   "execution_count": 182,
   "metadata": {},
   "outputs": [
    {
     "data": {
      "text/plain": [
       "14145    E: On my way out to enjoy the beautiful NYC day. Just wanted to tweet that getting neutral on $SPY. Few trades make my heart skip a bit.    \n",
       "14146    Dow rose 187.62 points,or 1.79% to 10653.56,Nasdaq gained 33.77 points,or 1.50% to 2288.47and S&P500 added 20.04 points,or 1.82% to 1121.64.\n",
       "14147    The MSCI Asia Pacific Index rose 2.8 percent this week to a three-month high of 122.40, its longest streak of weekly gains since April 2009.\n",
       "Name: Content, dtype: object"
      ]
     },
     "execution_count": 182,
     "metadata": {},
     "output_type": "execute_result"
    }
   ],
   "source": [
    "twitter.loc[twitter['Date'] == datetime.date(2010,8,7), 'Content']"
   ]
  },
  {
   "cell_type": "code",
   "execution_count": 183,
   "metadata": {},
   "outputs": [
    {
     "data": {
      "text/plain": [
       "21158    The best performing ETF for Nov. that we track is the iShares MSCI Hong Kong Index (Symbol: EWH) up 7.74%                                   \n",
       "21159    ...Instead, I'm looking for the markets to soar to new highs, which traditionally happens this time of year anyway Trade with the trend $SPY\n",
       "21160    August 2010: \\nEnrolled in a trading course with S&P 500 trader Larry Levin. I think I've learned a lot - now start trading S&P500 eminis.  \n",
       "21161    not gonna fail msci, hallelujah                                                                                                             \n",
       "Name: Content, dtype: object"
      ]
     },
     "execution_count": 183,
     "metadata": {},
     "output_type": "execute_result"
    }
   ],
   "source": [
    "twitter.loc[twitter['Date'] == datetime.date(2010,11,6), 'Content']"
   ]
  },
  {
   "cell_type": "code",
   "execution_count": 181,
   "metadata": {},
   "outputs": [
    {
     "data": {
      "text/plain": [
       "662412    Switched from $DUST over to $NUGT quickly today ...but missed some other long opportunities.  Can't be a die hard short in this market. $SPY\n",
       "662413    $SPY  Gap filled                                                                                                                            \n",
       "662414    $SPY  #stockmarkets Slow clap for the bulls Yellen really knows how to prop up a market higher. More delay will mean more pain when it drops\n",
       "662415    Tell you one thing .. on this April Fool's, the Joke was on shorts .. $ES_F $SPY $SPX                                                       \n",
       "662416    Markets o/n, US: S&amp;P500 +0.63%, DJIA +0.61%, Nasdaq +0.92%. Europe: Stoxx -1.72%, DAX -1.71%, CAC -1.43%, FTSE -0.47%.                  \n",
       "                                                                     ...                                                                              \n",
       "663091    $SPY $QQQ $IWM $DIA $TLSA $SUNE learning a failed methodology.  Think outside the box and rise above.  (part 3-the end)                     \n",
       "663092    $SPY $QQQ $IWM $DIA $TLSA $SUNE what are you learning the methods that are being consumed by everyone.  95% of traders fail; u are (part 2) \n",
       "663093    $SPY $QQQ $IWM $DIA $TLSA $SUNE but why are you following others if 95% of traders fail; the odds have it that you TOO will fail.  (part 1) \n",
       "663094    $spy thanks to fed pressure on dollar, commodities show relative strength (oil up despite buildup up). Correction better than another bubble\n",
       "663095    #Stocks being discussed significantly on the *message boards* today: $SFOR, $SPY, $TRTC, $TWTR, $NVNT and $VRX.                             \n",
       "Name: Content, Length: 671, dtype: object"
      ]
     },
     "execution_count": 181,
     "metadata": {},
     "output_type": "execute_result"
    }
   ],
   "source": [
    "twitter.loc[twitter['Date'] == datetime.date(2016,4,1), 'Content']"
   ]
  },
  {
   "cell_type": "code",
   "execution_count": 189,
   "metadata": {},
   "outputs": [
    {
     "data": {
      "text/html": [
       "<div>\n",
       "<style scoped>\n",
       "    .dataframe tbody tr th:only-of-type {\n",
       "        vertical-align: middle;\n",
       "    }\n",
       "\n",
       "    .dataframe tbody tr th {\n",
       "        vertical-align: top;\n",
       "    }\n",
       "\n",
       "    .dataframe thead th {\n",
       "        text-align: right;\n",
       "    }\n",
       "</style>\n",
       "<table border=\"1\" class=\"dataframe\">\n",
       "  <thead>\n",
       "    <tr style=\"text-align: right;\">\n",
       "      <th></th>\n",
       "      <th>UserFollowersCount</th>\n",
       "      <th>UserFollowingCount</th>\n",
       "      <th>ReplyCount</th>\n",
       "      <th>RetweetCount</th>\n",
       "      <th>LikeCount</th>\n",
       "      <th>Score</th>\n",
       "    </tr>\n",
       "    <tr>\n",
       "      <th>Date</th>\n",
       "      <th></th>\n",
       "      <th></th>\n",
       "      <th></th>\n",
       "      <th></th>\n",
       "      <th></th>\n",
       "      <th></th>\n",
       "    </tr>\n",
       "  </thead>\n",
       "  <tbody>\n",
       "    <tr>\n",
       "      <th>2010-01-30</th>\n",
       "      <td>1291.555556</td>\n",
       "      <td>1545.888889</td>\n",
       "      <td>0.000000</td>\n",
       "      <td>0.000000</td>\n",
       "      <td>0.000000</td>\n",
       "      <td>-0.394419</td>\n",
       "    </tr>\n",
       "    <tr>\n",
       "      <th>2010-04-17</th>\n",
       "      <td>80048.250000</td>\n",
       "      <td>622.000000</td>\n",
       "      <td>0.000000</td>\n",
       "      <td>0.000000</td>\n",
       "      <td>0.000000</td>\n",
       "      <td>-0.299152</td>\n",
       "    </tr>\n",
       "    <tr>\n",
       "      <th>2010-07-18</th>\n",
       "      <td>48238.000000</td>\n",
       "      <td>2412.200000</td>\n",
       "      <td>0.000000</td>\n",
       "      <td>0.000000</td>\n",
       "      <td>0.000000</td>\n",
       "      <td>-0.284490</td>\n",
       "    </tr>\n",
       "    <tr>\n",
       "      <th>2010-10-30</th>\n",
       "      <td>1521.333333</td>\n",
       "      <td>1756.000000</td>\n",
       "      <td>0.000000</td>\n",
       "      <td>0.000000</td>\n",
       "      <td>0.000000</td>\n",
       "      <td>-0.283659</td>\n",
       "    </tr>\n",
       "    <tr>\n",
       "      <th>2011-04-16</th>\n",
       "      <td>328.400000</td>\n",
       "      <td>500.400000</td>\n",
       "      <td>0.000000</td>\n",
       "      <td>0.000000</td>\n",
       "      <td>0.000000</td>\n",
       "      <td>-0.320376</td>\n",
       "    </tr>\n",
       "    <tr>\n",
       "      <th>2011-07-16</th>\n",
       "      <td>38911.222222</td>\n",
       "      <td>1855.555556</td>\n",
       "      <td>0.111111</td>\n",
       "      <td>0.111111</td>\n",
       "      <td>0.000000</td>\n",
       "      <td>-0.298998</td>\n",
       "    </tr>\n",
       "    <tr>\n",
       "      <th>2012-07-07</th>\n",
       "      <td>3267.300000</td>\n",
       "      <td>889.400000</td>\n",
       "      <td>0.050000</td>\n",
       "      <td>0.050000</td>\n",
       "      <td>0.050000</td>\n",
       "      <td>-0.343020</td>\n",
       "    </tr>\n",
       "    <tr>\n",
       "      <th>2018-02-03</th>\n",
       "      <td>7814.365269</td>\n",
       "      <td>2603.377246</td>\n",
       "      <td>0.323353</td>\n",
       "      <td>0.736527</td>\n",
       "      <td>1.766467</td>\n",
       "      <td>-0.271939</td>\n",
       "    </tr>\n",
       "  </tbody>\n",
       "</table>\n",
       "</div>"
      ],
      "text/plain": [
       "            UserFollowersCount  UserFollowingCount  ReplyCount  RetweetCount  \\\n",
       "Date                                                                           \n",
       "2010-01-30  1291.555556         1545.888889         0.000000    0.000000       \n",
       "2010-04-17  80048.250000        622.000000          0.000000    0.000000       \n",
       "2010-07-18  48238.000000        2412.200000         0.000000    0.000000       \n",
       "2010-10-30  1521.333333         1756.000000         0.000000    0.000000       \n",
       "2011-04-16  328.400000          500.400000          0.000000    0.000000       \n",
       "2011-07-16  38911.222222        1855.555556         0.111111    0.111111       \n",
       "2012-07-07  3267.300000         889.400000          0.050000    0.050000       \n",
       "2018-02-03  7814.365269         2603.377246         0.323353    0.736527       \n",
       "\n",
       "            LikeCount     Score  \n",
       "Date                             \n",
       "2010-01-30  0.000000  -0.394419  \n",
       "2010-04-17  0.000000  -0.299152  \n",
       "2010-07-18  0.000000  -0.284490  \n",
       "2010-10-30  0.000000  -0.283659  \n",
       "2011-04-16  0.000000  -0.320376  \n",
       "2011-07-16  0.000000  -0.298998  \n",
       "2012-07-07  0.050000  -0.343020  \n",
       "2018-02-03  1.766467  -0.271939  "
      ]
     },
     "execution_count": 189,
     "metadata": {},
     "output_type": "execute_result"
    }
   ],
   "source": [
    "df.loc[df['Score'] < -0.25]"
   ]
  },
  {
   "cell_type": "code",
   "execution_count": 195,
   "metadata": {},
   "outputs": [
    {
     "data": {
      "text/plain": [
       "47483    Another CEO falls in the News Corp phone hacking scandal. It's sad that it took a public outcry to scare the corporation straight. #dowjones\n",
       "47484    FYI #Murdoch's norm way to hire non US citizens to work in US for #dowjones #Newscorp is by encouraging a lie on I visa  and employees I-9  \n",
       "47485    WARNING TO SHORTS - Indicators suggest a significant equity rally is now likely - $ES_F $SPY $SPX $EURUSD $$ - [Jul. 15 at 11:16 PM]        \n",
       "47486    Long Term Market Analysis: Equities Toppish, Gold and Silver Bull! $GDX $SPY $SLV: Drizzt: long term market analysis is a series once or…   \n",
       "47487    U.S. Markets are closed. Dow30 +0.34% S&P500 +0.56% NASDAQ100 +0.98%                                                                        \n",
       "47488    RT @mranti RT @dkberman: Breaking from WSJ: DowJones CEO Les Hinton is stepping down, latest resignation in hacking scandal.                \n",
       "47489    RT @dkberman: Breaking from WSJ: DowJones CEO Les Hinton is stepping down, latest resignation in hacking scandal.                           \n",
       "47490    Tough day. Last day at DowJones. A memorial service. I need another drink. Or two.                                                          \n",
       "47491    Les Hinton, CEO of #DowJones and publisher of the #WallStreetJournal resigns from the company.                                              \n",
       "Name: Content, dtype: object"
      ]
     },
     "execution_count": 195,
     "metadata": {},
     "output_type": "execute_result"
    }
   ],
   "source": [
    "twitter.loc[twitter['Date'] == datetime.date(2011,7,16), 'Content'] #9"
   ]
  },
  {
   "cell_type": "code",
   "execution_count": 201,
   "metadata": {},
   "outputs": [
    {
     "data": {
      "text/plain": [
       "138831    Not to mention fires in the West, power outages in the East, if you don't short retail you're a moron. IMHO. $SPY $TLT $GLD #yesitsSaturday     \n",
       "138832    I know it's Saturday but this #heatwave gonna put a damper on the economy when the A/C bills roll in IMHO. #longhotsummer $SPY $TLT $GLD        \n",
       "138833    MTS: New option trade on $BAC is posted. $SPY $XLF  #stocks #options #trading                                                                   \n",
       "138834    *spoiler alert--- this is all a dream $spy$iwm$vix                                                                                              \n",
       "138835    Top Stock searches on message boards and Twitter: $MIMV $AAPL $BCND $AA $SPY (01:30 pm) #stocks #finance #stockmarket #StockPicks               \n",
       "138836    Anyone else notice how FLAT those recently FALLING 50sma(s) are getting? Constructive $$ $SPY $IWM $QQQ $DIA                                    \n",
       "138837    Not sure why ppl are obsessed with the S&amp;P500 &amp; the $SPY. Too much noise. You would rather monitor the Nasdaq and the $QQQ              \n",
       "138838    people who can't trade, run workshops. $SPY $QQQ $AAPL                                                                                          \n",
       "138839    Top Stock searches on message boards and Twitter: $MIMV $SPY $AAPL $JPM $AA (09:30 am) #stocks #finance #stockmarket #StockPicks                \n",
       "138840    banks, weak multinationals, tech companies that rely heavy on government spending and European spending are all suspect thus quarter $spy       \n",
       "138841    Last week review: #Bitcoin up +1.2%, Stocks down about -1% (S&amp;P500). This trend will likely continue in the future.                         \n",
       "138842    Dow,S&amp;P500 closed lower on weak US employment data for June;Nasdaq managed to gain for 5th week                                             \n",
       "138843    This NFP was 3rd disappointing in a row. With Europe recession, China slowdown, will the FED want to wait--take chances. Or TAKE ACTION $SPY    \n",
       "138844    NFP Jobs report seems perfectly bad for the stock market: no evidence jobs will improve &amp; no assrance FED will ride to rescue w/QE3. $SPY   \n",
       "138845    In Europe, it seems policymakers are always a day late and a euro short. Or they announce  a step forward, then back off. $FXE $SPY $PCLN       \n",
       "138846    Whole Fed disc after jobs report is such a ridiculous non sequitur. Neutral jobs report gets us no closer to #QE3 than we were yestrday $SPY    \n",
       "138847    $spy $tlt - the struggle continues with $tlt winning                                                                                            \n",
       "138848    The S&amp;P500 gave up 12.90 points to 1354.68. The Nasdaq eased 38.79 points, or 1.3%, to 2937.33, but booked its fifth-straight week of gains.\n",
       "138849    Scaled out of remaining 50% of Aug $SLV 28 puts, and 100% of July QQQ 65 puts, $USO July 33 puts, $SPY July 136 puts, and $XLF July 15 Puts     \n",
       "138850    Scary statistic: For every S&amp;P500 member upgrading guidance for current quarter, 3.6 cut expectations - the highest ratio in over a decade  \n",
       "Name: Content, dtype: object"
      ]
     },
     "execution_count": 201,
     "metadata": {},
     "output_type": "execute_result"
    }
   ],
   "source": [
    "twitter.loc[twitter['Date'] == datetime.date(2012,7,7), 'Content'] # 20"
   ]
  },
  {
   "cell_type": "code",
   "execution_count": 198,
   "metadata": {},
   "outputs": [
    {
     "data": {
      "text/plain": [
       "869144    $SPX $SPY $DIA $QQQ Trend is ur friend but stoploss/hedge/exit plan is ur BEST FRIEND! Best friend will protect u from bad friends n serve you well in long run!                                                                                                                       \n",
       "869145    ITCHIN for market open Sunday night... interesting week ahead $djia $spy $qqq $vix                                                                                                                                                                                                     \n",
       "869146    My ongoing watchlist flourishes at the intersection of tradable liquidity and top 20% of 3-month volatility and a history of sweet swings. 4 stocks were green Friday... out of 58. $spy                                                                                               \n",
       "869147    No one seems very worried about the selloff Friday in the $SPY and other indexes. Wouldn’t be surprised to see some follow through Monday as markets rarely bottom on a Friday and then see a rally back as the fact that there’s still no where else to invest sets in #stocks #market\n",
       "869148    $SPY $IWM etc the pullback start with reversal Mon, gap down the following day and Friday the follow through. Lots more unwinding needed                                                                                                                                               \n",
       "                                                                            ...                                                                                                                                                                                                                  \n",
       "869306    $SPY I could spend the entire weekend putting together bear charts but I'm not sure that would benefit. Instead will focus on major indexes.                                                                                                                                           \n",
       "869307    666, huh, Dow? “That’s it, I’m going home, you can keep your money, Wang.” #DowJones #sixdemonbag #JackBurtonSays                                                                                                                                                                      \n",
       "869308    Hey @realDonaldTrump, talk to us about one of the worst Dow losses in history today. #DumbAndMum #DowJones The Dow tanks...#MoronDon is silent.                                                                                                                                        \n",
       "869309    Hey @BarackObama imagine the #DowJones ENDING on 666 on your watch and what the right wing would have to say about it. I'd imagine they'd go cray cray.                                                                                                                                \n",
       "869310    #MemoDay fell on the same Friday that the #DOWJones closed on its worst week in two years...\\n\\nI'm not that cynical. Am I that cynical...?                                                                                                                                            \n",
       "Name: Content, Length: 167, dtype: object"
      ]
     },
     "execution_count": 198,
     "metadata": {},
     "output_type": "execute_result"
    }
   ],
   "source": [
    "twitter.loc[twitter['Date'] == datetime.date(2018,2,3), 'Content'] # 167"
   ]
  },
  {
   "cell_type": "markdown",
   "metadata": {},
   "source": [
    "### ★ Export score variable for modeling"
   ]
  },
  {
   "cell_type": "code",
   "execution_count": 204,
   "metadata": {},
   "outputs": [
    {
     "data": {
      "text/plain": [
       "Date\n",
       "2010-01-01    0.110445\n",
       "2010-01-02    0.234619\n",
       "2010-01-03    0.260956\n",
       "2010-01-04    0.278325\n",
       "2010-01-05    0.063722\n",
       "Name: Score, dtype: float64"
      ]
     },
     "execution_count": 204,
     "metadata": {},
     "output_type": "execute_result"
    }
   ],
   "source": [
    "df_out = df.loc[:,'Score']\n",
    "df_out.head()"
   ]
  },
  {
   "cell_type": "code",
   "execution_count": 206,
   "metadata": {},
   "outputs": [],
   "source": [
    "df_out.to_csv(\"./sent_score.csv\", index = True)"
   ]
  },
  {
   "cell_type": "code",
   "execution_count": null,
   "metadata": {},
   "outputs": [],
   "source": []
  },
  {
   "cell_type": "code",
   "execution_count": null,
   "metadata": {},
   "outputs": [],
   "source": []
  }
 ],
 "metadata": {
  "kernelspec": {
   "display_name": "Python 3.8.13 ('sentiment')",
   "language": "python",
   "name": "python3"
  },
  "language_info": {
   "codemirror_mode": {
    "name": "ipython",
    "version": 3
   },
   "file_extension": ".py",
   "mimetype": "text/x-python",
   "name": "python",
   "nbconvert_exporter": "python",
   "pygments_lexer": "ipython3",
   "version": "3.8.13"
  },
  "orig_nbformat": 4,
  "vscode": {
   "interpreter": {
    "hash": "f6f927a2c3b59118cd126de5d7566f7da83ad914a79b0f63a48fca795f9800fd"
   }
  }
 },
 "nbformat": 4,
 "nbformat_minor": 2
}
